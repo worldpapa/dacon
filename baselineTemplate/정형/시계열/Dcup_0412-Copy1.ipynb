{
 "cells": [
  {
   "cell_type": "code",
   "execution_count": 1,
   "id": "61b5f94c-9ef9-4ffd-a9ba-9de933920bab",
   "metadata": {},
   "outputs": [
    {
     "data": {
      "text/plain": [
       "(822, 5)"
      ]
     },
     "execution_count": 1,
     "metadata": {},
     "output_type": "execute_result"
    }
   ],
   "source": [
    "import pandas as pd ## pandas 라이브러리를 가져오기 위하여 import를 해줍니다.\n",
    "import os\n",
    "import matplotlib.pyplot as plt\n",
    "\n",
    "# csv 형식으로 된 데이터 파일을 읽어옵니다.\n",
    "df = pd.read_csv('df.csv')\n",
    "              \n",
    "# 데이터의 최상단 5 줄을 표시합니다.\n",
    "df.shape"
   ]
  },
  {
   "cell_type": "code",
   "execution_count": 2,
   "id": "bda7fa02-f633-4bdf-8128-4ed72a192753",
   "metadata": {},
   "outputs": [],
   "source": [
    "df.set_index('DateTime',inplace = True)"
   ]
  },
  {
   "cell_type": "code",
   "execution_count": 3,
   "id": "558dfa69-3bc1-45ba-9bda-4cb490e19c38",
   "metadata": {},
   "outputs": [
    {
     "data": {
      "text/html": [
       "<div>\n",
       "<style scoped>\n",
       "    .dataframe tbody tr th:only-of-type {\n",
       "        vertical-align: middle;\n",
       "    }\n",
       "\n",
       "    .dataframe tbody tr th {\n",
       "        vertical-align: top;\n",
       "    }\n",
       "\n",
       "    .dataframe thead th {\n",
       "        text-align: right;\n",
       "    }\n",
       "</style>\n",
       "<table border=\"1\" class=\"dataframe\">\n",
       "  <thead>\n",
       "    <tr style=\"text-align: right;\">\n",
       "      <th></th>\n",
       "      <th>사용자</th>\n",
       "      <th>세션</th>\n",
       "      <th>신규방문자</th>\n",
       "      <th>페이지뷰</th>\n",
       "    </tr>\n",
       "    <tr>\n",
       "      <th>DateTime</th>\n",
       "      <th></th>\n",
       "      <th></th>\n",
       "      <th></th>\n",
       "      <th></th>\n",
       "    </tr>\n",
       "  </thead>\n",
       "  <tbody>\n",
       "    <tr>\n",
       "      <th>2018-09-09</th>\n",
       "      <td>281</td>\n",
       "      <td>266</td>\n",
       "      <td>73</td>\n",
       "      <td>1826</td>\n",
       "    </tr>\n",
       "    <tr>\n",
       "      <th>2018-09-10</th>\n",
       "      <td>264</td>\n",
       "      <td>247</td>\n",
       "      <td>51</td>\n",
       "      <td>2092</td>\n",
       "    </tr>\n",
       "    <tr>\n",
       "      <th>2018-09-11</th>\n",
       "      <td>329</td>\n",
       "      <td>310</td>\n",
       "      <td>58</td>\n",
       "      <td>1998</td>\n",
       "    </tr>\n",
       "    <tr>\n",
       "      <th>2018-09-12</th>\n",
       "      <td>300</td>\n",
       "      <td>287</td>\n",
       "      <td>45</td>\n",
       "      <td>2595</td>\n",
       "    </tr>\n",
       "    <tr>\n",
       "      <th>2018-09-13</th>\n",
       "      <td>378</td>\n",
       "      <td>344</td>\n",
       "      <td>50</td>\n",
       "      <td>3845</td>\n",
       "    </tr>\n",
       "    <tr>\n",
       "      <th>...</th>\n",
       "      <td>...</td>\n",
       "      <td>...</td>\n",
       "      <td>...</td>\n",
       "      <td>...</td>\n",
       "    </tr>\n",
       "    <tr>\n",
       "      <th>2020-12-04</th>\n",
       "      <td>3189</td>\n",
       "      <td>3068</td>\n",
       "      <td>743</td>\n",
       "      <td>75730</td>\n",
       "    </tr>\n",
       "    <tr>\n",
       "      <th>2020-12-05</th>\n",
       "      <td>2055</td>\n",
       "      <td>2019</td>\n",
       "      <td>497</td>\n",
       "      <td>47638</td>\n",
       "    </tr>\n",
       "    <tr>\n",
       "      <th>2020-12-06</th>\n",
       "      <td>2119</td>\n",
       "      <td>2077</td>\n",
       "      <td>460</td>\n",
       "      <td>46914</td>\n",
       "    </tr>\n",
       "    <tr>\n",
       "      <th>2020-12-07</th>\n",
       "      <td>2979</td>\n",
       "      <td>2988</td>\n",
       "      <td>753</td>\n",
       "      <td>77443</td>\n",
       "    </tr>\n",
       "    <tr>\n",
       "      <th>2020-12-08</th>\n",
       "      <td>3033</td>\n",
       "      <td>2990</td>\n",
       "      <td>772</td>\n",
       "      <td>68857</td>\n",
       "    </tr>\n",
       "  </tbody>\n",
       "</table>\n",
       "<p>822 rows × 4 columns</p>\n",
       "</div>"
      ],
      "text/plain": [
       "             사용자    세션  신규방문자   페이지뷰\n",
       "DateTime                            \n",
       "2018-09-09   281   266     73   1826\n",
       "2018-09-10   264   247     51   2092\n",
       "2018-09-11   329   310     58   1998\n",
       "2018-09-12   300   287     45   2595\n",
       "2018-09-13   378   344     50   3845\n",
       "...          ...   ...    ...    ...\n",
       "2020-12-04  3189  3068    743  75730\n",
       "2020-12-05  2055  2019    497  47638\n",
       "2020-12-06  2119  2077    460  46914\n",
       "2020-12-07  2979  2988    753  77443\n",
       "2020-12-08  3033  2990    772  68857\n",
       "\n",
       "[822 rows x 4 columns]"
      ]
     },
     "execution_count": 3,
     "metadata": {},
     "output_type": "execute_result"
    }
   ],
   "source": [
    "df"
   ]
  },
  {
   "cell_type": "markdown",
   "id": "7577f01c-eaf8-46be-891d-a5f2f1e9107d",
   "metadata": {},
   "source": [
    "### 정상성 (Stationary time series) 확인"
   ]
  },
  {
   "cell_type": "markdown",
   "id": "e7ed3bf7-acdb-4133-a231-1a185f26b305",
   "metadata": {},
   "source": [
    "VAR을 적용시켜보기 전에 시계열 변수들이 모두 stationay 상태이어야 합니다.   \n",
    "시계열 데이터가 일정한 평균과 분산을 나타내지 않으면 변수는 unstationay 상태입니다.   \n",
    "AIC 기준을 사용하여 데이터의 stationarity를 찾기 위해 ADF(Advanced Dickey-Fuller test)와 같은 통계적 테스트를 수행해보겠습니다."
   ]
  },
  {
   "cell_type": "code",
   "execution_count": 4,
   "id": "ae0c3805-7b1f-4c06-969a-db28ff4a3d2b",
   "metadata": {},
   "outputs": [],
   "source": [
    "from statsmodels.tsa.stattools import adfuller\n",
    "\n",
    "def pvalue(col, df):\n",
    "    adfuller_test = adfuller(df[col], autolag= \"AIC\")\n",
    "    print(col, \"ADF test statistic: {}\".format(adfuller_test[0]))\n",
    "    print(col, \"p-value: {}\".format(adfuller_test[1]))"
   ]
  },
  {
   "cell_type": "code",
   "execution_count": 5,
   "id": "adead7b4-1cf5-4653-9937-821fbdc779ed",
   "metadata": {},
   "outputs": [
    {
     "name": "stdout",
     "output_type": "stream",
     "text": [
      "사용자 ADF test statistic: -0.6097050340416731\n",
      "사용자 p-value: 0.8687739727060741\n",
      "\n",
      "세션 ADF test statistic: -0.6625133950334622\n",
      "세션 p-value: 0.8562219921273279\n",
      "\n",
      "신규방문자 ADF test statistic: -0.9128235010313065\n",
      "신규방문자 p-value: 0.783720126863696\n",
      "\n",
      "페이지뷰 ADF test statistic: -0.9745132573213693\n",
      "페이지뷰 p-value: 0.7624461485458697\n",
      "\n"
     ]
    }
   ],
   "source": [
    "for i in df.columns[:]:\n",
    "    pvalue(i, df)\n",
    "    print(\"\")"
   ]
  },
  {
   "cell_type": "markdown",
   "id": "38254a94-4e2a-4072-a41a-e90b72609306",
   "metadata": {},
   "source": [
    "모두 p-value가 0.05(5%) 보다 크므로 충분히 유의미한 값을 가지지 않아 귀무가설(null hypothesis : 시계열이 안정적이지 않다.)을 기각할 수 없고 \n",
    "\n",
    "모든 시계열이 안정적이지 않다고 결론을 내릴 수 있습니다."
   ]
  },
  {
   "cell_type": "markdown",
   "id": "61d2c85e-9ef0-4201-948c-50ec2f1ed6a3",
   "metadata": {},
   "source": [
    "## differencing / 차분\n",
    "\n",
    "두 시계열 데이터는 모두 stationary 상태가 아니기 때문에 차분을 취하고 나서 stationary를 확인해봅시다."
   ]
  },
  {
   "cell_type": "code",
   "execution_count": 6,
   "id": "0ab42ecd-4936-4b03-ba14-133ee0cfaf02",
   "metadata": {},
   "outputs": [],
   "source": [
    "df_diff = df.diff().dropna()"
   ]
  },
  {
   "cell_type": "code",
   "execution_count": 7,
   "id": "e9157855-fea7-4670-856d-5048fbd0d2fa",
   "metadata": {},
   "outputs": [
    {
     "name": "stdout",
     "output_type": "stream",
     "text": [
      "사용자 ADF test statistic: -9.054672080328137\n",
      "사용자 p-value: 4.736791422734554e-15\n",
      "\n",
      "세션 ADF test statistic: -9.267893373277204\n",
      "세션 p-value: 1.3513729779681978e-15\n",
      "\n",
      "신규방문자 ADF test statistic: -10.360959909235712\n",
      "신규방문자 p-value: 2.3972479821125685e-18\n",
      "\n",
      "페이지뷰 ADF test statistic: -6.478444444199399\n",
      "페이지뷰 p-value: 1.3132077538743404e-08\n",
      "\n"
     ]
    }
   ],
   "source": [
    "for i in df_diff.columns[:]:\n",
    "    pvalue(i, df_diff)\n",
    "    print(\"\")"
   ]
  },
  {
   "cell_type": "markdown",
   "id": "dbcfe35c-8470-42a1-aea5-b436a85cc38e",
   "metadata": {},
   "source": [
    "차분 결과, p-value 값이 모두 0.05보다 작으므로 모든 시계열이 안정적이게 되었다고 볼 수 있습니다."
   ]
  },
  {
   "cell_type": "markdown",
   "id": "e79ab114-ad14-4a44-a1c8-1d9f69b5ebf5",
   "metadata": {},
   "source": [
    "### Modeling"
   ]
  },
  {
   "cell_type": "code",
   "execution_count": 8,
   "id": "ffe6375e-3144-452b-9635-3ac1efca1d28",
   "metadata": {},
   "outputs": [],
   "source": [
    "train = df_diff.iloc[:-10,:]\n",
    "test = df_diff.iloc[-10:,:]"
   ]
  },
  {
   "cell_type": "markdown",
   "id": "96eee3d3-572f-4376-809b-fa8f933dba25",
   "metadata": {},
   "source": [
    "grid-search를 수행해서 최적의 순서 p를 조사해보겠습니다."
   ]
  },
  {
   "cell_type": "code",
   "execution_count": 9,
   "id": "186a9241-4b49-4bae-9b25-5300ad3046a8",
   "metadata": {},
   "outputs": [
    {
     "name": "stderr",
     "output_type": "stream",
     "text": [
      "/home/ubuntu/anaconda3/envs/world/lib/python3.8/site-packages/statsmodels/tsa/base/tsa_model.py:471: ValueWarning: No frequency information was provided, so inferred frequency D will be used.\n",
      "  self._init_dates(dates, freq)\n"
     ]
    }
   ],
   "source": [
    "from statsmodels.tsa.api import VAR\n",
    "\n",
    "forecasting_model = VAR(train)\n",
    "results_aic = []\n",
    "for p in range(1,10):\n",
    "  results = forecasting_model.fit(p)\n",
    "  results_aic.append(results.aic)"
   ]
  },
  {
   "cell_type": "markdown",
   "id": "9422d8a8-3c29-4724-bb4c-b0a9c2c6c8a8",
   "metadata": {},
   "source": [
    "위 코드의 첫 번째 줄에서 VAR 모델을 학습시킵니다.\n",
    "\n",
    "나머지 줄에서는 1부터 10까지 적합한 순서에 대한 AIC 점수를 찾기 위해 반복문을 통해 grid-search를 합니다."
   ]
  },
  {
   "cell_type": "code",
   "execution_count": 10,
   "id": "72a49448-4153-4d16-89ba-191faecfb7cb",
   "metadata": {},
   "outputs": [
    {
     "data": {
      "image/png": "[encoded data removed]",
      "text/plain": [
       "<Figure size 432x288 with 1 Axes>"
      ]
     },
     "metadata": {},
     "output_type": "display_data"
    }
   ],
   "source": [
    "import matplotlib.pyplot as plt\n",
    "import seaborn as sns\n",
    "import numpy as np\n",
    "\n",
    "sns.set()\n",
    "plt.plot(list(np.arange(1,10,1)), results_aic)\n",
    "plt.xlabel(\"Order\")\n",
    "plt.ylabel(\"AIC\")\n",
    "plt.show()"
   ]
  },
  {
   "cell_type": "markdown",
   "id": "1599f9a4-fee1-48aa-8986-59cbf5a50e0d",
   "metadata": {},
   "source": [
    "AIC는 주어진 데이터 셋에 대한 통계 모델의 상대적인 품질을 평가합니다.   \n",
    "결과 그래프에서 AIC가 낮을 수록 모형의 적합도가 높으므로,   \n",
    "가장 낮은 AIC 점수는 7이고    \n",
    "그 이후 p가 커짐에 따라 증가 추세를 보입니다.\n",
    "따라서 VAR모델의 최적 순서는 7로 선택합니다.\n",
    "예측 모형에 순서 7로 fit 시키고 요약 결과를 살펴봅시다."
   ]
  },
  {
   "cell_type": "code",
   "execution_count": 11,
   "id": "4eede5b2-03bd-4781-bdc3-217eaaf5a6e8",
   "metadata": {},
   "outputs": [],
   "source": [
    "results = forecasting_model.fit(7)\n",
    "#results.summary()"
   ]
  },
  {
   "cell_type": "markdown",
   "id": "42073feb-079f-412a-83f5-2f3d0629a704",
   "metadata": {},
   "source": [
    "위에서 도출한 것처럼 VAR모델을 맞추는데 최적의 순서로 7을 사용합니다.\n",
    "\n",
    "학습된 모델에 7일 동안의 훈련을 넣어 향후 10일 동안의 테스트 데이터를 예측해봅시다."
   ]
  },
  {
   "cell_type": "code",
   "execution_count": 12,
   "id": "3c5d4b6a-4e4b-4657-aede-293e981a2b1b",
   "metadata": {},
   "outputs": [
    {
     "data": {
      "text/html": [
       "<div>\n",
       "<style scoped>\n",
       "    .dataframe tbody tr th:only-of-type {\n",
       "        vertical-align: middle;\n",
       "    }\n",
       "\n",
       "    .dataframe tbody tr th {\n",
       "        vertical-align: top;\n",
       "    }\n",
       "\n",
       "    .dataframe thead th {\n",
       "        text-align: right;\n",
       "    }\n",
       "</style>\n",
       "<table border=\"1\" class=\"dataframe\">\n",
       "  <thead>\n",
       "    <tr style=\"text-align: right;\">\n",
       "      <th></th>\n",
       "      <th>사용자_1d</th>\n",
       "      <th>세션_1d</th>\n",
       "      <th>신규방문자_1d</th>\n",
       "      <th>페이지뷰_1d</th>\n",
       "    </tr>\n",
       "    <tr>\n",
       "      <th>DateTime</th>\n",
       "      <th></th>\n",
       "      <th></th>\n",
       "      <th></th>\n",
       "      <th></th>\n",
       "    </tr>\n",
       "  </thead>\n",
       "  <tbody>\n",
       "    <tr>\n",
       "      <th>2020-11-29</th>\n",
       "      <td>-185.497756</td>\n",
       "      <td>-173.571059</td>\n",
       "      <td>-81.893277</td>\n",
       "      <td>-4737.289314</td>\n",
       "    </tr>\n",
       "    <tr>\n",
       "      <th>2020-11-30</th>\n",
       "      <td>1330.577736</td>\n",
       "      <td>1317.577201</td>\n",
       "      <td>348.175487</td>\n",
       "      <td>36346.568373</td>\n",
       "    </tr>\n",
       "    <tr>\n",
       "      <th>2020-12-01</th>\n",
       "      <td>291.519428</td>\n",
       "      <td>295.280970</td>\n",
       "      <td>102.931184</td>\n",
       "      <td>7829.073487</td>\n",
       "    </tr>\n",
       "    <tr>\n",
       "      <th>2020-12-02</th>\n",
       "      <td>-92.559798</td>\n",
       "      <td>-110.453361</td>\n",
       "      <td>-10.594575</td>\n",
       "      <td>-2791.108340</td>\n",
       "    </tr>\n",
       "    <tr>\n",
       "      <th>2020-12-03</th>\n",
       "      <td>-142.265395</td>\n",
       "      <td>-124.853105</td>\n",
       "      <td>-64.206409</td>\n",
       "      <td>-4739.224716</td>\n",
       "    </tr>\n",
       "    <tr>\n",
       "      <th>2020-12-04</th>\n",
       "      <td>-231.172721</td>\n",
       "      <td>-225.783253</td>\n",
       "      <td>-62.027470</td>\n",
       "      <td>-5617.297096</td>\n",
       "    </tr>\n",
       "    <tr>\n",
       "      <th>2020-12-05</th>\n",
       "      <td>-703.714143</td>\n",
       "      <td>-705.286858</td>\n",
       "      <td>-188.528100</td>\n",
       "      <td>-17969.578620</td>\n",
       "    </tr>\n",
       "    <tr>\n",
       "      <th>2020-12-06</th>\n",
       "      <td>-106.631367</td>\n",
       "      <td>-103.831092</td>\n",
       "      <td>-30.695347</td>\n",
       "      <td>-3365.198926</td>\n",
       "    </tr>\n",
       "    <tr>\n",
       "      <th>2020-12-07</th>\n",
       "      <td>860.413459</td>\n",
       "      <td>850.224620</td>\n",
       "      <td>226.260626</td>\n",
       "      <td>23358.501753</td>\n",
       "    </tr>\n",
       "    <tr>\n",
       "      <th>2020-12-08</th>\n",
       "      <td>352.780492</td>\n",
       "      <td>349.894609</td>\n",
       "      <td>120.021742</td>\n",
       "      <td>9303.865995</td>\n",
       "    </tr>\n",
       "  </tbody>\n",
       "</table>\n",
       "</div>"
      ],
      "text/plain": [
       "                 사용자_1d        세션_1d    신규방문자_1d       페이지뷰_1d\n",
       "DateTime                                                      \n",
       "2020-11-29  -185.497756  -173.571059  -81.893277  -4737.289314\n",
       "2020-11-30  1330.577736  1317.577201  348.175487  36346.568373\n",
       "2020-12-01   291.519428   295.280970  102.931184   7829.073487\n",
       "2020-12-02   -92.559798  -110.453361  -10.594575  -2791.108340\n",
       "2020-12-03  -142.265395  -124.853105  -64.206409  -4739.224716\n",
       "2020-12-04  -231.172721  -225.783253  -62.027470  -5617.297096\n",
       "2020-12-05  -703.714143  -705.286858 -188.528100 -17969.578620\n",
       "2020-12-06  -106.631367  -103.831092  -30.695347  -3365.198926\n",
       "2020-12-07   860.413459   850.224620  226.260626  23358.501753\n",
       "2020-12-08   352.780492   349.894609  120.021742   9303.865995"
      ]
     },
     "execution_count": 12,
     "metadata": {},
     "output_type": "execute_result"
    }
   ],
   "source": [
    "laaged_values = train.values[-7:]\n",
    "forecast = pd.DataFrame(results.forecast(y= laaged_values, steps=10), index = test.index, columns= ['사용자_1d', '세션_1d', '신규방문자_1d', '페이지뷰_1d'])\n",
    "forecast"
   ]
  },
  {
   "cell_type": "markdown",
   "id": "196afba1-ea89-4c77-9e1c-18a1b99953b2",
   "metadata": {},
   "source": [
    "차분에 대한 모델입니다."
   ]
  },
  {
   "cell_type": "code",
   "execution_count": 13,
   "id": "9ce2bd60-d1fd-45c9-91e4-24751966ab66",
   "metadata": {},
   "outputs": [
    {
     "data": {
      "text/html": [
       "<div>\n",
       "<style scoped>\n",
       "    .dataframe tbody tr th:only-of-type {\n",
       "        vertical-align: middle;\n",
       "    }\n",
       "\n",
       "    .dataframe tbody tr th {\n",
       "        vertical-align: top;\n",
       "    }\n",
       "\n",
       "    .dataframe thead th {\n",
       "        text-align: right;\n",
       "    }\n",
       "</style>\n",
       "<table border=\"1\" class=\"dataframe\">\n",
       "  <thead>\n",
       "    <tr style=\"text-align: right;\">\n",
       "      <th></th>\n",
       "      <th>사용자_1d</th>\n",
       "      <th>세션_1d</th>\n",
       "      <th>신규방문자_1d</th>\n",
       "      <th>페이지뷰_1d</th>\n",
       "      <th>사용자_fc</th>\n",
       "      <th>세션_fc</th>\n",
       "      <th>신규방문자_fc</th>\n",
       "      <th>페이지뷰_fc</th>\n",
       "    </tr>\n",
       "    <tr>\n",
       "      <th>DateTime</th>\n",
       "      <th></th>\n",
       "      <th></th>\n",
       "      <th></th>\n",
       "      <th></th>\n",
       "      <th></th>\n",
       "      <th></th>\n",
       "      <th></th>\n",
       "      <th></th>\n",
       "    </tr>\n",
       "  </thead>\n",
       "  <tbody>\n",
       "    <tr>\n",
       "      <th>2020-11-29</th>\n",
       "      <td>-185.497756</td>\n",
       "      <td>-173.571059</td>\n",
       "      <td>-81.893277</td>\n",
       "      <td>-4737.289314</td>\n",
       "      <td>2239.502244</td>\n",
       "      <td>2174.428941</td>\n",
       "      <td>536.106723</td>\n",
       "      <td>50320.710686</td>\n",
       "    </tr>\n",
       "    <tr>\n",
       "      <th>2020-11-30</th>\n",
       "      <td>1330.577736</td>\n",
       "      <td>1317.577201</td>\n",
       "      <td>348.175487</td>\n",
       "      <td>36346.568373</td>\n",
       "      <td>3570.079980</td>\n",
       "      <td>3492.006143</td>\n",
       "      <td>884.282211</td>\n",
       "      <td>86667.279059</td>\n",
       "    </tr>\n",
       "    <tr>\n",
       "      <th>2020-12-01</th>\n",
       "      <td>291.519428</td>\n",
       "      <td>295.280970</td>\n",
       "      <td>102.931184</td>\n",
       "      <td>7829.073487</td>\n",
       "      <td>3861.599408</td>\n",
       "      <td>3787.287112</td>\n",
       "      <td>987.213394</td>\n",
       "      <td>94496.352546</td>\n",
       "    </tr>\n",
       "    <tr>\n",
       "      <th>2020-12-02</th>\n",
       "      <td>-92.559798</td>\n",
       "      <td>-110.453361</td>\n",
       "      <td>-10.594575</td>\n",
       "      <td>-2791.108340</td>\n",
       "      <td>3769.039610</td>\n",
       "      <td>3676.833751</td>\n",
       "      <td>976.618820</td>\n",
       "      <td>91705.244205</td>\n",
       "    </tr>\n",
       "    <tr>\n",
       "      <th>2020-12-03</th>\n",
       "      <td>-142.265395</td>\n",
       "      <td>-124.853105</td>\n",
       "      <td>-64.206409</td>\n",
       "      <td>-4739.224716</td>\n",
       "      <td>3626.774215</td>\n",
       "      <td>3551.980646</td>\n",
       "      <td>912.412411</td>\n",
       "      <td>86966.019490</td>\n",
       "    </tr>\n",
       "    <tr>\n",
       "      <th>2020-12-04</th>\n",
       "      <td>-231.172721</td>\n",
       "      <td>-225.783253</td>\n",
       "      <td>-62.027470</td>\n",
       "      <td>-5617.297096</td>\n",
       "      <td>3395.601494</td>\n",
       "      <td>3326.197393</td>\n",
       "      <td>850.384941</td>\n",
       "      <td>81348.722394</td>\n",
       "    </tr>\n",
       "    <tr>\n",
       "      <th>2020-12-05</th>\n",
       "      <td>-703.714143</td>\n",
       "      <td>-705.286858</td>\n",
       "      <td>-188.528100</td>\n",
       "      <td>-17969.578620</td>\n",
       "      <td>2691.887351</td>\n",
       "      <td>2620.910535</td>\n",
       "      <td>661.856841</td>\n",
       "      <td>63379.143773</td>\n",
       "    </tr>\n",
       "    <tr>\n",
       "      <th>2020-12-06</th>\n",
       "      <td>-106.631367</td>\n",
       "      <td>-103.831092</td>\n",
       "      <td>-30.695347</td>\n",
       "      <td>-3365.198926</td>\n",
       "      <td>2585.255984</td>\n",
       "      <td>2517.079443</td>\n",
       "      <td>631.161494</td>\n",
       "      <td>60013.944848</td>\n",
       "    </tr>\n",
       "    <tr>\n",
       "      <th>2020-12-07</th>\n",
       "      <td>860.413459</td>\n",
       "      <td>850.224620</td>\n",
       "      <td>226.260626</td>\n",
       "      <td>23358.501753</td>\n",
       "      <td>3445.669442</td>\n",
       "      <td>3367.304063</td>\n",
       "      <td>857.422120</td>\n",
       "      <td>83372.446601</td>\n",
       "    </tr>\n",
       "    <tr>\n",
       "      <th>2020-12-08</th>\n",
       "      <td>352.780492</td>\n",
       "      <td>349.894609</td>\n",
       "      <td>120.021742</td>\n",
       "      <td>9303.865995</td>\n",
       "      <td>3798.449934</td>\n",
       "      <td>3717.198671</td>\n",
       "      <td>977.443861</td>\n",
       "      <td>92676.312596</td>\n",
       "    </tr>\n",
       "  </tbody>\n",
       "</table>\n",
       "</div>"
      ],
      "text/plain": [
       "                 사용자_1d        세션_1d    신규방문자_1d       페이지뷰_1d       사용자_fc  \\\n",
       "DateTime                                                                      \n",
       "2020-11-29  -185.497756  -173.571059  -81.893277  -4737.289314  2239.502244   \n",
       "2020-11-30  1330.577736  1317.577201  348.175487  36346.568373  3570.079980   \n",
       "2020-12-01   291.519428   295.280970  102.931184   7829.073487  3861.599408   \n",
       "2020-12-02   -92.559798  -110.453361  -10.594575  -2791.108340  3769.039610   \n",
       "2020-12-03  -142.265395  -124.853105  -64.206409  -4739.224716  3626.774215   \n",
       "2020-12-04  -231.172721  -225.783253  -62.027470  -5617.297096  3395.601494   \n",
       "2020-12-05  -703.714143  -705.286858 -188.528100 -17969.578620  2691.887351   \n",
       "2020-12-06  -106.631367  -103.831092  -30.695347  -3365.198926  2585.255984   \n",
       "2020-12-07   860.413459   850.224620  226.260626  23358.501753  3445.669442   \n",
       "2020-12-08   352.780492   349.894609  120.021742   9303.865995  3798.449934   \n",
       "\n",
       "                  세션_fc    신규방문자_fc       페이지뷰_fc  \n",
       "DateTime                                           \n",
       "2020-11-29  2174.428941  536.106723  50320.710686  \n",
       "2020-11-30  3492.006143  884.282211  86667.279059  \n",
       "2020-12-01  3787.287112  987.213394  94496.352546  \n",
       "2020-12-02  3676.833751  976.618820  91705.244205  \n",
       "2020-12-03  3551.980646  912.412411  86966.019490  \n",
       "2020-12-04  3326.197393  850.384941  81348.722394  \n",
       "2020-12-05  2620.910535  661.856841  63379.143773  \n",
       "2020-12-06  2517.079443  631.161494  60013.944848  \n",
       "2020-12-07  3367.304063  857.422120  83372.446601  \n",
       "2020-12-08  3717.198671  977.443861  92676.312596  "
      ]
     },
     "execution_count": 13,
     "metadata": {},
     "output_type": "execute_result"
    }
   ],
   "source": [
    "forecast[\"사용자_fc\"] = df[\"사용자\"].iloc[-10-1] + forecast['사용자_1d'].cumsum()\n",
    "forecast[\"세션_fc\"] = df[\"세션\"].iloc[-10-1] + forecast['세션_1d'].cumsum() \n",
    "forecast[\"신규방문자_fc\"] = df[\"신규방문자\"].iloc[-10-1] + forecast['신규방문자_1d'].cumsum() \n",
    "forecast[\"페이지뷰_fc\"] = df[\"페이지뷰\"].iloc[-10-1] + forecast['페이지뷰_1d'].cumsum() \n",
    "forecast"
   ]
  },
  {
   "cell_type": "code",
   "execution_count": 14,
   "id": "e0f22f98-4b58-4528-bf71-e6848e17249a",
   "metadata": {},
   "outputs": [
    {
     "name": "stderr",
     "output_type": "stream",
     "text": [
      "/tmp/ipykernel_2652/3790156391.py:2: SettingWithCopyWarning: \n",
      "A value is trying to be set on a copy of a slice from a DataFrame.\n",
      "Try using .loc[row_indexer,col_indexer] = value instead\n",
      "\n",
      "See the caveats in the documentation: https://pandas.pydata.org/pandas-docs/stable/user_guide/indexing.html#returning-a-view-versus-a-copy\n",
      "  test[\"페이지뷰_fc\"] = forecast[\"페이지뷰_fc\"]\n"
     ]
    },
    {
     "data": {
      "text/plain": [
       "<AxesSubplot:xlabel='DateTime'>"
      ]
     },
     "execution_count": 14,
     "metadata": {},
     "output_type": "execute_result"
    },
    {
     "data": {
      "image/png": "[encoded data removed]",
      "text/plain": [
       "<Figure size 432x288 with 1 Axes>"
      ]
     },
     "metadata": {},
     "output_type": "display_data"
    }
   ],
   "source": [
    "test = df.iloc[-10:,:]\n",
    "test[\"페이지뷰_fc\"] = forecast[\"페이지뷰_fc\"]\n",
    "\n",
    "plt.rc(\"font\", family=\"NanumGothic\") #폰트설정\n",
    "plt.rc(\"axes\", unicode_minus = False)\n",
    "test[['페이지뷰',\"페이지뷰_fc\"]].plot()"
   ]
  }
 ],
 "metadata": {
  "kernelspec": {
   "display_name": "world",
   "language": "python",
   "name": "world"
  },
  "language_info": {
   "codemirror_mode": {
    "name": "ipython",
    "version": 3
   },
   "file_extension": ".py",
   "mimetype": "text/x-python",
   "name": "python",
   "nbconvert_exporter": "python",
   "pygments_lexer": "ipython3",
   "version": "3.8.13"
  }
 },
 "nbformat": 4,
 "nbformat_minor": 5
}
