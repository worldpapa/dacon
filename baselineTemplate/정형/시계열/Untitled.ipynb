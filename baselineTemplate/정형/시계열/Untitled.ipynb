{
 "cells": [
  {
   "cell_type": "markdown",
   "id": "d062116a-589a-4e79-93f9-c4dd41cef2f1",
   "metadata": {},
   "source": [
    "# {정형_시계열_제목} 경진대회 베이스라인\n",
    "\n",
    "## 1. 분석 환경 준비\n",
    "### 1.1. 데이터 불러오기\n",
    "먼저 분석하려는 데이터를 가져오는 작업이 필요합니다.\n",
    "\n",
    "이를 위해서 파이썬 라이브러리 중 하나인 Pandas를 이용합니다.\n",
    "\n",
    "pandas 라이브러리는 엑셀과 같은 행과 열로 이루어진 테이블(table) 형식의 데이터를\n",
    "\n",
    "데이터프레임이라고 하는 형식으로 편하게 다루도록 해주는 라이브러리입니다."
   ]
  },
  {
   "cell_type": "code",
   "execution_count": 1,
   "id": "24c07b9d-e370-4c9b-92ec-6e8748f7d409",
   "metadata": {},
   "outputs": [
    {
     "name": "stdout",
     "output_type": "stream",
     "text": [
      "train set은 10 개의 feature를 가진 122400 개의 데이터 샘플로 이루어져 있습니다.\n"
     ]
    },
    {
     "data": {
      "text/html": [
       "<div>\n",
       "<style scoped>\n",
       "    .dataframe tbody tr th:only-of-type {\n",
       "        vertical-align: middle;\n",
       "    }\n",
       "\n",
       "    .dataframe tbody tr th {\n",
       "        vertical-align: top;\n",
       "    }\n",
       "\n",
       "    .dataframe thead th {\n",
       "        text-align: right;\n",
       "    }\n",
       "</style>\n",
       "<table border=\"1\" class=\"dataframe\">\n",
       "  <thead>\n",
       "    <tr style=\"text-align: right;\">\n",
       "      <th></th>\n",
       "      <th>num</th>\n",
       "      <th>date_time</th>\n",
       "      <th>전력사용량(kWh)</th>\n",
       "      <th>기온(°C)</th>\n",
       "      <th>풍속(m/s)</th>\n",
       "      <th>습도(%)</th>\n",
       "      <th>강수량(mm)</th>\n",
       "      <th>일조(hr)</th>\n",
       "      <th>비전기냉방설비운영</th>\n",
       "      <th>태양광보유</th>\n",
       "    </tr>\n",
       "  </thead>\n",
       "  <tbody>\n",
       "    <tr>\n",
       "      <th>0</th>\n",
       "      <td>1</td>\n",
       "      <td>2020-06-01 00</td>\n",
       "      <td>8179.056</td>\n",
       "      <td>17.6</td>\n",
       "      <td>2.5</td>\n",
       "      <td>92.0</td>\n",
       "      <td>0.8</td>\n",
       "      <td>0.0</td>\n",
       "      <td>0.0</td>\n",
       "      <td>0.0</td>\n",
       "    </tr>\n",
       "    <tr>\n",
       "      <th>1</th>\n",
       "      <td>1</td>\n",
       "      <td>2020-06-01 01</td>\n",
       "      <td>8135.640</td>\n",
       "      <td>17.7</td>\n",
       "      <td>2.9</td>\n",
       "      <td>91.0</td>\n",
       "      <td>0.3</td>\n",
       "      <td>0.0</td>\n",
       "      <td>0.0</td>\n",
       "      <td>0.0</td>\n",
       "    </tr>\n",
       "    <tr>\n",
       "      <th>2</th>\n",
       "      <td>1</td>\n",
       "      <td>2020-06-01 02</td>\n",
       "      <td>8107.128</td>\n",
       "      <td>17.5</td>\n",
       "      <td>3.2</td>\n",
       "      <td>91.0</td>\n",
       "      <td>0.0</td>\n",
       "      <td>0.0</td>\n",
       "      <td>0.0</td>\n",
       "      <td>0.0</td>\n",
       "    </tr>\n",
       "    <tr>\n",
       "      <th>3</th>\n",
       "      <td>1</td>\n",
       "      <td>2020-06-01 03</td>\n",
       "      <td>8048.808</td>\n",
       "      <td>17.1</td>\n",
       "      <td>3.2</td>\n",
       "      <td>91.0</td>\n",
       "      <td>0.0</td>\n",
       "      <td>0.0</td>\n",
       "      <td>0.0</td>\n",
       "      <td>0.0</td>\n",
       "    </tr>\n",
       "    <tr>\n",
       "      <th>4</th>\n",
       "      <td>1</td>\n",
       "      <td>2020-06-01 04</td>\n",
       "      <td>8043.624</td>\n",
       "      <td>17.0</td>\n",
       "      <td>3.3</td>\n",
       "      <td>92.0</td>\n",
       "      <td>0.0</td>\n",
       "      <td>0.0</td>\n",
       "      <td>0.0</td>\n",
       "      <td>0.0</td>\n",
       "    </tr>\n",
       "  </tbody>\n",
       "</table>\n",
       "</div>"
      ],
      "text/plain": [
       "   num      date_time  전력사용량(kWh)  기온(°C)  풍속(m/s)  습도(%)  강수량(mm)  일조(hr)  \\\n",
       "0    1  2020-06-01 00    8179.056    17.6      2.5   92.0      0.8     0.0   \n",
       "1    1  2020-06-01 01    8135.640    17.7      2.9   91.0      0.3     0.0   \n",
       "2    1  2020-06-01 02    8107.128    17.5      3.2   91.0      0.0     0.0   \n",
       "3    1  2020-06-01 03    8048.808    17.1      3.2   91.0      0.0     0.0   \n",
       "4    1  2020-06-01 04    8043.624    17.0      3.3   92.0      0.0     0.0   \n",
       "\n",
       "   비전기냉방설비운영  태양광보유  \n",
       "0        0.0    0.0  \n",
       "1        0.0    0.0  \n",
       "2        0.0    0.0  \n",
       "3        0.0    0.0  \n",
       "4        0.0    0.0  "
      ]
     },
     "execution_count": 1,
     "metadata": {},
     "output_type": "execute_result"
    }
   ],
   "source": [
    "import pandas as pd ## pandas 라이브러리를 가져오기 위하여 import를 해줍니다.\n",
    "\n",
    "# csv 형식으로 된 데이터 파일을 읽어옵니다.\n",
    "df = pd.read_csv('data/train.csv', encoding = 'CP949')\n",
    "\n",
    "print(f'train set은 {df.shape[1]} 개의 feature를 가진 {df.shape[0]} 개의 데이터 샘플로 이루어져 있습니다.')\n",
    "\n",
    "# 데이터의 최상단 5 줄을 표시합니다.\n",
    "df.head()"
   ]
  },
  {
   "cell_type": "markdown",
   "id": "c1dedc84-33cf-422d-a70f-85e6cf3d7f67",
   "metadata": {},
   "source": [
    "## 2. 데이터 살펴보기\n",
    "\n",
    "### 2.1. 결측치 확인\n",
    "결측치(NA: Not Available)란 값이 누락된 데이터를 말합니다.\n",
    "\n",
    "보다 정확한 분석을 하기 위해서는 데이터의 결측치를 확인하고 적절히 처리해주어야 합니다."
   ]
  },
  {
   "cell_type": "code",
   "execution_count": 2,
   "id": "b18d3737-d1c4-4a66-a06d-7cb041b54499",
   "metadata": {},
   "outputs": [
    {
     "name": "stdout",
     "output_type": "stream",
     "text": [
      "결측치가 존재하지 않습니다\n"
     ]
    }
   ],
   "source": [
    "def check_missing_col(dataframe):\n",
    "    missing_col = []\n",
    "    for col in dataframe.columns:\n",
    "        missing_values = sum(dataframe[col].isna())\n",
    "        is_missing = True if missing_values >= 1 else False\n",
    "        if is_missing:\n",
    "            print(f'결측치가 있는 컬럼은: {col} 입니다')\n",
    "            print(f'해당 컬럼에 총 {missing_values} 개의 결측치가 존재합니다.')\n",
    "            missing_col.append([col, dataframe[col].dtype])\n",
    "    if missing_col == []:\n",
    "        print('결측치가 존재하지 않습니다')\n",
    "    return missing_col\n",
    "\n",
    "missing_col = check_missing_col(df)"
   ]
  },
  {
   "cell_type": "markdown",
   "id": "e3320bc5-03eb-47a0-95d0-22896b1994b0",
   "metadata": {},
   "source": [
    "## 3. 데이터 처리\n",
    "### 3.1. {결측치 처리}\n",
    "\n",
    "원활한 분석을 위해 적절하게 결측치들을 처리해 줍시다."
   ]
  },
  {
   "cell_type": "code",
   "execution_count": 3,
   "id": "1fab3541-3af9-4971-944e-daeae80c6408",
   "metadata": {},
   "outputs": [
    {
     "data": {
      "text/html": [
       "<div>\n",
       "<style scoped>\n",
       "    .dataframe tbody tr th:only-of-type {\n",
       "        vertical-align: middle;\n",
       "    }\n",
       "\n",
       "    .dataframe tbody tr th {\n",
       "        vertical-align: top;\n",
       "    }\n",
       "\n",
       "    .dataframe thead th {\n",
       "        text-align: right;\n",
       "    }\n",
       "</style>\n",
       "<table border=\"1\" class=\"dataframe\">\n",
       "  <thead>\n",
       "    <tr style=\"text-align: right;\">\n",
       "      <th></th>\n",
       "      <th>num</th>\n",
       "      <th>date_time</th>\n",
       "      <th>전력사용량(kWh)</th>\n",
       "      <th>기온(°C)</th>\n",
       "      <th>풍속(m/s)</th>\n",
       "      <th>습도(%)</th>\n",
       "      <th>강수량(mm)</th>\n",
       "      <th>일조(hr)</th>\n",
       "      <th>비전기냉방설비운영</th>\n",
       "      <th>태양광보유</th>\n",
       "    </tr>\n",
       "  </thead>\n",
       "  <tbody>\n",
       "  </tbody>\n",
       "</table>\n",
       "</div>"
      ],
      "text/plain": [
       "Empty DataFrame\n",
       "Columns: [num, date_time, 전력사용량(kWh), 기온(°C), 풍속(m/s), 습도(%), 강수량(mm), 일조(hr), 비전기냉방설비운영, 태양광보유]\n",
       "Index: []"
      ]
     },
     "execution_count": 3,
     "metadata": {},
     "output_type": "execute_result"
    }
   ],
   "source": [
    "# 결측치가 있는 row들을 확인합니다.\n",
    "df[df.isna().sum(axis=1) > 0]"
   ]
  },
  {
   "cell_type": "markdown",
   "id": "4060c995-5b0c-4fc1-977c-761c325d0ecc",
   "metadata": {},
   "source": [
    "카테고리형 데이터에 대해서는 행을 삭제하고\n",
    "\n",
    "수치형 데이터에 대해서는 평균값을 채워주겠습니다."
   ]
  },
  {
   "cell_type": "code",
   "execution_count": 4,
   "id": "1aa84521-ce18-4cf6-b99b-c747e87d595a",
   "metadata": {},
   "outputs": [
    {
     "name": "stdout",
     "output_type": "stream",
     "text": [
      "결측치가 존재하지 않습니다\n"
     ]
    }
   ],
   "source": [
    "# 결측치를 처리하는 함수를 작성합니다.\n",
    "def handle_na(data, missing_col):\n",
    "    temp = data.copy()\n",
    "    for col, dtype in missing_col:\n",
    "        if dtype == 'O':\n",
    "            # 카테고리형 feature가 결측치인 경우 해당 행들을 삭제해 주었습니다.\n",
    "            temp = temp.dropna(subset=[col])\n",
    "        elif dtype == int or dtype == float:\n",
    "            # 수치형 feature가 결측치인 경우 평균값을 채워주었습니다.\n",
    "            temp.loc[:,col] = temp[col].fillna(temp[col].mean())\n",
    "    return temp\n",
    "\n",
    "df = handle_na(df, missing_col)\n",
    "\n",
    "# 결측치 처리가 잘 되었는지 확인해 줍니다.\n",
    "missing_col = check_missing_col(df) "
   ]
  },
  {
   "cell_type": "code",
   "execution_count": 5,
   "id": "85aa5a3d-f847-4918-b2f7-d88afc069b7e",
   "metadata": {},
   "outputs": [
    {
     "data": {
      "image/png": "[encoded data removed]",
      "text/plain": [
       "<Figure size 432x288 with 1 Axes>"
      ]
     },
     "metadata": {
      "needs_background": "light"
     },
     "output_type": "display_data"
    }
   ],
   "source": [
    "import os\n",
    "import matplotlib.pyplot as plt\n",
    "plt.rc(\"font\", family=\"NanumGothic\") #폰트설정\n",
    "plt.rc(\"axes\", unicode_minus = False)\n",
    "\n",
    "series = df[['date_time', '전력사용량(kWh)']].set_index('date_time')\n",
    "series.plot()\n",
    "plt.rcParams[\"figure.figsize\"] = (15,8)\n",
    "plt.show()\n"
   ]
  },
  {
   "cell_type": "markdown",
   "id": "236983bb-4502-45ca-842b-1e4803acf956",
   "metadata": {},
   "source": [
    "현실에 존재하는 시계열자료는 불안정(Non-stationary)한 경우가 많습니다.    \n",
    "따라서 모형 그 자체에 이러한 비정상성을 제거하는 과정을 포함한것이 ARIMA모형이며 \n",
    "\n",
    "ARIMA(p 자기회귀, d 누적(차분횟수), q 이동평균)로 표현"
   ]
  },
  {
   "cell_type": "code",
   "execution_count": 11,
   "id": "d1cac79b-d5cb-4e5e-9657-b7d85b188c9c",
   "metadata": {},
   "outputs": [
    {
     "name": "stderr",
     "output_type": "stream",
     "text": [
      "/home/ubuntu/anaconda3/envs/world/lib/python3.8/site-packages/statsmodels/graphics/tsaplots.py:348: FutureWarning: The default method 'yw' can produce PACF values outside of the [-1,1] interval. After 0.13, the default will change tounadjusted Yule-Walker ('ywm'). You can use this method now by setting method='ywm'.\n",
      "  warnings.warn(\n"
     ]
    },
    {
     "data": {
      "image/png": "[encoded data removed]",
      "text/plain": [
       "<Figure size 432x288 with 1 Axes>"
      ]
     },
     "metadata": {
      "needs_background": "light"
     },
     "output_type": "display_data"
    },
    {
     "data": {
      "image/png": "[encoded data removed]",
      "text/plain": [
       "<Figure size 432x288 with 1 Axes>"
      ]
     },
     "metadata": {
      "needs_background": "light"
     },
     "output_type": "display_data"
    }
   ],
   "source": [
    "import matplotlib.pyplot as plt\n",
    "%matplotlib inline\n",
    "from statsmodels.graphics.tsaplots import plot_acf, plot_pacf\n",
    "\n",
    "plot_acf(series) ##Lag에 따른 관측치들 사이의 관련성을 측정하는 함수\n",
    "#MA특성 띄는 경우 급격히 감소\n",
    "\n",
    "plot_pacf(series) ##k이외의 모든 다른 시점 관측치의 영향력을 배제하고yt와 yt-k 두 관측치의 관련성을 측정하는 함수\n",
    "#AR특성 띄는 경우 급격히 감소\n",
    "\n",
    "plt.rc(\"font\", family=\"NanumGothic\")\n",
    "plt.show()"
   ]
  },
  {
   "cell_type": "markdown",
   "id": "c6cab88a-25da-4e5a-b3b4-92ab681afed4",
   "metadata": {},
   "source": [
    "ACF를 보면 급격히 감소하지 않음  \n",
    "또한 PACF는 1의 Time lag에서 약 0.9를 보이고 이후에 급격히 감소한다. 따라서 p=0, q=1이 적당하다고 추측"
   ]
  },
  {
   "cell_type": "markdown",
   "id": "c4ff37b7-d970-47fe-a2c8-8c6cfd3bf8b1",
   "metadata": {},
   "source": [
    "차분 차수의 계산을 위해 우선 1차 차분을 하고, ACF 및 PACF를 다시 계산"
   ]
  },
  {
   "cell_type": "code",
   "execution_count": null,
   "id": "a06af73b-f2e0-4838-9c04-319cdd1e86da",
   "metadata": {},
   "outputs": [],
   "source": []
  }
 ],
 "metadata": {
  "kernelspec": {
   "display_name": "world",
   "language": "python",
   "name": "world"
  },
  "language_info": {
   "codemirror_mode": {
    "name": "ipython",
    "version": 3
   },
   "file_extension": ".py",
   "mimetype": "text/x-python",
   "name": "python",
   "nbconvert_exporter": "python",
   "pygments_lexer": "ipython3",
   "version": "3.8.13"
  }
 },
 "nbformat": 4,
 "nbformat_minor": 5
}
