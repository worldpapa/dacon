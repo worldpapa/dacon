{
 "cells": [
  {
   "cell_type": "markdown",
   "id": "ec4ebf2b-2cae-4383-bfe3-d5aed817bf97",
   "metadata": {},
   "source": [
    "# 01 정형_시계열\n",
    "\n",
    "# 1. 분석 환경 준비\n",
    "## 1.1. 데이터 불러오기\n",
    "분석하려는 데이터를 가져오는 작업\n",
    "\n",
    "* 파이썬 라이브러리 Pandas 이용\n",
    "\n",
    "* read_csv 메소드 이용"
   ]
  },
  {
   "cell_type": "markdown",
   "id": "d01f464b-7ae4-443a-8ae5-c0a96291f845",
   "metadata": {},
   "source": [
    "# 2. 데이터 전처리"
   ]
  },
  {
   "cell_type": "markdown",
   "id": "6fcd8af6-e94b-402b-b288-1315af2a7af1",
   "metadata": {},
   "source": [
    "## 2.1. 결측치 처리 Imputation\n",
    "\n",
    "결측치 유무 확인   \n",
    "시계열 이므로 보간(interpolation)방법을 사용하여 누락된 값으로 생긴 간격을 채웁   \n",
    "시간 간격이 일정하고, 데이터가 노이즈로 인한 변동이 심하지 않고 누락된 값으로 인한 빈 간극이 작을 때 보간\n",
    "방법 유용\n",
    "\n",
    "* 누락된 값을 보간 : dataframe.interpolate() \n",
    "* 앞쪽으로 채우기(Forward-fill) : dataframe.ffill() \n",
    "* 뒤쪽으로 채우기(Back-fill) : dataframe.bfill()\n",
    "* 비선형의 경우 보간 방법 변경 : dataframe.interpolate(method=\"quadratic\")\n",
    "* 보간 방향 지정 : dataframe.interpolate(limit=1, limit_direction=\"forward\")"
   ]
  },
  {
   "cell_type": "markdown",
   "id": "759c20cb-a466-4897-90d5-666ef981cfed",
   "metadata": {},
   "source": [
    "## 2.2. 라벨 인코딩 Label Encoding\n",
    "범주(카테고리)형 데이터 존재 시 문자열을 수치형으로 인코딩"
   ]
  },
  {
   "cell_type": "markdown",
   "id": "0c4989cf-307c-4143-b9f8-38d75bdf94a9",
   "metadata": {},
   "source": [
    "## 2.3. 날짜 분할 Datetime Strip\n",
    "\n",
    "년, 월, 일 로 데이터 쪼개서 각 열로 넣기\n",
    "\n",
    "* Series.dt의 시간 속성을 사용"
   ]
  },
  {
   "cell_type": "markdown",
   "id": "adabc10c-3ee2-414e-8cb8-a6f63885b11e",
   "metadata": {},
   "source": [
    "## 2.4 요일 인코딩\n",
    "\n",
    "날짜 벡터에서 각 날짜의 요일 추출\n",
    "\n",
    "*  Series.dt의 weekday_name 속성을 사용\n",
    "* weekday 속성은 요일을 정수로"
   ]
  },
  {
   "cell_type": "markdown",
   "id": "f73c17d0-cc65-41cf-ba80-1df677ff278b",
   "metadata": {},
   "source": [
    "## 2.5. 시차 특성\n",
    "\n",
    "n기간 만큼 차이가 나는 시차 특성 파악\n",
    "\n",
    "* pandas의 shift 사용\n"
   ]
  },
  {
   "cell_type": "markdown",
   "id": "f92f037e-2fd3-4811-b93a-776d0090382b",
   "metadata": {},
   "source": [
    "## 2.6 이동시간 윈도\n",
    "시계열 데이터에서 일정 시간 간격으로 통계를 계산\n",
    "\n",
    "* 몇 달크기의 시간 윈도가 각 단계마다 윈도의 평균을 계산하면서 샘플 위를 이동\n",
    "* rolling()는 window 매개변수에서 윈도 크기를 지정\n",
    "* 시간 윈도의 max(), mean(), count(), corr()와 같은 통계를 간편하게 계산 \n",
    "    * ex.) 이동 평균 계산 : dataframe.rolling(window=2).mean() \n",
    "* ewm()는 최근 항목에 높은 가중치를 두지만 전체 기간에 대한 통계를 계산하는 지수 이동 윈도    "
   ]
  },
  {
   "cell_type": "markdown",
   "id": "158545a0-8f01-4081-9729-224261587b7b",
   "metadata": {},
   "source": [
    "## 2.7. 정상성 Stationary time series\n",
    "\n",
    "VAR, ARIMA 등 모델을 학습하기 위해 시계열 정상성 확인\n",
    "\n",
    "### 2.7.1. 정상성 확인\n",
    "\n",
    "* ADF(Advanced Dickey-Fuller test) test statistic 및 p-value 확인\n",
    "\n",
    "* adfuller 메소드 이용\n",
    "\n",
    "\n",
    "p-value가 0.05(5%) 보다 크면  유의미한 값 X    \n",
    "(귀무가설(null hypothesis : 시계열이 안정적이지 않다.)을 기각할 수 없음)   \n",
    "\n",
    "-> 시계열이 안정적이지 않다고 결론"
   ]
  },
  {
   "cell_type": "markdown",
   "id": "8a95f394-4b7a-4f9c-8313-8e5f9b895910",
   "metadata": {},
   "source": [
    "### 2.7.2. 차분 differencing\n",
    "\n",
    "stationary 상태가 아닐시 (위에서 p-value가 0.05(5%) 보다 크면), \n",
    "\n",
    "차분을 취하고 나서 stationary를 확인 (p-value가 0.05(5%) 보다 작은지)"
   ]
  },
  {
   "cell_type": "markdown",
   "id": "55d3c834-0eb3-4d06-922b-43021a63a483",
   "metadata": {},
   "source": [
    "## 2.8. 시계열 분해\n",
    "\n",
    "statsmodels 라이브러리를 사용해서 가법 모형(additive model) 가정 하에 시계열 분해\n",
    "\n",
    "* seasonal_decompose 이용하여 시계열 분해\n",
    "    * Observed : 원본 데이터\n",
    "    * Trend : 추세 성분\n",
    "    * Seasonal : 계절 성분\n",
    "    * Residual : 뷸규칙 성분(잔차)로 분해"
   ]
  },
  {
   "cell_type": "markdown",
   "id": "6be7bb47-eb1c-4032-a55e-a27814249969",
   "metadata": {},
   "source": [
    "## 2.9. 정규화 Normalization\n",
    "\n",
    "RNN/LSTM/GRU 등 모델을 학습하기 위해 정규화 사용\n",
    "\n",
    "데이터를 표준화 할때, 오직 학습 데이터만 스케일 변환(scaler transformation)에 사용"
   ]
  },
  {
   "cell_type": "markdown",
   "id": "591594d7-1db5-4639-add3-0578a454081c",
   "metadata": {},
   "source": [
    "# 3. 모델링"
   ]
  },
  {
   "cell_type": "markdown",
   "id": "cf1c2150-68f8-44d3-a3b2-1c8448c5e3d9",
   "metadata": {},
   "source": [
    "## 3.1. 변수 정의\n",
    "\n",
    "* X : 독립 변수 (피쳐)\n",
    "* y : 종속 변수 (타켓)"
   ]
  },
  {
   "cell_type": "markdown",
   "id": "24183ef1-7dbf-4e52-95f0-d6dcdf81efbb",
   "metadata": {},
   "source": [
    "## 3.2. 모델 학습\n"
   ]
  },
  {
   "cell_type": "markdown",
   "id": "a0ad96b7-12b4-48f9-99c3-176427a6831b",
   "metadata": {},
   "source": [
    "### 3.2.1. 회귀 모델"
   ]
  },
  {
   "cell_type": "markdown",
   "id": "a1bc8d33-e59d-40c7-8f9b-245b915194d0",
   "metadata": {
    "tags": []
   },
   "source": [
    "#### 3.2.1.1. Linear Regression\n",
    "\n",
    "종속 변수 y와 한 개 이상의 독립 변수 (또는 설명 변수) X와의 선형 상관 관계를 모델링"
   ]
  },
  {
   "cell_type": "markdown",
   "id": "10b46f48-3d91-491a-ae47-a0246dc7802c",
   "metadata": {},
   "source": [
    "#### 3.2.1.2. RNN\n",
    "\n",
    "딥러닝 순환신경망, 이전의 계산으로부터 나온 결과를 고려하여 같은 일을 매 샘플마다 반복해서 수행\n",
    "* 3차원 배열 입력값으로 요구\n",
    "\n",
    "Tensor : 하나의 텐서는 모델에 들어가는 벡터   \n",
    "Time Step : 하나의 타임 스텝은 텐서에서 하나의 관측치   \n",
    "Feature :  한 feature는 그 타임 스텝에서 하나의 관측치  "
   ]
  },
  {
   "cell_type": "markdown",
   "id": "99b40388-b503-4590-9c85-2feba4c3f459",
   "metadata": {},
   "source": [
    "#### 3.2.1.3. VAR\n",
    "\n",
    "예측할 변수의 과거 값뿐만 아니라 예측할 변수와 의존성이 있는 변수 들까지 고려하여 선형 함수로 나타내는 확률적 과정\n",
    "\n",
    "* multivariate time series - 다변량 시계열\n",
    "\n",
    "* 피쳐가 여러개일 때 이용 (ex. 사용자 수, 신규방문자 수 등으로 이루어진 시계열 데이터)"
   ]
  },
  {
   "cell_type": "markdown",
   "id": "7ccd4b94-37b7-49a2-b031-7f2778a37c87",
   "metadata": {},
   "source": [
    "#### 3.2.1.4. ARIMA\n",
    "\n",
    "미래를 예측하기 위해서 그 자신의 시차로 이루어진 선형 조합과 지연된 예측 오차의 선형조합에 기반\n",
    "\n",
    "* univaritate time series - 일변량 시계열\n",
    "\n",
    "* 예측할 변수의 과거 값 하나가 주어졌을 때 이용 (ex. 주식 가격)\n"
   ]
  },
  {
   "cell_type": "markdown",
   "id": "daa8c4e6-a84f-4036-8fca-5b5998f42384",
   "metadata": {},
   "source": [
    "# 4. 모델 예측"
   ]
  },
  {
   "cell_type": "markdown",
   "id": "ecbb641c-8e75-402f-80d3-897533ff4a1d",
   "metadata": {},
   "source": [
    "## 4.1. 회귀모델 지표"
   ]
  },
  {
   "cell_type": "markdown",
   "id": "0ae0f9a9-974d-4d77-9c6a-c15bb70cd264",
   "metadata": {},
   "source": [
    "###  4.1.1. MSE\n",
    "\n",
    "예측값과 실제값의 차이인 오차들의 제곱 평균\n",
    "\n",
    "* 회귀 모델의 주요 손실함수"
   ]
  },
  {
   "cell_type": "markdown",
   "id": "b1fa3fa9-813f-4fa0-a41b-8a86d8ac9cc7",
   "metadata": {},
   "source": [
    "### 4.1.2. RMSE\n",
    "\n",
    "MSE에 root를 씌운 값\n",
    "\n",
    "* 오류 지표를 실제 값과 유사한 단위로 다시 변환하기에 해석이 다소 용이"
   ]
  },
  {
   "cell_type": "markdown",
   "id": "de1c32e8-33d0-46de-aa5b-387862c3f981",
   "metadata": {
    "tags": []
   },
   "source": [
    "###  4.1.3. MAE\n",
    "\n",
    "실제값과 예측값의 차이인 오차들의 절댓값 평균\n",
    "\n",
    "* MSE보다는 특이치에 덜 민감"
   ]
  },
  {
   "cell_type": "markdown",
   "id": "f268638c-82db-4570-ace2-f525af668a58",
   "metadata": {},
   "source": [
    "### 4.1.4. NMAE\n",
    "\n",
    "정규화된 MAE\n",
    "\n",
    "* 척도가 다른 데이터 세트의 MAE 비교할 때 용이\n",
    "\n",
    "* NMAE가 0.1이라면 10%정도 틀렸다고 해석 가능"
   ]
  },
  {
   "cell_type": "code",
   "execution_count": null,
   "id": "3f3d526a-e015-41da-a886-a3c93576f0a8",
   "metadata": {},
   "outputs": [],
   "source": []
  }
 ],
 "metadata": {
  "kernelspec": {
   "display_name": "world",
   "language": "python",
   "name": "world"
  },
  "language_info": {
   "codemirror_mode": {
    "name": "ipython",
    "version": 3
   },
   "file_extension": ".py",
   "mimetype": "text/x-python",
   "name": "python",
   "nbconvert_exporter": "python",
   "pygments_lexer": "ipython3",
   "version": "3.8.13"
  }
 },
 "nbformat": 4,
 "nbformat_minor": 5
}
