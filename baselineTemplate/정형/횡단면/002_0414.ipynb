{
 "cells": [
  {
   "cell_type": "markdown",
   "id": "61edef2b-477a-4c76-b148-27b9512c31cd",
   "metadata": {},
   "source": [
    "# 00 정형_횡단면"
   ]
  },
  {
   "cell_type": "markdown",
   "id": "7081c9a9-88b8-45a2-9995-5dc9cb923f18",
   "metadata": {},
   "source": [
    "# 1. 분석 환경 준비¶\n",
    "## 1.1. 데이터 불러오기\n",
    "\n",
    "분석하려는 데이터를 가져오는 작업\n",
    "\n",
    "- 파이썬 라이브러리 Pandas 이용\n",
    "\n",
    "- read_csv 이용"
   ]
  },
  {
   "cell_type": "markdown",
   "id": "0d35ab11-8206-4d17-b404-108dc6610170",
   "metadata": {},
   "source": [
    "# 2. 데이터 전처리"
   ]
  },
  {
   "cell_type": "markdown",
   "id": "02502ddd-169f-4cca-ada7-6c398945169c",
   "metadata": {},
   "source": [
    "## 2.1. 결측치 처리 Imputation\n",
    "\n",
    "결측치 유무 확인 \n",
    "\n",
    "* 카테고리형 feature가 결측치인 경우 : 해당 행들을 삭제   \n",
    "* 수치형 feature가 결측치인 경우 : 평균값을 채워줌  "
   ]
  },
  {
   "cell_type": "markdown",
   "id": "d6811c54-48ba-4008-8692-da5b030ed3fa",
   "metadata": {},
   "source": [
    "## 2.2. 라벨 인코딩 Label Encoding\n",
    "\n",
    "범주(카테고리)형 데이터 존재 시 문자열을 수치형으로 인코딩"
   ]
  },
  {
   "cell_type": "markdown",
   "id": "0d06404f-a45c-407f-a6de-ddddfec06d0d",
   "metadata": {},
   "source": [
    "# 3. 모델링"
   ]
  },
  {
   "cell_type": "markdown",
   "id": "af35c267-ae29-4b51-9a7a-2722e670b999",
   "metadata": {},
   "source": [
    "## 3.1. 변수 정의\n",
    "\n",
    "* X : 독립 변수 (피쳐)\n",
    "* y : 종속 변수 (타켓)"
   ]
  },
  {
   "cell_type": "markdown",
   "id": "8ffc5409-599a-4cf0-b176-42816c75d27b",
   "metadata": {},
   "source": [
    "## 3.2. 모델 학습\n"
   ]
  },
  {
   "cell_type": "markdown",
   "id": "d5771e92-274a-41c6-9958-97134c005ce9",
   "metadata": {
    "tags": []
   },
   "source": [
    "### 3.2.1. 회귀 모델"
   ]
  },
  {
   "cell_type": "markdown",
   "id": "b3ceef27-de69-4d85-ade1-e15806bbd121",
   "metadata": {
    "tags": []
   },
   "source": [
    "#### 3.2.1.1. Linear Regression\n",
    "\n",
    "\n",
    "종속 변수 y와 한 개 이상의 독립 변수 (또는 설명 변수) X와의 선형 상관 관계를 모델링"
   ]
  },
  {
   "cell_type": "markdown",
   "id": "d4789c12-b490-4184-88a8-842850760f64",
   "metadata": {},
   "source": [
    "#### 3.2.1.2. Random Forest Regression"
   ]
  },
  {
   "cell_type": "markdown",
   "id": "e570b39f-968f-424d-bd8e-f0044b221d73",
   "metadata": {},
   "source": [
    "### 3.2.2. 분류 모델"
   ]
  },
  {
   "cell_type": "markdown",
   "id": "86df7ece-de20-4735-9068-9b2158974388",
   "metadata": {},
   "source": [
    "#### 3.2.2.1. Logistic Regression\n",
    "\n",
    "특정 카테고리에 속할지를 0과 1사이의 연속적인 확률로 예측하는 회귀 알고리즘\n",
    "\n",
    "그런 다음, 확률에 기반하여 특정 데이터가 어떤 카테고리에 속할지를 결정하게 되고, 궁극적으로 classification"
   ]
  },
  {
   "cell_type": "markdown",
   "id": "f40c4ac3-cf83-4499-b5b8-92def07c3234",
   "metadata": {},
   "source": [
    "#### 3.2.2.2. Random Forest Classifier"
   ]
  },
  {
   "cell_type": "markdown",
   "id": "45c14206-f87b-406d-a408-b2794dae3161",
   "metadata": {},
   "source": [
    "# 4. 모델 예측"
   ]
  },
  {
   "cell_type": "markdown",
   "id": "7baa0620-4a4a-4c08-9807-e5e1eb8c5585",
   "metadata": {},
   "source": [
    "## 4.1 회귀 모델 지표"
   ]
  },
  {
   "cell_type": "markdown",
   "id": "8e709c05-a04e-47ec-9462-e0df8ef7228f",
   "metadata": {},
   "source": [
    "###  4.1.1. MSE\n",
    "\n",
    "예측값과 실제값의 차이인 오차들의 제곱 평균\n",
    "\n",
    "* 회귀 모델의 주요 손실함수"
   ]
  },
  {
   "cell_type": "markdown",
   "id": "779af843-8b85-4a97-b18b-32e83f9df959",
   "metadata": {},
   "source": [
    "### 4.1.2. RMSE\n",
    "\n",
    "MSE에 root를 씌운 값\n",
    "\n",
    "* 오류 지표를 실제 값과 유사한 단위로 다시 변환하기에 해석이 다소 용이"
   ]
  },
  {
   "cell_type": "markdown",
   "id": "40c27ee0-f5b0-45c5-95d2-94abcbb3d08a",
   "metadata": {
    "tags": []
   },
   "source": [
    "###  4.1.3. MAE\n",
    "\n",
    "실제값과 예측값의 차이인 오차들의 절댓값 평균\n",
    "\n",
    "* MSE보다는 특이치에 덜 민감"
   ]
  },
  {
   "cell_type": "markdown",
   "id": "ac7d471d-935d-40c0-8839-684f80466f3c",
   "metadata": {},
   "source": [
    "### 4.1.4. NMAE\n",
    "\n",
    "정규화된 MAE\n",
    "\n",
    "* 척도가 다른 데이터 세트의 MAE 비교할 때 용이\n",
    "\n",
    "* NMAE가 0.1이라면 10%정도 틀렸다고 해석 가능"
   ]
  },
  {
   "cell_type": "markdown",
   "id": "4de36985-0cf5-4c23-899c-ca5f8ca7bf3a",
   "metadata": {},
   "source": [
    "## 4.2. 분류 모델 지표"
   ]
  },
  {
   "cell_type": "markdown",
   "id": "67a7ecc3-5e8e-4543-94de-6316792957ba",
   "metadata": {},
   "source": [
    "### 4.2.1. Accuracy\n",
    "\n",
    "올바르게 예측된 데이터의 수를 전체 데이터의 수로 나눈 값"
   ]
  },
  {
   "cell_type": "markdown",
   "id": "91a7c16f-219a-44c5-8574-2580a02663eb",
   "metadata": {},
   "source": [
    "### 4.2.2. F1-score\n",
    "\n",
    "정밀도와 재현율의 조화 평균\n",
    "\n",
    "* precision과 recall이 0 에 가까울수록 F1 score도 동일하게 낮은 값"
   ]
  },
  {
   "cell_type": "code",
   "execution_count": null,
   "id": "1c8e26e1-d083-46ab-8669-a266534c10f6",
   "metadata": {},
   "outputs": [],
   "source": []
  }
 ],
 "metadata": {
  "kernelspec": {
   "display_name": "world",
   "language": "python",
   "name": "world"
  },
  "language_info": {
   "codemirror_mode": {
    "name": "ipython",
    "version": 3
   },
   "file_extension": ".py",
   "mimetype": "text/x-python",
   "name": "python",
   "nbconvert_exporter": "python",
   "pygments_lexer": "ipython3",
   "version": "3.8.13"
  }
 },
 "nbformat": 4,
 "nbformat_minor": 5
}
