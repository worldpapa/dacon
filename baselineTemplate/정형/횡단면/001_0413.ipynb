{
 "cells": [
  {
   "cell_type": "markdown",
   "id": "61edef2b-477a-4c76-b148-27b9512c31cd",
   "metadata": {},
   "source": [
    "# 00 정형_횡단면"
   ]
  },
  {
   "cell_type": "markdown",
   "id": "7081c9a9-88b8-45a2-9995-5dc9cb923f18",
   "metadata": {},
   "source": [
    "# 1. 분석 환경 준비¶\n",
    "## 1.1. 데이터 불러오기\n",
    "\n",
    "분석하려는 데이터를 가져오는 작업\n",
    "\n",
    "- 파이썬 라이브러리 Pandas 이용\n",
    "\n",
    "- read_csv 이용"
   ]
  },
  {
   "cell_type": "code",
   "execution_count": null,
   "id": "c52f1f0a-dd1d-4909-a62e-29824653bcc8",
   "metadata": {},
   "outputs": [],
   "source": [
    "import pandas as pd \n",
    "\n",
    "df = pd.read_csv('data/train.csv')"
   ]
  },
  {
   "cell_type": "markdown",
   "id": "0d35ab11-8206-4d17-b404-108dc6610170",
   "metadata": {},
   "source": [
    "# 2. 데이터 전처리"
   ]
  },
  {
   "cell_type": "markdown",
   "id": "02502ddd-169f-4cca-ada7-6c398945169c",
   "metadata": {},
   "source": [
    "## 2.1. Imputation"
   ]
  },
  {
   "cell_type": "code",
   "execution_count": null,
   "id": "376a72ea-97c2-44f6-8c28-72ad80ad3397",
   "metadata": {},
   "outputs": [],
   "source": [
    "def check_missing_col(dataframe):\n",
    "    missing_col = []\n",
    "    for col in dataframe.columns:\n",
    "        missing_values = sum(dataframe[col].isna())\n",
    "        is_missing = True if missing_values >= 1 else False\n",
    "        if is_missing:\n",
    "            print(f'결측치가 있는 컬럼은: {col} 입니다')\n",
    "            print(f'해당 컬럼에 총 {missing_values} 개의 결측치가 존재합니다.')\n",
    "            missing_col.append([col, dataframe[col].dtype])\n",
    "    if missing_col == []:\n",
    "        print('결측치가 존재하지 않습니다')\n",
    "    return missing_col\n",
    "\n",
    "missing_col = check_missing_col(df)"
   ]
  },
  {
   "cell_type": "markdown",
   "id": "5a915922-eeea-4dfc-87e8-33f9880971f6",
   "metadata": {},
   "source": [
    "### 2.1.1. 결측시 있을시"
   ]
  },
  {
   "cell_type": "markdown",
   "id": "efe545d7-fba5-4ffe-9fbc-75abe4d87f4f",
   "metadata": {},
   "source": [
    "* 결측치가 있는 row 확인"
   ]
  },
  {
   "cell_type": "code",
   "execution_count": null,
   "id": "72372e98-6aca-4e03-9f26-e84bed91c7ec",
   "metadata": {},
   "outputs": [],
   "source": [
    "df[df.isna().sum(axis=1) > 0]"
   ]
  },
  {
   "cell_type": "markdown",
   "id": "dff1a15b-0e88-40d5-9af5-b89185e266b6",
   "metadata": {},
   "source": [
    "* 결측치 처리\n",
    "\n",
    "카테고리형 feature가 결측치인 경우 : 해당 행들을 삭제   \n",
    "수치형 feature가 결측치인 경우 : 평균값을 채워줌  "
   ]
  },
  {
   "cell_type": "code",
   "execution_count": null,
   "id": "f85cb792-56f9-4cbe-9b8f-f251981a0504",
   "metadata": {},
   "outputs": [],
   "source": [
    "# 결측치를 처리하는 함수를 작성합니다.\n",
    "def handle_na(data, missing_col):\n",
    "    temp = data.copy()\n",
    "    for col, dtype in missing_col:\n",
    "        if dtype == 'O':\n",
    "            # 카테고리형 feature가 결측치인 경우 해당 행들을 삭제해 주었습니다.\n",
    "            temp = temp.dropna(subset=[col])\n",
    "        elif dtype == int or dtype == float:\n",
    "            # 수치형 feature가 결측치인 경우 평균값을 채워주었습니다.\n",
    "            temp.loc[:,col] = temp[col].fillna(temp[col].mean())\n",
    "    return temp\n",
    "\n",
    "df = handle_na(df, missing_col)\n",
    "\n",
    "# 결측치 처리가 잘 되었는지 확인해 줍니다.\n",
    "missing_col = check_missing_col(df) "
   ]
  },
  {
   "cell_type": "markdown",
   "id": "d6811c54-48ba-4008-8692-da5b030ed3fa",
   "metadata": {},
   "source": [
    "## 2.2. Label Encoding\n",
    "\n",
    "범주(카테고리)형 데이터 존재 시 문자열을 수치형으로 인코딩"
   ]
  },
  {
   "cell_type": "code",
   "execution_count": null,
   "id": "b235582d-acc2-4c08-afd4-5d22a05a8bd5",
   "metadata": {},
   "outputs": [],
   "source": [
    "#라벨인코딩을 하기 위함 dictionary map 생성 함수\n",
    "def make_label_map(dataframe):\n",
    "    label_maps = {}\n",
    "    for col in dataframe.columns:\n",
    "        if dataframe[col].dtype=='object':\n",
    "            label_map = {'unknown':0}\n",
    "            for i, key in enumerate(dataframe[col].unique()):\n",
    "                label_map[key] = i+1  #새로 등장하는 유니크 값들에 대해 1부터 1씩 증가시켜 키값을 부여해줍니다.\n",
    "            label_maps[col] = label_map\n",
    "    print(label_maps)\n",
    "    return label_maps\n",
    "\n",
    "# 각 범주형 변수에 인코딩 값을 부여하는 함수\n",
    "def label_encoder(dataframe, label_map):\n",
    "    for col in dataframe.columns:\n",
    "        if dataframe[col].dtype=='object':\n",
    "            dataframe[col] = dataframe[col].map(label_map[col])\n",
    "            dataframe[col] = dataframe[col].fillna(label_map[col]['unknown']) #혹시 모를 결측값은 unknown의 값(0)으로 채워줍니다.\n",
    "    return dataframe\n",
    "\n",
    "df = label_encoder(df, make_label_map(df))"
   ]
  },
  {
   "cell_type": "markdown",
   "id": "0d06404f-a45c-407f-a6de-ddddfec06d0d",
   "metadata": {},
   "source": [
    "# 3. 모델링"
   ]
  },
  {
   "cell_type": "markdown",
   "id": "af35c267-ae29-4b51-9a7a-2722e670b999",
   "metadata": {},
   "source": [
    "## 3.1. 변수 정의\n",
    "\n",
    "* X : 독립 변수 (피쳐)\n",
    "* y : 종속 변수 (타켓)"
   ]
  },
  {
   "cell_type": "code",
   "execution_count": null,
   "id": "b74280be-a4d1-46cb-806b-bc6e641e1d7b",
   "metadata": {},
   "outputs": [],
   "source": [
    "X = df.drop(['id', 'Target'], axis=1)\n",
    "y = df['Target']"
   ]
  },
  {
   "cell_type": "markdown",
   "id": "8ffc5409-599a-4cf0-b176-42816c75d27b",
   "metadata": {},
   "source": [
    "## 3.2. 모델 학습\n"
   ]
  },
  {
   "cell_type": "markdown",
   "id": "d5771e92-274a-41c6-9958-97134c005ce9",
   "metadata": {
    "tags": []
   },
   "source": [
    "### 3.2.1. 회귀 모델"
   ]
  },
  {
   "cell_type": "markdown",
   "id": "b3ceef27-de69-4d85-ade1-e15806bbd121",
   "metadata": {
    "tags": []
   },
   "source": [
    "#### 3.2.1.1. Linear Regression"
   ]
  },
  {
   "cell_type": "code",
   "execution_count": null,
   "id": "4ad96562-374f-4e44-b19e-40ba55763148",
   "metadata": {},
   "outputs": [],
   "source": [
    "from sklearn.linear_model import LinearRegression\n",
    "\n",
    "model = LinearRegression() # 모델 정의\n",
    "model.fit(X, y) # 학습"
   ]
  },
  {
   "cell_type": "markdown",
   "id": "d4789c12-b490-4184-88a8-842850760f64",
   "metadata": {},
   "source": [
    "#### 3.2.1.2. Random Forest Classifier"
   ]
  },
  {
   "cell_type": "code",
   "execution_count": null,
   "id": "1a3dddcf-63f0-48c5-95f5-951e17736a6e",
   "metadata": {},
   "outputs": [],
   "source": [
    "from sklearn.ensemble import RandomForestRegressor\n",
    "\n",
    "model = RandomForestRegressor()\n",
    "model.fit(X, y)"
   ]
  },
  {
   "cell_type": "markdown",
   "id": "e570b39f-968f-424d-bd8e-f0044b221d73",
   "metadata": {},
   "source": [
    "### 3.2.2. 분류 모델"
   ]
  },
  {
   "cell_type": "markdown",
   "id": "86df7ece-de20-4735-9068-9b2158974388",
   "metadata": {},
   "source": [
    "#### 3.2.2.1. Logistic Regression"
   ]
  },
  {
   "cell_type": "code",
   "execution_count": null,
   "id": "b65912f7-b59f-4f93-b6f2-eaf92b16c65d",
   "metadata": {},
   "outputs": [],
   "source": [
    "from sklearn.linear_model import LogisticRegression\n",
    "\n",
    "model = LogisticRegression()\n",
    "model.fit(X, y)"
   ]
  },
  {
   "cell_type": "markdown",
   "id": "f40c4ac3-cf83-4499-b5b8-92def07c3234",
   "metadata": {},
   "source": [
    "#### 3.2.2.2. Random Forest Classifier"
   ]
  },
  {
   "cell_type": "code",
   "execution_count": null,
   "id": "97308ebf-da13-4d94-bd18-b9572a77599f",
   "metadata": {
    "tags": []
   },
   "outputs": [],
   "source": [
    "from sklearn.ensemble import RandomForestClassifier\n",
    "\n",
    "model = RandomForestClassifier()\n",
    "model.fit(X, y)"
   ]
  },
  {
   "cell_type": "markdown",
   "id": "45c14206-f87b-406d-a408-b2794dae3161",
   "metadata": {},
   "source": [
    "# 4. 모델 예측"
   ]
  },
  {
   "cell_type": "markdown",
   "id": "7baa0620-4a4a-4c08-9807-e5e1eb8c5585",
   "metadata": {},
   "source": [
    "## 4.1 회귀 모델"
   ]
  },
  {
   "cell_type": "markdown",
   "id": "8c63f753-6e7d-4f47-9613-eb3e48037005",
   "metadata": {},
   "source": [
    "###  4.1.1. NMAE"
   ]
  },
  {
   "cell_type": "code",
   "execution_count": null,
   "id": "84452435-ce36-4a73-be48-a6115fd2168a",
   "metadata": {},
   "outputs": [],
   "source": [
    "import numpy as np\n",
    "from sklearn.metrics import mean_squared_error\n",
    "\n",
    "def nmae(true, pred):\n",
    "    mae = np.mean(np.abs(true-pred))\n",
    "    score = mae / np.mean(np.abs(true))\n",
    "    return score\n",
    "\n",
    "y_pred = model.predict(X_test)\n",
    "print(f'모델 NMAE: {nmae(y_test, y_pred)}')"
   ]
  },
  {
   "cell_type": "markdown",
   "id": "6be4c455-7b2d-4080-8e83-52a3dfec1ae4",
   "metadata": {},
   "source": [
    "### 4.1.2. RMSE"
   ]
  },
  {
   "cell_type": "code",
   "execution_count": null,
   "id": "5118d26f-7b63-4e02-9dcd-fc091215cef5",
   "metadata": {},
   "outputs": [],
   "source": [
    "from sklearn.metrics import mean_squared_error\n",
    "\n",
    "y_pred = model.predict(X_test)\n",
    "RMSE = mean_squared_error(y_test, y_pred)**0.5"
   ]
  },
  {
   "cell_type": "markdown",
   "id": "4de36985-0cf5-4c23-899c-ca5f8ca7bf3a",
   "metadata": {},
   "source": [
    "## 4.2. 분류 모델"
   ]
  },
  {
   "cell_type": "markdown",
   "id": "67a7ecc3-5e8e-4543-94de-6316792957ba",
   "metadata": {},
   "source": [
    "### 4.1.1. Accuracy"
   ]
  },
  {
   "cell_type": "code",
   "execution_count": null,
   "id": "efeb1a4f-50a6-4f07-a7fd-9b1bb59d89ab",
   "metadata": {},
   "outputs": [],
   "source": [
    "from sklearn.ensemble import RandomForestClassifier\n",
    "from sklearn.metrics import accuracy_score\n",
    "\n",
    "y_pred = model.predict(X_test)\n",
    "print('예측 정확도', round(accuracy_score(y_test, y_pred),3))"
   ]
  },
  {
   "cell_type": "markdown",
   "id": "91a7c16f-219a-44c5-8574-2580a02663eb",
   "metadata": {},
   "source": [
    "### 4.1.2. F1-score"
   ]
  },
  {
   "cell_type": "code",
   "execution_count": null,
   "id": "02f0a10d-ccff-44fd-bd76-8477cf31856d",
   "metadata": {},
   "outputs": [],
   "source": []
  }
 ],
 "metadata": {
  "kernelspec": {
   "display_name": "world",
   "language": "python",
   "name": "world"
  },
  "language_info": {
   "codemirror_mode": {
    "name": "ipython",
    "version": 3
   },
   "file_extension": ".py",
   "mimetype": "text/x-python",
   "name": "python",
   "nbconvert_exporter": "python",
   "pygments_lexer": "ipython3",
   "version": "3.8.13"
  }
 },
 "nbformat": 4,
 "nbformat_minor": 5
}
