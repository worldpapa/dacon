{
 "cells": [
  {
   "cell_type": "markdown",
   "id": "1d83c572-bc5a-4908-9692-6dc96a1a19a5",
   "metadata": {
    "id": "CnVOcLlr_yxd"
   },
   "source": [
    "# 쇼핑몰 리뷰 평점 분류 경진대회 베이스라인"
   ]
  },
  {
   "cell_type": "markdown",
   "id": "b616ee21-a630-455f-a7b9-7e56a73fb268",
   "metadata": {
    "id": "Z00Y8f17_34X"
   },
   "source": [
    "이번 대회는 쇼핑몰 리뷰 데이터를 통해 평점을 분류하는 대회입니다.\n",
    "\n",
    "1, 2, 4, 5의 분류하는 간단한 대회 처럼 보이지만,   \n",
    "자연어 처리를 처음 접하는 분들에게는 어디부터 시작해야 하는지 막막하실 겁니다.\n",
    "\n",
    "베이스라인을 통해 자연어 처리 기초에 입문해보세요!"
   ]
  },
  {
   "cell_type": "markdown",
   "id": "40ccf3fa-9f54-44b8-9d2f-bea4daac2dd1",
   "metadata": {
    "id": "ywgfgx8ZBePM"
   },
   "source": [
    "# 데이터 불러오기\n",
    "\n",
    "먼저 분석하려는 데이터를 작업장으로 가져오는 작업이 필요합니다.\n",
    "\n",
    "이를 위해서 파이썬 라이브러리 중 하나인 Pandas를 이용합니다.\n",
    "\n",
    "pandas 라이브러리는 엑셀과 같은 행과 열로 이루어진 테이블(table) 형식의 데이터를 편하게 다루도록 해주는 라이브러리입니다.\n",
    "\n",
    "데이터 분석에는 반드시 사용된다고 해도 과언이 아닌 라이브러리이니, 시간이 날때마다 공부해둡시다."
   ]
  },
  {
   "cell_type": "code",
   "execution_count": 1,
   "id": "872bd49d-c721-4221-a4b7-fd119aeffba5",
   "metadata": {
    "colab": {
     "base_uri": "https://localhost:8080/",
     "height": 206
    },
    "executionInfo": {
     "elapsed": 381,
     "status": "ok",
     "timestamp": 1647915696178,
     "user": {
      "displayName": "World Papa",
      "photoUrl": "https://lh3.googleusercontent.com/a/default-user=s64",
      "userId": "02589349459586782651"
     },
     "user_tz": -540
    },
    "id": "jQipZbQ3_sOF",
    "outputId": "47090df5-ff78-4db7-e155-dae4bdd07ce7"
   },
   "outputs": [
    {
     "data": {
      "text/html": [
       "<div>\n",
       "<style scoped>\n",
       "    .dataframe tbody tr th:only-of-type {\n",
       "        vertical-align: middle;\n",
       "    }\n",
       "\n",
       "    .dataframe tbody tr th {\n",
       "        vertical-align: top;\n",
       "    }\n",
       "\n",
       "    .dataframe thead th {\n",
       "        text-align: right;\n",
       "    }\n",
       "</style>\n",
       "<table border=\"1\" class=\"dataframe\">\n",
       "  <thead>\n",
       "    <tr style=\"text-align: right;\">\n",
       "      <th></th>\n",
       "      <th>id</th>\n",
       "      <th>reviews</th>\n",
       "      <th>target</th>\n",
       "    </tr>\n",
       "  </thead>\n",
       "  <tbody>\n",
       "    <tr>\n",
       "      <th>0</th>\n",
       "      <td>0</td>\n",
       "      <td>조아요 처음구입 싸게햇어요</td>\n",
       "      <td>2</td>\n",
       "    </tr>\n",
       "    <tr>\n",
       "      <th>1</th>\n",
       "      <td>1</td>\n",
       "      <td>생각보다 잘 안돼요 매지 바른지 하루밖에 안됐는데ㅠㅠ 25천원가량 주고 사기 너무 ...</td>\n",
       "      <td>1</td>\n",
       "    </tr>\n",
       "    <tr>\n",
       "      <th>2</th>\n",
       "      <td>2</td>\n",
       "      <td>디자인은괜찮은데 상품이 금이가서 교환했는데 두번째받은상품도 까져있고 안쪽에 금이가져...</td>\n",
       "      <td>2</td>\n",
       "    </tr>\n",
       "    <tr>\n",
       "      <th>3</th>\n",
       "      <td>3</td>\n",
       "      <td>기전에 이 제품말고 이마트 트레이더스에서만 팔던 프리미엄 제품을 사용했었습니다. 샘...</td>\n",
       "      <td>2</td>\n",
       "    </tr>\n",
       "    <tr>\n",
       "      <th>4</th>\n",
       "      <td>4</td>\n",
       "      <td>튼튼하고 손목을 잘 받쳐주네요~</td>\n",
       "      <td>5</td>\n",
       "    </tr>\n",
       "  </tbody>\n",
       "</table>\n",
       "</div>"
      ],
      "text/plain": [
       "   id                                            reviews  target\n",
       "0   0                                     조아요 처음구입 싸게햇어요       2\n",
       "1   1  생각보다 잘 안돼요 매지 바른지 하루밖에 안됐는데ㅠㅠ 25천원가량 주고 사기 너무 ...       1\n",
       "2   2  디자인은괜찮은데 상품이 금이가서 교환했는데 두번째받은상품도 까져있고 안쪽에 금이가져...       2\n",
       "3   3  기전에 이 제품말고 이마트 트레이더스에서만 팔던 프리미엄 제품을 사용했었습니다. 샘...       2\n",
       "4   4                                  튼튼하고 손목을 잘 받쳐주네요~       5"
      ]
     },
     "execution_count": 1,
     "metadata": {},
     "output_type": "execute_result"
    }
   ],
   "source": [
    "import pandas as pd\n",
    "\n",
    "#csv 형식의 training 데이터를 로드합니다.\n",
    "train = pd.read_csv('data/train.csv')\n",
    "\n",
    "#데이터 살펴보기 위해 데이터 최상단의 5줄을 표시합니다.\n",
    "train.head() "
   ]
  },
  {
   "cell_type": "code",
   "execution_count": 2,
   "id": "90c7d4a8-f917-43b8-a12b-29a2bb0088ba",
   "metadata": {
    "colab": {
     "base_uri": "https://localhost:8080/"
    },
    "executionInfo": {
     "elapsed": 253,
     "status": "ok",
     "timestamp": 1647915705346,
     "user": {
      "displayName": "World Papa",
      "photoUrl": "https://lh3.googleusercontent.com/a/default-user=s64",
      "userId": "02589349459586782651"
     },
     "user_tz": -540
    },
    "id": "HNyQtnDbPwDK",
    "outputId": "ed0d2910-7a8a-4af7-c8b7-ae50b53acd13"
   },
   "outputs": [
    {
     "data": {
      "text/plain": [
       "(25000, 3)"
      ]
     },
     "execution_count": 2,
     "metadata": {},
     "output_type": "execute_result"
    }
   ],
   "source": [
    "train.shape"
   ]
  },
  {
   "cell_type": "markdown",
   "id": "67cb8b7a-64ba-4b00-b0e1-35d41d7e0557",
   "metadata": {
    "id": "S7cAncqCBvt6"
   },
   "source": [
    "# 결측치 확인\n",
    "\n",
    "결측치(NA: Not Available)란 값이 누락된 데이터를 말합니다.\n",
    "\n",
    "보다 정확한 분석을 하기 위해서는 데이터의 결측치를 확인하고 적절히 처리해주어야 합니다.\n",
    "\n",
    "이번 데이터에 결측치가 있나 확인해볼까요?"
   ]
  },
  {
   "cell_type": "code",
   "execution_count": 3,
   "id": "9765b87d-4509-4f99-ad87-6e3c0c26b14e",
   "metadata": {
    "colab": {
     "base_uri": "https://localhost:8080/"
    },
    "executionInfo": {
     "elapsed": 249,
     "status": "ok",
     "timestamp": 1647915709493,
     "user": {
      "displayName": "World Papa",
      "photoUrl": "https://lh3.googleusercontent.com/a/default-user=s64",
      "userId": "02589349459586782651"
     },
     "user_tz": -540
    },
    "id": "SyzZxhGSBteb",
    "outputId": "3897e903-2e6d-4e1d-e2ec-fa33b731314e"
   },
   "outputs": [
    {
     "name": "stdout",
     "output_type": "stream",
     "text": [
      "결측치가 존재하지 않습니다\n"
     ]
    }
   ],
   "source": [
    "def check_missing_col(dataframe):\n",
    "    missing_col = []\n",
    "    for col in dataframe.columns:\n",
    "        missing_values = sum(dataframe[col].isna())\n",
    "        is_missing = True if missing_values >= 1 else False\n",
    "        if is_missing:\n",
    "            print(f'결측치가 있는 컬럼은: {col} 입니다')\n",
    "            print(f'해당 컬럼에 총 {missing_values} 개의 결측치가 존재합니다.')\n",
    "            missing_col.append([col, dataframe[col].dtype])\n",
    "    if missing_col == []:\n",
    "        print('결측치가 존재하지 않습니다')\n",
    "    return missing_col\n",
    "\n",
    "missing_col = check_missing_col(train)"
   ]
  },
  {
   "cell_type": "markdown",
   "id": "f9105f8f-3ba0-4f0a-a960-cc8802c06b4d",
   "metadata": {},
   "source": [
    "## 모델링\n",
    "\n",
    "### 변수 정의\n",
    "\n",
    "이제 본격적으로 모델을 설계하기 위해 데이터를 독립변수(X)와 종속변수(y) 로 나누어 줍니다\n",
    "\n",
    "우리의 목적은 주어진 쇼핑몰 리뷰 데이터를 이용하여 평점(target)을 예측하는 것입니다.\n",
    "\n",
    "그럼 가격을 제외한 중고차 리뷰가 X, 평점(target)이 y가 되겠죠?"
   ]
  },
  {
   "cell_type": "code",
   "execution_count": 4,
   "id": "98036283-2374-47e0-a808-93ee298a844f",
   "metadata": {},
   "outputs": [],
   "source": [
    "X = train.reviews #training 데이터에서 피쳐 추출\n",
    "y = train.target #training 데이터에서 중고차 가격 추출"
   ]
  },
  {
   "cell_type": "markdown",
   "id": "140ecbf7-b74e-4ef0-8738-39edc599b6ec",
   "metadata": {},
   "source": [
    "이렇게 X와 y를 잘 정의해주었습니다.\n",
    "\n",
    "<br>\n",
    "\n",
    "### train/vaildation 정의\n",
    "\n",
    "이제 우리는 모델을 만들어야 하는데,   \n",
    "모델을 만들기 앞서 내가 만들 모델이 유의미한지 알아야 좋은 결론을 도출 할 수 있겠죠?   \n",
    "\n",
    "<br> \n",
    "\n",
    "하지만 단순히 주어진 데이터로 train셋 데이터를 학습시켜서 목표값인 test 셋에 집어 넣어 예측값을 도출하면,   \n",
    "모델이 적합한지 알 방법이 없습니다.   \n",
    "\n",
    "<br> \n",
    "\n",
    "따라서 train 셋에서 70%를 학습을 시키는데 쓰고, 나머지 25%를 모델이 유의미한지 검증하는데 사용할 것입니다.   \n",
    "이후 유의미하다면, 실제로 제출할 모델을 만들 때, train 셋 100%를 학습을 시키면 되겠죠?\n",
    "\n",
    "<br>\n",
    "\n",
    "자 그럼 train 셋에서 학습시킬 셋 train_data와 검증할 셋 val_data를 만들어 봅시다!"
   ]
  },
  {
   "cell_type": "code",
   "execution_count": 5,
   "id": "ea1ddc0e-1b12-4c5f-b71f-e15ef0d14521",
   "metadata": {},
   "outputs": [],
   "source": [
    "from sklearn.model_selection import train_test_split\n",
    "\n",
    "#data = train.drop('id', axis = 1).copy() #필요없는 id열 삭제\n",
    "train_data, val_data = train_test_split(train, test_size=0.25, stratify = train.target) #25프로로 설정\n",
    "train_data = train_data.reset_index().drop('index', axis=1) #전처리 과정에서 데이터가 뒤섞이지 않도록 인덱스를 초기화\n",
    "val_data = val_data.reset_index().drop('index', axis=1)"
   ]
  },
  {
   "cell_type": "code",
   "execution_count": 6,
   "id": "19e4d9a3-f6f6-48fd-95e8-d5083d35fb64",
   "metadata": {},
   "outputs": [
    {
     "data": {
      "text/html": [
       "<div>\n",
       "<style scoped>\n",
       "    .dataframe tbody tr th:only-of-type {\n",
       "        vertical-align: middle;\n",
       "    }\n",
       "\n",
       "    .dataframe tbody tr th {\n",
       "        vertical-align: top;\n",
       "    }\n",
       "\n",
       "    .dataframe thead th {\n",
       "        text-align: right;\n",
       "    }\n",
       "</style>\n",
       "<table border=\"1\" class=\"dataframe\">\n",
       "  <thead>\n",
       "    <tr style=\"text-align: right;\">\n",
       "      <th></th>\n",
       "      <th>id</th>\n",
       "      <th>reviews</th>\n",
       "      <th>target</th>\n",
       "    </tr>\n",
       "  </thead>\n",
       "  <tbody>\n",
       "    <tr>\n",
       "      <th>0</th>\n",
       "      <td>5568</td>\n",
       "      <td>그냥뭐 그럭저럭 쓸만함 색선택지가 몇개없었는데 색도 다 별로고 옷 살때 배송비때문에...</td>\n",
       "      <td>4</td>\n",
       "    </tr>\n",
       "    <tr>\n",
       "      <th>1</th>\n",
       "      <td>24284</td>\n",
       "      <td>버튼이 잘 안눌려요 비추입니다.</td>\n",
       "      <td>1</td>\n",
       "    </tr>\n",
       "    <tr>\n",
       "      <th>2</th>\n",
       "      <td>7326</td>\n",
       "      <td>스위치 샤워기헤드의 호스 연결부분 그릴 부분이 깨져있어요</td>\n",
       "      <td>2</td>\n",
       "    </tr>\n",
       "    <tr>\n",
       "      <th>3</th>\n",
       "      <td>10869</td>\n",
       "      <td>다들 많이써서 구매했어요 색깔 이뻐요</td>\n",
       "      <td>5</td>\n",
       "    </tr>\n",
       "    <tr>\n",
       "      <th>4</th>\n",
       "      <td>15385</td>\n",
       "      <td>통풍시트 주문하면서 여분으로 구입했어요 필터 교체가 쉬워서 좋네요</td>\n",
       "      <td>4</td>\n",
       "    </tr>\n",
       "  </tbody>\n",
       "</table>\n",
       "</div>"
      ],
      "text/plain": [
       "      id                                            reviews  target\n",
       "0   5568  그냥뭐 그럭저럭 쓸만함 색선택지가 몇개없었는데 색도 다 별로고 옷 살때 배송비때문에...       4\n",
       "1  24284                                  버튼이 잘 안눌려요 비추입니다.       1\n",
       "2   7326                    스위치 샤워기헤드의 호스 연결부분 그릴 부분이 깨져있어요       2\n",
       "3  10869                               다들 많이써서 구매했어요 색깔 이뻐요       5\n",
       "4  15385               통풍시트 주문하면서 여분으로 구입했어요 필터 교체가 쉬워서 좋네요       4"
      ]
     },
     "execution_count": 6,
     "metadata": {},
     "output_type": "execute_result"
    }
   ],
   "source": [
    "train_data.head()"
   ]
  },
  {
   "cell_type": "code",
   "execution_count": 7,
   "id": "b64154d0-4477-4034-8cbb-7f0eaaa9deba",
   "metadata": {},
   "outputs": [
    {
     "name": "stdout",
     "output_type": "stream",
     "text": [
      "학습시킬 train 셋 :  (18750, 3)\n",
      "검증할 val 셋 :  (6250, 3)\n"
     ]
    }
   ],
   "source": [
    "print('학습시킬 train 셋 : ', train_data.shape)\n",
    "print('검증할 val 셋 : ', val_data.shape)"
   ]
  },
  {
   "cell_type": "code",
   "execution_count": 8,
   "id": "6235ade2-00bd-4cc4-8b0c-fd343ad69303",
   "metadata": {},
   "outputs": [],
   "source": [
    "train_X = train_data.reviews# training 데이터에서 피쳐 추출\n",
    "train_y = train_data.target #training 데이터에서 target 추출\n",
    "\n",
    "val_X = val_data.reviews #training 데이터에서 피쳐 추출\n",
    "val_y = val_data.target #validation 데이터에서 target 추출"
   ]
  },
  {
   "cell_type": "markdown",
   "id": "db29693c-738e-409b-90f2-523bd6fd1a37",
   "metadata": {
    "id": "Yqv6n-MYb8kW"
   },
   "source": [
    "# CountVectorizer 의 이해\n",
    "\n",
    "컴퓨터는 일반적으로 문장(텍스트)을 계산할 수 없고 숫자형 피처를 데이터로 입력받아 동작하기 때문에 \n",
    "\n",
    "텍스트와 같은 데이터는 머신러닝 알고리즘에 바로 입력할 수가 없습니다. \n",
    "\n",
    "따라서 컴퓨터가 계산을 하기 위해서는 먼저 문장을 숫자형 값으로 바꾼 다음 계산하도록 해야 합니다.\n",
    "\n",
    "이것을 워드 임베딩(word embedding)이라고 합니다.\n",
    "\n",
    "이번 베이스라인에서는 CountVectorizer 기법을 사용해 문장을 숫자로 표현해보겠습니다.\n",
    "\n",
    "CountVectorizer 는 입력된 문장을 토큰화(Tokenize)하여 토큰의 등장 빈도 벡터로 바꿔주는 기법입니다.\n",
    "\n",
    "토큰화란 문장를 의미가 있는 최소의 단위로 쪼개는 것을 의미합니다.\n",
    "\n",
    "예를 들어 \"hello, I am a data scientist!\" 라는 문장을 띄어쓰기 기준으로 토큰화 시키면\n",
    "\n",
    "\"hello\", \",\", \"I\", \"am\", \"a\", \"data\", \"scientist\", \"!\" 라는 8개의 토큰으로 토큰화 됩니다.\n",
    "\n",
    "토큰화를 하는 방식은 여러가지가 있지만 이번 베이스라인에서는 띄어쓰기를 기준으로 토큰화를 진행해보겠습니다.\n",
    "\n",
    "CountVectorizer 사용을 위해 sklearn 패키지에 있는 CountVectorizer 를 불러옵니다."
   ]
  },
  {
   "cell_type": "code",
   "execution_count": 9,
   "id": "b1b56fc4-deea-46c7-983a-180b91ea74f4",
   "metadata": {
    "id": "0HejNQnsbzai"
   },
   "outputs": [],
   "source": [
    "from sklearn.feature_extraction.text import CountVectorizer #sklearn 패키지의 CountVectorizer import\n",
    "\n",
    "sample_vectorizer = CountVectorizer() #객체 생성"
   ]
  },
  {
   "cell_type": "markdown",
   "id": "0d07e83c-f6b2-4ef7-acf8-d232fa6f1c4b",
   "metadata": {
    "id": "pWdgwvMQcEz1"
   },
   "source": [
    "이제 CounterVectorizer 를 학습 시켜주어야 합니다.\n",
    "\n",
    "어떠한 단어들을 사용할 지, 어떠한 단어가 중요도를 가지는지 학습하는 과정입니다.\n",
    "\n",
    "CountVectorizer 의 경우 단어의 출현 빈도를 기준으로 문장을 벡터(=숫자의 집합)로 바꿔줍니다."
   ]
  },
  {
   "cell_type": "code",
   "execution_count": 10,
   "id": "372e880e-a3bb-4fa4-840f-9ce57fabb62b",
   "metadata": {
    "colab": {
     "base_uri": "https://localhost:8080/"
    },
    "executionInfo": {
     "elapsed": 274,
     "status": "ok",
     "timestamp": 1647915881323,
     "user": {
      "displayName": "World Papa",
      "photoUrl": "https://lh3.googleusercontent.com/a/default-user=s64",
      "userId": "02589349459586782651"
     },
     "user_tz": -540
    },
    "id": "ZtnT5BqRcBzR",
    "outputId": "75b8e807-039d-4234-81d7-bddad3fad74f"
   },
   "outputs": [
    {
     "data": {
      "text/html": [
       "<style>#sk-container-id-1 {color: black;background-color: white;}#sk-container-id-1 pre{padding: 0;}#sk-container-id-1 div.sk-toggleable {background-color: white;}#sk-container-id-1 label.sk-toggleable__label {cursor: pointer;display: block;width: 100%;margin-bottom: 0;padding: 0.3em;box-sizing: border-box;text-align: center;}#sk-container-id-1 label.sk-toggleable__label-arrow:before {content: \"▸\";float: left;margin-right: 0.25em;color: #696969;}#sk-container-id-1 label.sk-toggleable__label-arrow:hover:before {color: black;}#sk-container-id-1 div.sk-estimator:hover label.sk-toggleable__label-arrow:before {color: black;}#sk-container-id-1 div.sk-toggleable__content {max-height: 0;max-width: 0;overflow: hidden;text-align: left;background-color: #f0f8ff;}#sk-container-id-1 div.sk-toggleable__content pre {margin: 0.2em;color: black;border-radius: 0.25em;background-color: #f0f8ff;}#sk-container-id-1 input.sk-toggleable__control:checked~div.sk-toggleable__content {max-height: 200px;max-width: 100%;overflow: auto;}#sk-container-id-1 input.sk-toggleable__control:checked~label.sk-toggleable__label-arrow:before {content: \"▾\";}#sk-container-id-1 div.sk-estimator input.sk-toggleable__control:checked~label.sk-toggleable__label {background-color: #d4ebff;}#sk-container-id-1 div.sk-label input.sk-toggleable__control:checked~label.sk-toggleable__label {background-color: #d4ebff;}#sk-container-id-1 input.sk-hidden--visually {border: 0;clip: rect(1px 1px 1px 1px);clip: rect(1px, 1px, 1px, 1px);height: 1px;margin: -1px;overflow: hidden;padding: 0;position: absolute;width: 1px;}#sk-container-id-1 div.sk-estimator {font-family: monospace;background-color: #f0f8ff;border: 1px dotted black;border-radius: 0.25em;box-sizing: border-box;margin-bottom: 0.5em;}#sk-container-id-1 div.sk-estimator:hover {background-color: #d4ebff;}#sk-container-id-1 div.sk-parallel-item::after {content: \"\";width: 100%;border-bottom: 1px solid gray;flex-grow: 1;}#sk-container-id-1 div.sk-label:hover label.sk-toggleable__label {background-color: #d4ebff;}#sk-container-id-1 div.sk-serial::before {content: \"\";position: absolute;border-left: 1px solid gray;box-sizing: border-box;top: 0;bottom: 0;left: 50%;z-index: 0;}#sk-container-id-1 div.sk-serial {display: flex;flex-direction: column;align-items: center;background-color: white;padding-right: 0.2em;padding-left: 0.2em;position: relative;}#sk-container-id-1 div.sk-item {position: relative;z-index: 1;}#sk-container-id-1 div.sk-parallel {display: flex;align-items: stretch;justify-content: center;background-color: white;position: relative;}#sk-container-id-1 div.sk-item::before, #sk-container-id-1 div.sk-parallel-item::before {content: \"\";position: absolute;border-left: 1px solid gray;box-sizing: border-box;top: 0;bottom: 0;left: 50%;z-index: -1;}#sk-container-id-1 div.sk-parallel-item {display: flex;flex-direction: column;z-index: 1;position: relative;background-color: white;}#sk-container-id-1 div.sk-parallel-item:first-child::after {align-self: flex-end;width: 50%;}#sk-container-id-1 div.sk-parallel-item:last-child::after {align-self: flex-start;width: 50%;}#sk-container-id-1 div.sk-parallel-item:only-child::after {width: 0;}#sk-container-id-1 div.sk-dashed-wrapped {border: 1px dashed gray;margin: 0 0.4em 0.5em 0.4em;box-sizing: border-box;padding-bottom: 0.4em;background-color: white;}#sk-container-id-1 div.sk-label label {font-family: monospace;font-weight: bold;display: inline-block;line-height: 1.2em;}#sk-container-id-1 div.sk-label-container {text-align: center;}#sk-container-id-1 div.sk-container {/* jupyter's `normalize.less` sets `[hidden] { display: none; }` but bootstrap.min.css set `[hidden] { display: none !important; }` so we also need the `!important` here to be able to override the default hidden behavior on the sphinx rendered scikit-learn.org. See: https://github.com/scikit-learn/scikit-learn/issues/21755 */display: inline-block !important;position: relative;}#sk-container-id-1 div.sk-text-repr-fallback {display: none;}</style><div id=\"sk-container-id-1\" class=\"sk-top-container\"><div class=\"sk-text-repr-fallback\"><pre>CountVectorizer()</pre><b>In a Jupyter environment, please rerun this cell to show the HTML representation or trust the notebook. <br />On GitHub, the HTML representation is unable to render, please try loading this page with nbviewer.org.</b></div><div class=\"sk-container\" hidden><div class=\"sk-item\"><div class=\"sk-estimator sk-toggleable\"><input class=\"sk-toggleable__control sk-hidden--visually\" id=\"sk-estimator-id-1\" type=\"checkbox\" checked><label for=\"sk-estimator-id-1\" class=\"sk-toggleable__label sk-toggleable__label-arrow\">CountVectorizer</label><div class=\"sk-toggleable__content\"><pre>CountVectorizer()</pre></div></div></div></div></div>"
      ],
      "text/plain": [
       "CountVectorizer()"
      ]
     },
     "execution_count": 10,
     "metadata": {},
     "output_type": "execute_result"
    }
   ],
   "source": [
    "sample_text1 = [\"hello, my name is dacon and I am a data scientist!\"]\n",
    "\n",
    "sample_vectorizer.fit(sample_text1) #CountVectorizer 학습"
   ]
  },
  {
   "cell_type": "markdown",
   "id": "32b15ce2-e83a-4d32-acc7-b6c45de8db53",
   "metadata": {
    "id": "cKjE8da6cOrO"
   },
   "source": [
    "이제 학습이 완료되었습니다.\n",
    "\n",
    "먼저 sample_vectorizer 가 학습한 단어 목록을 확인해보겠습니다.\n",
    "\n",
    "이를 Vocabulary라고 하며, 앞으로 sample_vectorizer는 이 Vocab을 기준으로 새로운 문장을 숫자로 바꿔줄 것입니다.\n",
    "\n",
    "\n"
   ]
  },
  {
   "cell_type": "code",
   "execution_count": 11,
   "id": "cee63460-b9ee-4446-a022-03c0e5955f74",
   "metadata": {
    "colab": {
     "base_uri": "https://localhost:8080/"
    },
    "executionInfo": {
     "elapsed": 241,
     "status": "ok",
     "timestamp": 1647915892663,
     "user": {
      "displayName": "World Papa",
      "photoUrl": "https://lh3.googleusercontent.com/a/default-user=s64",
      "userId": "02589349459586782651"
     },
     "user_tz": -540
    },
    "id": "5ed4dxg8cM_k",
    "outputId": "4c441ae7-1ddc-4a7d-995d-371db3e2fa6e"
   },
   "outputs": [
    {
     "name": "stdout",
     "output_type": "stream",
     "text": [
      "{'hello': 4, 'my': 6, 'name': 7, 'is': 5, 'dacon': 2, 'and': 1, 'am': 0, 'data': 3, 'scientist': 8}\n"
     ]
    }
   ],
   "source": [
    "print(sample_vectorizer.vocabulary_) #Vocabulary"
   ]
  },
  {
   "cell_type": "markdown",
   "id": "e53cc491-95e6-4a6e-a1e1-6d54cb04c619",
   "metadata": {
    "id": "spCeIo4BcWdQ"
   },
   "source": [
    "![스크린샷 2022-03-22 오전 11.25.09.png](data:image/png;base64,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)"
   ]
  },
  {
   "cell_type": "markdown",
   "id": "e925a84d-8d4a-4612-93e6-38d2b8c6e5dd",
   "metadata": {
    "id": "UVskoTckccBJ"
   },
   "source": [
    "\"hello, my name is dacon and I am a data scientist\" 문장으로 vectorizer 를 학습 시켰습니다.\n",
    "\n",
    "sklearn의 CountVectorizer는 \"I\", \"a\" 와 같이 길이가 2 이하인 단어들과, \",\", !\" 같은 특수 문자를 의미가 적다고 판단하여 제외시킵니다.\n",
    "\n",
    "그래서 최종적으로는 9개의 단어들이 Vocab 에 포함되어있습니다.\n",
    "\n",
    "그럼 이제 다른 문장을 sample_vectorizer 를 활용해 벡터로 transform 해볼까요?"
   ]
  },
  {
   "cell_type": "code",
   "execution_count": 12,
   "id": "27e5758a-f386-4d7a-b9b7-1192c2676e7b",
   "metadata": {
    "colab": {
     "base_uri": "https://localhost:8080/"
    },
    "executionInfo": {
     "elapsed": 258,
     "status": "ok",
     "timestamp": 1647915948597,
     "user": {
      "displayName": "World Papa",
      "photoUrl": "https://lh3.googleusercontent.com/a/default-user=s64",
      "userId": "02589349459586782651"
     },
     "user_tz": -540
    },
    "id": "z5SnepvjcP01",
    "outputId": "561e1a53-bea1-41ee-a6b4-7822efef762b"
   },
   "outputs": [
    {
     "name": "stdout",
     "output_type": "stream",
     "text": [
      "[[0 0 1 1 0 0 0 0 0]]\n"
     ]
    }
   ],
   "source": [
    "sample_text2 = [\"you are learning dacon data science\"]\n",
    "\n",
    "sample_vector = sample_vectorizer.transform(sample_text2)\n",
    "print(sample_vector.toarray())"
   ]
  },
  {
   "cell_type": "markdown",
   "id": "f40207c1-a9c7-4efe-b8f0-c81aafa048f2",
   "metadata": {
    "id": "eHXpeOM9cmHP"
   },
   "source": [
    "\"you are learning dacon data science\" 문장을 sample_vectorizer 를 활용해 transform 해보았습니다.\n",
    "\n",
    "단어들의 출현 빈도로 이루어진 크기 9의 백터가 출력되었습니다. 이 벡터를 BoW 라고 합니다.\n",
    "\n",
    "BoW 란 \"Bag of Words\" 의 약자로 CountVectorizer 로 변환된 단어의 집합을 말합니다\n",
    "\n",
    "특정 단어가 N번 등장했다면, 그 특정 단어가 N개가 들어있습니다. \n",
    "\n",
    "또한 단어를 섞었기 때문에 더 이상 단어의 순서는 중요하지 않습니다.\n",
    "\n",
    "BoW를 만드는 과정은 이렇게 두 가지 과정이 있습니다.\n",
    "\n",
    "(1) 우선 각 단어에 고유한 정수 인덱스를 부여합니다.\n",
    "\n",
    "(2) 각 인덱스의 위치에 단어 토큰의 등장 횟수를 기록한 벡터를 만듭니다.\n",
    "\n",
    "sample_text2 문장 내에는 \"dacon\", \"data\" 단어가 각 1번 씩 출현했습니다.\n",
    "\n",
    "따라서 \"dacon\" 과 \"data\" 에 해당하는 인덱스의 값이 1로 표시되어 있고, 등장하지 않은 단어들은 0으로 표시되어 있습니다."
   ]
  },
  {
   "cell_type": "code",
   "execution_count": 13,
   "id": "ff19c45e-3479-4afa-bbfc-24622e21b8f2",
   "metadata": {
    "colab": {
     "base_uri": "https://localhost:8080/"
    },
    "executionInfo": {
     "elapsed": 245,
     "status": "ok",
     "timestamp": 1647916011223,
     "user": {
      "displayName": "World Papa",
      "photoUrl": "https://lh3.googleusercontent.com/a/default-user=s64",
      "userId": "02589349459586782651"
     },
     "user_tz": -540
    },
    "id": "hZo6iiYCcdbL",
    "outputId": "0dd9004b-809a-4d8e-e2a6-085d556f2ddf"
   },
   "outputs": [
    {
     "name": "stdout",
     "output_type": "stream",
     "text": [
      "[[0 0 1 2 0 0 0 0 0]]\n"
     ]
    }
   ],
   "source": [
    "sample_text3 = [\"you are learning dacon data science with news data\"]\n",
    "\n",
    "sample_vector2 = sample_vectorizer.transform(sample_text3)\n",
    "print(sample_vector2.toarray())"
   ]
  },
  {
   "cell_type": "markdown",
   "id": "320e5765-11e2-4687-9f72-2960d4f49286",
   "metadata": {
    "id": "MJ3Kf3vfcvBG"
   },
   "source": [
    "\"you are learning dacon data science with news data\" 문장에는 \"dacon\" 단어가 1번, \"data\" 단어가 2번 출현했습니다.\n",
    "\n",
    "따라서 \"dacon\" 단어에 해당하는 인덱스에는 1의 값이, \"data\" 에 해당하는 인덱스에는 2의 값이 할당되었습니다.\n",
    "\n",
    "CountVectorizer 는 위와 같이 작동합니다.\n",
    "\n",
    "이해를 위해 CountVectorizer 를 하나의 문장을 사용해 학습 시켰기에 생성된 Vocab과 BoW 의 크기는 모두 9 였습니다.\n",
    "\n",
    "하지만 더 큰 데이터를 사용해 CountVectorizer 를 학습시킨다면 Vocab과 Bow 의 크기는 더욱 증가할 것입니다.\n",
    "\n",
    "이처럼 BoW는 각 단어가 등장한 횟수를 수치화하는 텍스트 표현 방법이기 때문에, \n",
    "\n",
    "주로 어떤 단어가 얼마나 등장했는지를 기준으로 문서가 어떤 성격의 문서인지를 판단하는 작업에 쓰입니다. \n",
    "\n",
    "즉, 분류 문제나 여러 문서 간의 유사도를 구하는 문제에 주로 쓰입니다."
   ]
  },
  {
   "cell_type": "markdown",
   "id": "bffb2299-6b6a-4e96-b6dc-1766541ea706",
   "metadata": {},
   "source": [
    "## 쇼핑몰 리뷰 데이터 CountVectorizer 적용\n",
    "\n",
    "먼저 새로운 객체를 생성하여 CountVectorizer 를 할당해 줍니다.\n",
    "\n",
    "다음 미리 준비해두었던 데이터를 사용해 CountVectorizer 를 학습 시켜줍니다."
   ]
  },
  {
   "cell_type": "code",
   "execution_count": 14,
   "id": "eb631611-e3ab-4285-bd8d-c0613c5d854d",
   "metadata": {},
   "outputs": [],
   "source": [
    "from sklearn.feature_extraction.text import CountVectorizer #sklearn 패키지의 CountVectorizer import\n",
    "\n",
    "vectorizer = CountVectorizer() #countvectorizer 생성\n",
    "vectorizer.fit(train_X) #countvectorizer 학습\n",
    "train_X = vectorizer.transform(train_X) #transform\n",
    "val_X = vectorizer.transform(val_X)"
   ]
  },
  {
   "cell_type": "markdown",
   "id": "6db63907-6b2d-4c71-ae81-2a206ca3a469",
   "metadata": {
    "id": "MiMoc7-Qf9mg"
   },
   "source": [
    "이제 CountVectorizer 를 학습 시켰습니다.\n",
    "\n",
    "X 는 이제 자연어가 아닌 숫자형 백터 데이터로 이루어져 있습니다.\n",
    "\n",
    "이제는 머신러닝 모델의 input 값으로 적절한 데이터의 형식을 갖춘 것입니다!"
   ]
  },
  {
   "cell_type": "markdown",
   "id": "b309fb53-ae1c-4df7-a7e3-b1a8c834dc38",
   "metadata": {
    "id": "VeGvmc4Llo6K"
   },
   "source": [
    "역변환을 통하여 문장의 단어들을 확인할 수도 있습니다."
   ]
  },
  {
   "cell_type": "code",
   "execution_count": 15,
   "id": "a59ae10c-82f8-427c-8e43-0a5620883100",
   "metadata": {
    "colab": {
     "base_uri": "https://localhost:8080/"
    },
    "executionInfo": {
     "elapsed": 243,
     "status": "ok",
     "timestamp": 1647918149131,
     "user": {
      "displayName": "World Papa",
      "photoUrl": "https://lh3.googleusercontent.com/a/default-user=s64",
      "userId": "02589349459586782651"
     },
     "user_tz": -540
    },
    "id": "fUIFTGZRk2cY",
    "outputId": "20770579-d033-4090-f6e0-095bb45486fe"
   },
   "outputs": [
    {
     "data": {
      "text/plain": [
       "[array(['그냥뭐', '그럭저럭', '몇개없었는데', '배송비때문에', '별로고', '사지말껄', '산건데', '살때',\n",
       "        '색도', '색선택지가', '쓸만함', '하나'], dtype='<U100')]"
      ]
     },
     "execution_count": 15,
     "metadata": {},
     "output_type": "execute_result"
    }
   ],
   "source": [
    "vectorizer.inverse_transform(train_X[0]) #역변환하여 첫번째 문장의 단어들 확인"
   ]
  },
  {
   "cell_type": "markdown",
   "id": "3b1707bf-c6a7-4729-8b67-3044c566def9",
   "metadata": {
    "id": "OKuxm6cSgDLU"
   },
   "source": [
    "# Logistic Regression"
   ]
  },
  {
   "cell_type": "markdown",
   "id": "4f30a9d0-a755-4e83-aa90-e388fb37401b",
   "metadata": {
    "id": "RTRekxbagJoD"
   },
   "source": [
    "분류 문제를 효과적으로 잘 처리할 수 있는 알고리즘은 로지스틱 회귀, 선형 서포트 벡터 머신, 나이브 베이즈 등이 있습니다.\n",
    "\n",
    "이중에서 LogisticRegression 모델을 사용하여 뉴스의 토픽을 분류해보겠습니다.\n",
    "\n",
    "예측하고자 하는 것이 연속적인 값을 갖는 수치 형태가 아닌, 1 단위로 끊어지는 분류 문제이기 때문에\n",
    "\n",
    "category를 분류할 때 사용하는 LogisticRegression을 이용하여 진행하도록 하겠습니다."
   ]
  },
  {
   "cell_type": "code",
   "execution_count": 16,
   "id": "a5f77c4f-c6a6-417e-983e-722184b1385c",
   "metadata": {},
   "outputs": [
    {
     "data": {
      "text/html": [
       "<style>#sk-container-id-2 {color: black;background-color: white;}#sk-container-id-2 pre{padding: 0;}#sk-container-id-2 div.sk-toggleable {background-color: white;}#sk-container-id-2 label.sk-toggleable__label {cursor: pointer;display: block;width: 100%;margin-bottom: 0;padding: 0.3em;box-sizing: border-box;text-align: center;}#sk-container-id-2 label.sk-toggleable__label-arrow:before {content: \"▸\";float: left;margin-right: 0.25em;color: #696969;}#sk-container-id-2 label.sk-toggleable__label-arrow:hover:before {color: black;}#sk-container-id-2 div.sk-estimator:hover label.sk-toggleable__label-arrow:before {color: black;}#sk-container-id-2 div.sk-toggleable__content {max-height: 0;max-width: 0;overflow: hidden;text-align: left;background-color: #f0f8ff;}#sk-container-id-2 div.sk-toggleable__content pre {margin: 0.2em;color: black;border-radius: 0.25em;background-color: #f0f8ff;}#sk-container-id-2 input.sk-toggleable__control:checked~div.sk-toggleable__content {max-height: 200px;max-width: 100%;overflow: auto;}#sk-container-id-2 input.sk-toggleable__control:checked~label.sk-toggleable__label-arrow:before {content: \"▾\";}#sk-container-id-2 div.sk-estimator input.sk-toggleable__control:checked~label.sk-toggleable__label {background-color: #d4ebff;}#sk-container-id-2 div.sk-label input.sk-toggleable__control:checked~label.sk-toggleable__label {background-color: #d4ebff;}#sk-container-id-2 input.sk-hidden--visually {border: 0;clip: rect(1px 1px 1px 1px);clip: rect(1px, 1px, 1px, 1px);height: 1px;margin: -1px;overflow: hidden;padding: 0;position: absolute;width: 1px;}#sk-container-id-2 div.sk-estimator {font-family: monospace;background-color: #f0f8ff;border: 1px dotted black;border-radius: 0.25em;box-sizing: border-box;margin-bottom: 0.5em;}#sk-container-id-2 div.sk-estimator:hover {background-color: #d4ebff;}#sk-container-id-2 div.sk-parallel-item::after {content: \"\";width: 100%;border-bottom: 1px solid gray;flex-grow: 1;}#sk-container-id-2 div.sk-label:hover label.sk-toggleable__label {background-color: #d4ebff;}#sk-container-id-2 div.sk-serial::before {content: \"\";position: absolute;border-left: 1px solid gray;box-sizing: border-box;top: 0;bottom: 0;left: 50%;z-index: 0;}#sk-container-id-2 div.sk-serial {display: flex;flex-direction: column;align-items: center;background-color: white;padding-right: 0.2em;padding-left: 0.2em;position: relative;}#sk-container-id-2 div.sk-item {position: relative;z-index: 1;}#sk-container-id-2 div.sk-parallel {display: flex;align-items: stretch;justify-content: center;background-color: white;position: relative;}#sk-container-id-2 div.sk-item::before, #sk-container-id-2 div.sk-parallel-item::before {content: \"\";position: absolute;border-left: 1px solid gray;box-sizing: border-box;top: 0;bottom: 0;left: 50%;z-index: -1;}#sk-container-id-2 div.sk-parallel-item {display: flex;flex-direction: column;z-index: 1;position: relative;background-color: white;}#sk-container-id-2 div.sk-parallel-item:first-child::after {align-self: flex-end;width: 50%;}#sk-container-id-2 div.sk-parallel-item:last-child::after {align-self: flex-start;width: 50%;}#sk-container-id-2 div.sk-parallel-item:only-child::after {width: 0;}#sk-container-id-2 div.sk-dashed-wrapped {border: 1px dashed gray;margin: 0 0.4em 0.5em 0.4em;box-sizing: border-box;padding-bottom: 0.4em;background-color: white;}#sk-container-id-2 div.sk-label label {font-family: monospace;font-weight: bold;display: inline-block;line-height: 1.2em;}#sk-container-id-2 div.sk-label-container {text-align: center;}#sk-container-id-2 div.sk-container {/* jupyter's `normalize.less` sets `[hidden] { display: none; }` but bootstrap.min.css set `[hidden] { display: none !important; }` so we also need the `!important` here to be able to override the default hidden behavior on the sphinx rendered scikit-learn.org. See: https://github.com/scikit-learn/scikit-learn/issues/21755 */display: inline-block !important;position: relative;}#sk-container-id-2 div.sk-text-repr-fallback {display: none;}</style><div id=\"sk-container-id-2\" class=\"sk-top-container\"><div class=\"sk-text-repr-fallback\"><pre>LogisticRegression(max_iter=500)</pre><b>In a Jupyter environment, please rerun this cell to show the HTML representation or trust the notebook. <br />On GitHub, the HTML representation is unable to render, please try loading this page with nbviewer.org.</b></div><div class=\"sk-container\" hidden><div class=\"sk-item\"><div class=\"sk-estimator sk-toggleable\"><input class=\"sk-toggleable__control sk-hidden--visually\" id=\"sk-estimator-id-2\" type=\"checkbox\" checked><label for=\"sk-estimator-id-2\" class=\"sk-toggleable__label sk-toggleable__label-arrow\">LogisticRegression</label><div class=\"sk-toggleable__content\"><pre>LogisticRegression(max_iter=500)</pre></div></div></div></div></div>"
      ],
      "text/plain": [
       "LogisticRegression(max_iter=500)"
      ]
     },
     "execution_count": 16,
     "metadata": {},
     "output_type": "execute_result"
    }
   ],
   "source": [
    "from sklearn.linear_model import LogisticRegression #모델 불러오기\n",
    "model = LogisticRegression(max_iter=500) #객체에 모델 할당\n",
    "model.fit(train_X, train_y) #모델 학습"
   ]
  },
  {
   "cell_type": "markdown",
   "id": "9e8d6c7a-ec0b-4c50-bdf1-971ba306e74b",
   "metadata": {},
   "source": [
    "굉장히 간단하게 학습이 끝났습니다.\n",
    "\n",
    "모델이 실제로 데이터를 얼마나 잘 맞추는지 확인해보기 위하여 예측값을 생성해 봅시다."
   ]
  },
  {
   "cell_type": "code",
   "execution_count": 17,
   "id": "28aa8aa5-2081-41cb-ac1f-f3df261d0fb0",
   "metadata": {},
   "outputs": [],
   "source": [
    "from sklearn.metrics import accuracy_score\n",
    "\n",
    "#run model\n",
    "y_pred = model.predict(val_X)"
   ]
  },
  {
   "cell_type": "markdown",
   "id": "47ec4c25-28ff-4a44-becb-b3b2b3028199",
   "metadata": {},
   "source": [
    "평가 지표로는 분류 문제이므로 ACCURACY를 사용하겠습니다."
   ]
  },
  {
   "cell_type": "code",
   "execution_count": 18,
   "id": "eccb8f52-2c63-413c-ad86-7629c83efc5a",
   "metadata": {},
   "outputs": [],
   "source": [
    "# 먼저 점수를 메기는 방법인 평가 지표(Metric)를 정의합니다.\n",
    "import numpy as np\n",
    "\n",
    "def ACCURACY(true, pred):   \n",
    "    score = np.mean(true==pred)\n",
    "    return score"
   ]
  },
  {
   "cell_type": "code",
   "execution_count": 19,
   "id": "4431488d-ebdb-42a8-8aa5-ef98a2dcd334",
   "metadata": {},
   "outputs": [
    {
     "name": "stdout",
     "output_type": "stream",
     "text": [
      "모델의 정확도는 60.40% 입니다\n"
     ]
    }
   ],
   "source": [
    "# 모델의 예측과 실제 정답값을 비교합니다.\n",
    "\n",
    "score = ACCURACY(val_y, y_pred)\n",
    "\n",
    "print(f\"모델의 정확도는 {score*100:.2f}% 입니다\")"
   ]
  },
  {
   "cell_type": "markdown",
   "id": "b4eb2203-20d2-46da-9d77-3c8735857961",
   "metadata": {},
   "source": [
    "## 데이터 편차 확인"
   ]
  },
  {
   "cell_type": "markdown",
   "id": "b56270c0-8195-4a25-a5fd-b194a6c5db7b",
   "metadata": {},
   "source": [
    "그럼 실제로 예측 결과를 분석해서 우리가 설계한 모델이 어떤 부분에 취약한지 찾아봅시다.\n",
    "\n",
    "우선 단순히 예측을 1, 2, 4, 5 평점 중 몇으로 분류하였는지 갯수를 살펴보겠습니다. "
   ]
  },
  {
   "cell_type": "code",
   "execution_count": 20,
   "id": "ff38ca36-91ff-46b0-bebc-850fe14d3b69",
   "metadata": {},
   "outputs": [
    {
     "name": "stdout",
     "output_type": "stream",
     "text": [
      "1 값 예측 개수: 618개, 실제 값 개수: 1125개, 비율: 54.93%\n",
      "2 값 예측 개수: 2635개, 실제 값 개수: 2000개, 비율: 131.75%\n",
      "4 값 예측 개수: 160개, 실제 값 개수: 625개, 비율: 25.60%\n",
      "5 값 예측 개수: 2837개, 실제 값 개수: 2500개, 비율: 113.48%\n"
     ]
    }
   ],
   "source": [
    "from collections import Counter\n",
    "\n",
    "pred_cnt = Counter(y_pred)\n",
    "true_cnt = Counter(val_y)\n",
    "\n",
    "for key in sorted(true_cnt.keys()):\n",
    "    print(f\"{key} 값 예측 개수: {pred_cnt[key]}개, 실제 값 개수: {true_cnt[key]}개, 비율: {pred_cnt[key]/true_cnt[key]*100:.2f}%\")"
   ]
  },
  {
   "cell_type": "code",
   "execution_count": 21,
   "id": "2dc2a5a0-1b2a-4624-bdc7-d57746133f5a",
   "metadata": {},
   "outputs": [
    {
     "data": {
      "image/png": "[encoded data removed]",
      "text/plain": [
       "<Figure size 1080x720 with 1 Axes>"
      ]
     },
     "metadata": {
      "needs_background": "light"
     },
     "output_type": "display_data"
    }
   ],
   "source": [
    "import matplotlib.pyplot as plt\n",
    "\n",
    "index = sorted(true_cnt.keys())\n",
    "pred_val = [pred_cnt[key] for key in index]\n",
    "true_val = [true_cnt[key] for key in index]\n",
    "\n",
    "plt.figure(figsize=(15,10))\n",
    "bar_width = 0.35\n",
    "p1 = plt.bar([idx-bar_width/2 for idx in index], pred_val, \n",
    "             bar_width, \n",
    "             color='b', \n",
    "             alpha=0.5)\n",
    "p2 = plt.bar([idx+bar_width/2 for idx in index], true_val, \n",
    "             bar_width, \n",
    "             color='r', \n",
    "             alpha=0.5)\n",
    "plt.title('Prediction Analysis', fontsize=20)\n",
    "plt.ylabel('Value Counting', fontsize=18)\n",
    "plt.xlabel('Target', fontsize=18)\n",
    "plt.xticks(index, fontsize=15)\n",
    "plt.legend((p1[0], p2[0]), ('Prediction', 'True'), fontsize=15)\n",
    "plt.show()"
   ]
  },
  {
   "cell_type": "markdown",
   "id": "fb6a81a4-a7ee-4d00-84e8-be06a61cde86",
   "metadata": {},
   "source": [
    "예측과 실제 값 개수의 비율을 살펴보면, 2, 4에서는 100%가 넘게 예측한 값이 많습니다.\n",
    "이는 잘못 예측한 결과까지 포함했기 때문입니다.\n",
    "\n",
    "이 분석에서 알 수 있는 것은 이 모델이 **2와 4를 매우 좋아하고 1과 2를 아주 싫어하는 것** 같습니다.\n",
    "\n",
    "그럼 이번엔 정답을 예측한 결과를 바탕으로 이 모델의 정확도를 분석해보겠습니다."
   ]
  },
  {
   "cell_type": "code",
   "execution_count": 22,
   "id": "db3a83f3-22d9-43d9-b21a-38a307b25818",
   "metadata": {},
   "outputs": [
    {
     "name": "stdout",
     "output_type": "stream",
     "text": [
      "정답을 맞춘 개수 : 3775\n",
      "1 값 예측 개수: 298개, 실제 값 개수: 1125개, 정답률: 26.49%\n",
      "2 값 예측 개수: 1433개, 실제 값 개수: 2000개, 정답률: 71.65%\n",
      "4 값 예측 개수: 42개, 실제 값 개수: 625개, 정답률: 6.72%\n",
      "5 값 예측 개수: 2002개, 실제 값 개수: 2500개, 정답률: 80.08%\n"
     ]
    }
   ],
   "source": [
    "from collections import Counter\n",
    "\n",
    "accurate = val_y[val_y==y_pred]\n",
    "print(\"정답을 맞춘 개수 :\", len(accurate))\n",
    "\n",
    "\n",
    "# ... 1번 코드를 아래에 작성하세요 ...\n",
    "accu_cnt = Counter(accurate)\n",
    "true_cnt = Counter(val_y)\n",
    "\n",
    "for key in sorted(true_cnt.keys()):\n",
    "    print(f\"{key} 값 예측 개수: {accu_cnt[key]}개, 실제 값 개수: {true_cnt[key]}개, 정답률: {accu_cnt[key]/true_cnt[key]*100:.2f}%\")"
   ]
  },
  {
   "cell_type": "code",
   "execution_count": 23,
   "id": "d331fceb-4ce6-4d36-8365-f93ec3860931",
   "metadata": {},
   "outputs": [
    {
     "data": {
      "image/png": "[encoded data removed]",
      "text/plain": [
       "<Figure size 1080x720 with 1 Axes>"
      ]
     },
     "metadata": {
      "needs_background": "light"
     },
     "output_type": "display_data"
    }
   ],
   "source": [
    "import matplotlib.pyplot as plt\n",
    "\n",
    "index = sorted(true_cnt.keys())\n",
    "accu_val = [accu_cnt[key] for key in index]\n",
    "true_val = [true_cnt[key] for key in index]\n",
    "\n",
    "plt.figure(figsize=(15,10))\n",
    "bar_width = 0.35\n",
    "p1 = plt.bar([idx-bar_width/2 for idx in index], accu_val, \n",
    "             bar_width, \n",
    "             color='b', \n",
    "             alpha=0.5)\n",
    "p2 = plt.bar([idx+bar_width/2 for idx in index], true_val, \n",
    "             bar_width, \n",
    "             color='r', \n",
    "             alpha=0.5)\n",
    "plt.title('Prediction Analysis', fontsize=20)\n",
    "plt.ylabel('Value Counting', fontsize=18)\n",
    "plt.xlabel('Target', fontsize=18)\n",
    "plt.xticks(index, fontsize=15)\n",
    "plt.legend((p1[0], p2[0]), ('Prediction', 'True'), fontsize=15)\n",
    "plt.show()"
   ]
  },
  {
   "cell_type": "markdown",
   "id": "f0950e87-1163-486b-ad3e-ec608865ae49",
   "metadata": {},
   "source": [
    "예측 개수와 실제 값 개수를 살펴보면, 1는 정답률이 27.6%,      \n",
    "4는 정답률이 8.7% 정도 밖에 정확도를 나타냈다는 것을 확인해볼 수 있습니다.\n",
    "\n",
    "또한 앞서 2, 5의 평점으로 예측한 값이 정답률(비율)이 낮아진 것으로 보아,    \n",
    "1, 4의 평점으로 분류되어야 할 데이터가 2, 5의 평점으로 분류되었다는 것을 고려해볼 수 있겠습니다. \n",
    "\n",
    "이는 평점 1, 4 데이터의 개수가 적어 데이터 불균형이 심하기 때문에     \n",
    "1, 4의 평점에서 모델이 제대로 예측하지 못한다고 볼 수 있겠습니다.\n",
    "\n",
    "이를 해결하기 위하여 data를 증강시키거나 적은 양의 클래스를 따로 맞추는 모델을 만들어보는 등의 시도를 해볼 수 있을것 같습니다.\n",
    "\n",
    "이에 대한 자세한 내용은 베이스라인2에서 살펴보겠습니다."
   ]
  },
  {
   "cell_type": "markdown",
   "id": "920e805b-e6b7-41ec-af68-5072d835c66d",
   "metadata": {},
   "source": [
    "### train 셋 + val 셋 100% 활용하는 모델 만들기\n",
    "\n",
    "이제 검증 셋으로 성능이 유의미한지 확인을 하였다면 데이터를 100% 활용하기 위하여   \n",
    "검증 셋을 포함한 train 셋을 만들어보겠습니다."
   ]
  },
  {
   "cell_type": "code",
   "execution_count": 24,
   "id": "134d598c-8baf-49e8-a1d1-cfe516bc8195",
   "metadata": {},
   "outputs": [],
   "source": [
    "vectorizer = CountVectorizer() #countvectorizer 생성\n",
    "vectorizer.fit(X) #countvectorizer 학습\n",
    "X = vectorizer.transform(X) #transform"
   ]
  },
  {
   "cell_type": "code",
   "execution_count": 25,
   "id": "f66466a4-f594-476e-8526-de5d2af0633f",
   "metadata": {
    "colab": {
     "base_uri": "https://localhost:8080/"
    },
    "executionInfo": {
     "elapsed": 224014,
     "status": "ok",
     "timestamp": 1647917598236,
     "user": {
      "displayName": "World Papa",
      "photoUrl": "https://lh3.googleusercontent.com/a/default-user=s64",
      "userId": "02589349459586782651"
     },
     "user_tz": -540
    },
    "id": "4Luj-Rxcf6Hx",
    "outputId": "f8a337a9-9cab-4ff6-8abc-ca9bf5f5d349"
   },
   "outputs": [
    {
     "data": {
      "text/html": [
       "<style>#sk-container-id-3 {color: black;background-color: white;}#sk-container-id-3 pre{padding: 0;}#sk-container-id-3 div.sk-toggleable {background-color: white;}#sk-container-id-3 label.sk-toggleable__label {cursor: pointer;display: block;width: 100%;margin-bottom: 0;padding: 0.3em;box-sizing: border-box;text-align: center;}#sk-container-id-3 label.sk-toggleable__label-arrow:before {content: \"▸\";float: left;margin-right: 0.25em;color: #696969;}#sk-container-id-3 label.sk-toggleable__label-arrow:hover:before {color: black;}#sk-container-id-3 div.sk-estimator:hover label.sk-toggleable__label-arrow:before {color: black;}#sk-container-id-3 div.sk-toggleable__content {max-height: 0;max-width: 0;overflow: hidden;text-align: left;background-color: #f0f8ff;}#sk-container-id-3 div.sk-toggleable__content pre {margin: 0.2em;color: black;border-radius: 0.25em;background-color: #f0f8ff;}#sk-container-id-3 input.sk-toggleable__control:checked~div.sk-toggleable__content {max-height: 200px;max-width: 100%;overflow: auto;}#sk-container-id-3 input.sk-toggleable__control:checked~label.sk-toggleable__label-arrow:before {content: \"▾\";}#sk-container-id-3 div.sk-estimator input.sk-toggleable__control:checked~label.sk-toggleable__label {background-color: #d4ebff;}#sk-container-id-3 div.sk-label input.sk-toggleable__control:checked~label.sk-toggleable__label {background-color: #d4ebff;}#sk-container-id-3 input.sk-hidden--visually {border: 0;clip: rect(1px 1px 1px 1px);clip: rect(1px, 1px, 1px, 1px);height: 1px;margin: -1px;overflow: hidden;padding: 0;position: absolute;width: 1px;}#sk-container-id-3 div.sk-estimator {font-family: monospace;background-color: #f0f8ff;border: 1px dotted black;border-radius: 0.25em;box-sizing: border-box;margin-bottom: 0.5em;}#sk-container-id-3 div.sk-estimator:hover {background-color: #d4ebff;}#sk-container-id-3 div.sk-parallel-item::after {content: \"\";width: 100%;border-bottom: 1px solid gray;flex-grow: 1;}#sk-container-id-3 div.sk-label:hover label.sk-toggleable__label {background-color: #d4ebff;}#sk-container-id-3 div.sk-serial::before {content: \"\";position: absolute;border-left: 1px solid gray;box-sizing: border-box;top: 0;bottom: 0;left: 50%;z-index: 0;}#sk-container-id-3 div.sk-serial {display: flex;flex-direction: column;align-items: center;background-color: white;padding-right: 0.2em;padding-left: 0.2em;position: relative;}#sk-container-id-3 div.sk-item {position: relative;z-index: 1;}#sk-container-id-3 div.sk-parallel {display: flex;align-items: stretch;justify-content: center;background-color: white;position: relative;}#sk-container-id-3 div.sk-item::before, #sk-container-id-3 div.sk-parallel-item::before {content: \"\";position: absolute;border-left: 1px solid gray;box-sizing: border-box;top: 0;bottom: 0;left: 50%;z-index: -1;}#sk-container-id-3 div.sk-parallel-item {display: flex;flex-direction: column;z-index: 1;position: relative;background-color: white;}#sk-container-id-3 div.sk-parallel-item:first-child::after {align-self: flex-end;width: 50%;}#sk-container-id-3 div.sk-parallel-item:last-child::after {align-self: flex-start;width: 50%;}#sk-container-id-3 div.sk-parallel-item:only-child::after {width: 0;}#sk-container-id-3 div.sk-dashed-wrapped {border: 1px dashed gray;margin: 0 0.4em 0.5em 0.4em;box-sizing: border-box;padding-bottom: 0.4em;background-color: white;}#sk-container-id-3 div.sk-label label {font-family: monospace;font-weight: bold;display: inline-block;line-height: 1.2em;}#sk-container-id-3 div.sk-label-container {text-align: center;}#sk-container-id-3 div.sk-container {/* jupyter's `normalize.less` sets `[hidden] { display: none; }` but bootstrap.min.css set `[hidden] { display: none !important; }` so we also need the `!important` here to be able to override the default hidden behavior on the sphinx rendered scikit-learn.org. See: https://github.com/scikit-learn/scikit-learn/issues/21755 */display: inline-block !important;position: relative;}#sk-container-id-3 div.sk-text-repr-fallback {display: none;}</style><div id=\"sk-container-id-3\" class=\"sk-top-container\"><div class=\"sk-text-repr-fallback\"><pre>LogisticRegression(max_iter=500)</pre><b>In a Jupyter environment, please rerun this cell to show the HTML representation or trust the notebook. <br />On GitHub, the HTML representation is unable to render, please try loading this page with nbviewer.org.</b></div><div class=\"sk-container\" hidden><div class=\"sk-item\"><div class=\"sk-estimator sk-toggleable\"><input class=\"sk-toggleable__control sk-hidden--visually\" id=\"sk-estimator-id-3\" type=\"checkbox\" checked><label for=\"sk-estimator-id-3\" class=\"sk-toggleable__label sk-toggleable__label-arrow\">LogisticRegression</label><div class=\"sk-toggleable__content\"><pre>LogisticRegression(max_iter=500)</pre></div></div></div></div></div>"
      ],
      "text/plain": [
       "LogisticRegression(max_iter=500)"
      ]
     },
     "execution_count": 25,
     "metadata": {},
     "output_type": "execute_result"
    }
   ],
   "source": [
    "model = LogisticRegression(max_iter=500) #객체에 모델 할당\n",
    "model.fit(X, y) #모델 학습"
   ]
  },
  {
   "cell_type": "markdown",
   "id": "56a1d65c-d905-4a5f-8f3e-199af503360c",
   "metadata": {
    "id": "cHrAYaFChYys"
   },
   "source": [
    "이제 모델 학습이 완료되었습니다!\n",
    "\n",
    "모델이 잘 학습되었는지 X의 첫번쨰 문장을 모델에 넣어보도록 하겠습니다."
   ]
  },
  {
   "cell_type": "code",
   "execution_count": 26,
   "id": "3bcab581-3dc8-4979-ac09-fb87d3084d7a",
   "metadata": {
    "colab": {
     "base_uri": "https://localhost:8080/"
    },
    "executionInfo": {
     "elapsed": 284,
     "status": "ok",
     "timestamp": 1647918854261,
     "user": {
      "displayName": "World Papa",
      "photoUrl": "https://lh3.googleusercontent.com/a/default-user=s64",
      "userId": "02589349459586782651"
     },
     "user_tz": -540
    },
    "id": "BcCjVuJVhXwV",
    "outputId": "ea10166d-16fb-41eb-fd9b-a0d1dbc3c8e0"
   },
   "outputs": [
    {
     "name": "stdout",
     "output_type": "stream",
     "text": [
      "예측 라벨 :  [2]\n",
      "실제 라벨 :  2\n"
     ]
    }
   ],
   "source": [
    "from sklearn.metrics import accuracy_score\n",
    "\n",
    "#run model\n",
    "y_pred = model.predict(X[0])\n",
    "print('예측 라벨 : ', y_pred)\n",
    "print('실제 라벨 : ', train.target[0])"
   ]
  },
  {
   "cell_type": "code",
   "execution_count": 27,
   "id": "b160c063-b9af-47fb-aad6-76093ebece9b",
   "metadata": {},
   "outputs": [
    {
     "data": {
      "text/plain": [
       "[array(['싸게햇어요', '조아요', '처음구입'], dtype='<U100')]"
      ]
     },
     "execution_count": 27,
     "metadata": {},
     "output_type": "execute_result"
    }
   ],
   "source": [
    "vectorizer.inverse_transform(X[0]) #역변환하여 첫번째 문장의 단어들 확인"
   ]
  },
  {
   "cell_type": "markdown",
   "id": "66e462d8-cd3b-47b0-8526-e8cb11cce297",
   "metadata": {
    "id": "-n_bM-cjmzq4"
   },
   "source": [
    "X의 첫번째 문장은 5의 평점으로 잘 학습되어 분류된 것을 확인해 볼 수 있습니다."
   ]
  },
  {
   "cell_type": "markdown",
   "id": "e9fb33f3-5c72-4c72-b909-9912d3c01d40",
   "metadata": {},
   "source": [
    "## 예측하기\n",
    "\n",
    "이제 학습된 모델을 이용하여 주어진 test데이터로 예측을 진행해 보겠습니다.\n",
    "\n",
    "앞서 train 셋에서 했던 동일한 전처리 과정을 거치되, data leakage가 발생하지 않도록 주의합니다."
   ]
  },
  {
   "cell_type": "code",
   "execution_count": 28,
   "id": "e7e9d3f3-8860-4860-9e4f-8f9539c4f0da",
   "metadata": {
    "colab": {
     "base_uri": "https://localhost:8080/",
     "height": 206
    },
    "executionInfo": {
     "elapsed": 300,
     "status": "ok",
     "timestamp": 1647919003120,
     "user": {
      "displayName": "World Papa",
      "photoUrl": "https://lh3.googleusercontent.com/a/default-user=s64",
      "userId": "02589349459586782651"
     },
     "user_tz": -540
    },
    "id": "0CI004YTn7PB",
    "outputId": "dfc963fb-d001-4583-fca2-4addb081e768"
   },
   "outputs": [
    {
     "data": {
      "text/html": [
       "<div>\n",
       "<style scoped>\n",
       "    .dataframe tbody tr th:only-of-type {\n",
       "        vertical-align: middle;\n",
       "    }\n",
       "\n",
       "    .dataframe tbody tr th {\n",
       "        vertical-align: top;\n",
       "    }\n",
       "\n",
       "    .dataframe thead th {\n",
       "        text-align: right;\n",
       "    }\n",
       "</style>\n",
       "<table border=\"1\" class=\"dataframe\">\n",
       "  <thead>\n",
       "    <tr style=\"text-align: right;\">\n",
       "      <th></th>\n",
       "      <th>id</th>\n",
       "      <th>reviews</th>\n",
       "    </tr>\n",
       "  </thead>\n",
       "  <tbody>\n",
       "    <tr>\n",
       "      <th>0</th>\n",
       "      <td>0</td>\n",
       "      <td>채소가 약간 시들어 있어요</td>\n",
       "    </tr>\n",
       "    <tr>\n",
       "      <th>1</th>\n",
       "      <td>1</td>\n",
       "      <td>발톱 두껍고 단단한 분들 써도 소용없어요 이 테이프 물렁거리고 힘이없어서 들어 올리...</td>\n",
       "    </tr>\n",
       "    <tr>\n",
       "      <th>2</th>\n",
       "      <td>2</td>\n",
       "      <td>부들부들 좋네요 입어보고 시원하면 또 살게요</td>\n",
       "    </tr>\n",
       "    <tr>\n",
       "      <th>3</th>\n",
       "      <td>3</td>\n",
       "      <td>이런 1. 8 골드 주라니깐 파란개 오네 회사전화걸어도 받지도 않고 머하자는거임?</td>\n",
       "    </tr>\n",
       "    <tr>\n",
       "      <th>4</th>\n",
       "      <td>4</td>\n",
       "      <td>검수도 없이 보내구 불량 배송비 5000원 청구하네요 완전별로 별하나도 아까워요</td>\n",
       "    </tr>\n",
       "  </tbody>\n",
       "</table>\n",
       "</div>"
      ],
      "text/plain": [
       "   id                                            reviews\n",
       "0   0                                     채소가 약간 시들어 있어요\n",
       "1   1  발톱 두껍고 단단한 분들 써도 소용없어요 이 테이프 물렁거리고 힘이없어서 들어 올리...\n",
       "2   2                           부들부들 좋네요 입어보고 시원하면 또 살게요\n",
       "3   3      이런 1. 8 골드 주라니깐 파란개 오네 회사전화걸어도 받지도 않고 머하자는거임?\n",
       "4   4       검수도 없이 보내구 불량 배송비 5000원 청구하네요 완전별로 별하나도 아까워요"
      ]
     },
     "execution_count": 28,
     "metadata": {},
     "output_type": "execute_result"
    }
   ],
   "source": [
    "test = pd.read_csv(\"data/test.csv\") #파일 읽기\n",
    "test.head() #파일 확인"
   ]
  },
  {
   "cell_type": "markdown",
   "id": "86d68aea-ae65-4631-b5c0-003950d3793e",
   "metadata": {
    "id": "EdNnH1yIoNbV"
   },
   "source": [
    "이제 test 데이터를 transform 합니다. 그 후 test 데이터의 label 을 예측합니다."
   ]
  },
  {
   "cell_type": "code",
   "execution_count": 29,
   "id": "cc74463b-6f01-4757-b814-4a4e5806c7c2",
   "metadata": {
    "colab": {
     "base_uri": "https://localhost:8080/"
    },
    "executionInfo": {
     "elapsed": 2571,
     "status": "ok",
     "timestamp": 1647919044551,
     "user": {
      "displayName": "World Papa",
      "photoUrl": "https://lh3.googleusercontent.com/a/default-user=s64",
      "userId": "02589349459586782651"
     },
     "user_tz": -540
    },
    "id": "rCuQEu6doMx2",
    "outputId": "1e805074-4017-4534-c01d-68961bfc0f78"
   },
   "outputs": [
    {
     "name": "stdout",
     "output_type": "stream",
     "text": [
      "[5 2 5 ... 2 5 1]\n"
     ]
    }
   ],
   "source": [
    "test_X = test.reviews #문서 데이터 생성\n",
    "\n",
    "test_X_vect = vectorizer.transform(test_X) #문서 데이터 transform \n",
    "#test 데이터를 대상으로 fit_transform 메소드를 실행하는 것은 test 데이터를 활용해 vectorizer 를 학습 시키는 것으롤 data leakage 에 해당합니다.\n",
    "\n",
    "pred = model.predict(test_X_vect) #test 데이터 예측\n",
    "print(pred)"
   ]
  },
  {
   "cell_type": "markdown",
   "id": "4d324b31-6061-4398-94a6-86b43a9845c9",
   "metadata": {
    "id": "mpqONB7vn1m4"
   },
   "source": [
    "# Dacon 대회 제출\n",
    "\n",
    "이제 예측한 값으로 제출 파일을 생성해 봅시다."
   ]
  },
  {
   "cell_type": "code",
   "execution_count": 30,
   "id": "f8a1aa54-f7d7-4adc-8ed9-8169378ec5a3",
   "metadata": {
    "colab": {
     "base_uri": "https://localhost:8080/",
     "height": 206
    },
    "executionInfo": {
     "elapsed": 267,
     "status": "ok",
     "timestamp": 1647919211452,
     "user": {
      "displayName": "World Papa",
      "photoUrl": "https://lh3.googleusercontent.com/a/default-user=s64",
      "userId": "02589349459586782651"
     },
     "user_tz": -540
    },
    "id": "ad8_UH75oHM1",
    "outputId": "c8715679-61a8-4695-9e84-59f72279c88f"
   },
   "outputs": [
    {
     "data": {
      "text/html": [
       "<div>\n",
       "<style scoped>\n",
       "    .dataframe tbody tr th:only-of-type {\n",
       "        vertical-align: middle;\n",
       "    }\n",
       "\n",
       "    .dataframe tbody tr th {\n",
       "        vertical-align: top;\n",
       "    }\n",
       "\n",
       "    .dataframe thead th {\n",
       "        text-align: right;\n",
       "    }\n",
       "</style>\n",
       "<table border=\"1\" class=\"dataframe\">\n",
       "  <thead>\n",
       "    <tr style=\"text-align: right;\">\n",
       "      <th></th>\n",
       "      <th>id</th>\n",
       "      <th>target</th>\n",
       "    </tr>\n",
       "  </thead>\n",
       "  <tbody>\n",
       "    <tr>\n",
       "      <th>0</th>\n",
       "      <td>0</td>\n",
       "      <td>0</td>\n",
       "    </tr>\n",
       "    <tr>\n",
       "      <th>1</th>\n",
       "      <td>1</td>\n",
       "      <td>0</td>\n",
       "    </tr>\n",
       "    <tr>\n",
       "      <th>2</th>\n",
       "      <td>2</td>\n",
       "      <td>0</td>\n",
       "    </tr>\n",
       "    <tr>\n",
       "      <th>3</th>\n",
       "      <td>3</td>\n",
       "      <td>0</td>\n",
       "    </tr>\n",
       "    <tr>\n",
       "      <th>4</th>\n",
       "      <td>4</td>\n",
       "      <td>0</td>\n",
       "    </tr>\n",
       "  </tbody>\n",
       "</table>\n",
       "</div>"
      ],
      "text/plain": [
       "   id  target\n",
       "0   0       0\n",
       "1   1       0\n",
       "2   2       0\n",
       "3   3       0\n",
       "4   4       0"
      ]
     },
     "execution_count": 30,
     "metadata": {},
     "output_type": "execute_result"
    }
   ],
   "source": [
    "submission = pd.read_csv(\"data/sample_submission.csv\") #제출용 파일 불러오기\n",
    "submission.head() #제출 파일이 잘 생성되었는지 확인"
   ]
  },
  {
   "cell_type": "code",
   "execution_count": 31,
   "id": "a316184a-20a3-42a4-9dda-14abc492ad1b",
   "metadata": {
    "colab": {
     "base_uri": "https://localhost:8080/",
     "height": 206
    },
    "executionInfo": {
     "elapsed": 252,
     "status": "ok",
     "timestamp": 1647919234921,
     "user": {
      "displayName": "World Papa",
      "photoUrl": "https://lh3.googleusercontent.com/a/default-user=s64",
      "userId": "02589349459586782651"
     },
     "user_tz": -540
    },
    "id": "bFAJMdkCoxjg",
    "outputId": "69c1862d-2b39-4af0-a05d-385aa70758e2"
   },
   "outputs": [
    {
     "data": {
      "text/html": [
       "<div>\n",
       "<style scoped>\n",
       "    .dataframe tbody tr th:only-of-type {\n",
       "        vertical-align: middle;\n",
       "    }\n",
       "\n",
       "    .dataframe tbody tr th {\n",
       "        vertical-align: top;\n",
       "    }\n",
       "\n",
       "    .dataframe thead th {\n",
       "        text-align: right;\n",
       "    }\n",
       "</style>\n",
       "<table border=\"1\" class=\"dataframe\">\n",
       "  <thead>\n",
       "    <tr style=\"text-align: right;\">\n",
       "      <th></th>\n",
       "      <th>id</th>\n",
       "      <th>target</th>\n",
       "    </tr>\n",
       "  </thead>\n",
       "  <tbody>\n",
       "    <tr>\n",
       "      <th>0</th>\n",
       "      <td>0</td>\n",
       "      <td>5</td>\n",
       "    </tr>\n",
       "    <tr>\n",
       "      <th>1</th>\n",
       "      <td>1</td>\n",
       "      <td>2</td>\n",
       "    </tr>\n",
       "    <tr>\n",
       "      <th>2</th>\n",
       "      <td>2</td>\n",
       "      <td>5</td>\n",
       "    </tr>\n",
       "    <tr>\n",
       "      <th>3</th>\n",
       "      <td>3</td>\n",
       "      <td>2</td>\n",
       "    </tr>\n",
       "    <tr>\n",
       "      <th>4</th>\n",
       "      <td>4</td>\n",
       "      <td>1</td>\n",
       "    </tr>\n",
       "  </tbody>\n",
       "</table>\n",
       "</div>"
      ],
      "text/plain": [
       "   id  target\n",
       "0   0       5\n",
       "1   1       2\n",
       "2   2       5\n",
       "3   3       2\n",
       "4   4       1"
      ]
     },
     "execution_count": 31,
     "metadata": {},
     "output_type": "execute_result"
    }
   ],
   "source": [
    "submission[\"target\"] = pred #예측 값 넣어주기\n",
    "submission.head() # 데이터가 잘 들어갔는지 확인합니다."
   ]
  },
  {
   "cell_type": "code",
   "execution_count": 32,
   "id": "4f0c26e7-8a80-4c98-9289-684207e2e83f",
   "metadata": {
    "id": "BJyKJ5y-o_v2"
   },
   "outputs": [
    {
     "ename": "OSError",
     "evalue": "Cannot save file into a non-existent directory: 'data/saved'",
     "output_type": "error",
     "traceback": [
      "\u001b[0;31m---------------------------------------------------------------------------\u001b[0m",
      "\u001b[0;31mOSError\u001b[0m                                   Traceback (most recent call last)",
      "Input \u001b[0;32mIn [32]\u001b[0m, in \u001b[0;36m<cell line: 4>\u001b[0;34m()\u001b[0m\n\u001b[1;32m      1\u001b[0m \u001b[38;5;66;03m# submission을 csv 파일로 저장합니다.\u001b[39;00m\n\u001b[1;32m      2\u001b[0m \u001b[38;5;66;03m# index=False란 추가적인 id를 부여할 필요가 없다는 뜻입니다. \u001b[39;00m\n\u001b[1;32m      3\u001b[0m \u001b[38;5;66;03m# 정확한 채점을 위해 꼭 index=False를 넣어주세요.\u001b[39;00m\n\u001b[0;32m----> 4\u001b[0m \u001b[43msubmission\u001b[49m\u001b[38;5;241;43m.\u001b[39;49m\u001b[43mto_csv\u001b[49m\u001b[43m(\u001b[49m\u001b[38;5;124;43m\"\u001b[39;49m\u001b[38;5;124;43mdata/saved/submit1.csv\u001b[39;49m\u001b[38;5;124;43m\"\u001b[39;49m\u001b[43m,\u001b[49m\u001b[43mindex\u001b[49m\u001b[38;5;241;43m=\u001b[39;49m\u001b[38;5;28;43;01mFalse\u001b[39;49;00m\u001b[43m)\u001b[49m\n",
      "File \u001b[0;32m~/anaconda3/envs/sesang/lib/python3.10/site-packages/pandas/core/generic.py:3551\u001b[0m, in \u001b[0;36mNDFrame.to_csv\u001b[0;34m(self, path_or_buf, sep, na_rep, float_format, columns, header, index, index_label, mode, encoding, compression, quoting, quotechar, line_terminator, chunksize, date_format, doublequote, escapechar, decimal, errors, storage_options)\u001b[0m\n\u001b[1;32m   3540\u001b[0m df \u001b[38;5;241m=\u001b[39m \u001b[38;5;28mself\u001b[39m \u001b[38;5;28;01mif\u001b[39;00m \u001b[38;5;28misinstance\u001b[39m(\u001b[38;5;28mself\u001b[39m, ABCDataFrame) \u001b[38;5;28;01melse\u001b[39;00m \u001b[38;5;28mself\u001b[39m\u001b[38;5;241m.\u001b[39mto_frame()\n\u001b[1;32m   3542\u001b[0m formatter \u001b[38;5;241m=\u001b[39m DataFrameFormatter(\n\u001b[1;32m   3543\u001b[0m     frame\u001b[38;5;241m=\u001b[39mdf,\n\u001b[1;32m   3544\u001b[0m     header\u001b[38;5;241m=\u001b[39mheader,\n\u001b[0;32m   (...)\u001b[0m\n\u001b[1;32m   3548\u001b[0m     decimal\u001b[38;5;241m=\u001b[39mdecimal,\n\u001b[1;32m   3549\u001b[0m )\n\u001b[0;32m-> 3551\u001b[0m \u001b[38;5;28;01mreturn\u001b[39;00m \u001b[43mDataFrameRenderer\u001b[49m\u001b[43m(\u001b[49m\u001b[43mformatter\u001b[49m\u001b[43m)\u001b[49m\u001b[38;5;241;43m.\u001b[39;49m\u001b[43mto_csv\u001b[49m\u001b[43m(\u001b[49m\n\u001b[1;32m   3552\u001b[0m \u001b[43m    \u001b[49m\u001b[43mpath_or_buf\u001b[49m\u001b[43m,\u001b[49m\n\u001b[1;32m   3553\u001b[0m \u001b[43m    \u001b[49m\u001b[43mline_terminator\u001b[49m\u001b[38;5;241;43m=\u001b[39;49m\u001b[43mline_terminator\u001b[49m\u001b[43m,\u001b[49m\n\u001b[1;32m   3554\u001b[0m \u001b[43m    \u001b[49m\u001b[43msep\u001b[49m\u001b[38;5;241;43m=\u001b[39;49m\u001b[43msep\u001b[49m\u001b[43m,\u001b[49m\n\u001b[1;32m   3555\u001b[0m \u001b[43m    \u001b[49m\u001b[43mencoding\u001b[49m\u001b[38;5;241;43m=\u001b[39;49m\u001b[43mencoding\u001b[49m\u001b[43m,\u001b[49m\n\u001b[1;32m   3556\u001b[0m \u001b[43m    \u001b[49m\u001b[43merrors\u001b[49m\u001b[38;5;241;43m=\u001b[39;49m\u001b[43merrors\u001b[49m\u001b[43m,\u001b[49m\n\u001b[1;32m   3557\u001b[0m \u001b[43m    \u001b[49m\u001b[43mcompression\u001b[49m\u001b[38;5;241;43m=\u001b[39;49m\u001b[43mcompression\u001b[49m\u001b[43m,\u001b[49m\n\u001b[1;32m   3558\u001b[0m \u001b[43m    \u001b[49m\u001b[43mquoting\u001b[49m\u001b[38;5;241;43m=\u001b[39;49m\u001b[43mquoting\u001b[49m\u001b[43m,\u001b[49m\n\u001b[1;32m   3559\u001b[0m \u001b[43m    \u001b[49m\u001b[43mcolumns\u001b[49m\u001b[38;5;241;43m=\u001b[39;49m\u001b[43mcolumns\u001b[49m\u001b[43m,\u001b[49m\n\u001b[1;32m   3560\u001b[0m \u001b[43m    \u001b[49m\u001b[43mindex_label\u001b[49m\u001b[38;5;241;43m=\u001b[39;49m\u001b[43mindex_label\u001b[49m\u001b[43m,\u001b[49m\n\u001b[1;32m   3561\u001b[0m \u001b[43m    \u001b[49m\u001b[43mmode\u001b[49m\u001b[38;5;241;43m=\u001b[39;49m\u001b[43mmode\u001b[49m\u001b[43m,\u001b[49m\n\u001b[1;32m   3562\u001b[0m \u001b[43m    \u001b[49m\u001b[43mchunksize\u001b[49m\u001b[38;5;241;43m=\u001b[39;49m\u001b[43mchunksize\u001b[49m\u001b[43m,\u001b[49m\n\u001b[1;32m   3563\u001b[0m \u001b[43m    \u001b[49m\u001b[43mquotechar\u001b[49m\u001b[38;5;241;43m=\u001b[39;49m\u001b[43mquotechar\u001b[49m\u001b[43m,\u001b[49m\n\u001b[1;32m   3564\u001b[0m \u001b[43m    \u001b[49m\u001b[43mdate_format\u001b[49m\u001b[38;5;241;43m=\u001b[39;49m\u001b[43mdate_format\u001b[49m\u001b[43m,\u001b[49m\n\u001b[1;32m   3565\u001b[0m \u001b[43m    \u001b[49m\u001b[43mdoublequote\u001b[49m\u001b[38;5;241;43m=\u001b[39;49m\u001b[43mdoublequote\u001b[49m\u001b[43m,\u001b[49m\n\u001b[1;32m   3566\u001b[0m \u001b[43m    \u001b[49m\u001b[43mescapechar\u001b[49m\u001b[38;5;241;43m=\u001b[39;49m\u001b[43mescapechar\u001b[49m\u001b[43m,\u001b[49m\n\u001b[1;32m   3567\u001b[0m \u001b[43m    \u001b[49m\u001b[43mstorage_options\u001b[49m\u001b[38;5;241;43m=\u001b[39;49m\u001b[43mstorage_options\u001b[49m\u001b[43m,\u001b[49m\n\u001b[1;32m   3568\u001b[0m \u001b[43m\u001b[49m\u001b[43m)\u001b[49m\n",
      "File \u001b[0;32m~/anaconda3/envs/sesang/lib/python3.10/site-packages/pandas/io/formats/format.py:1180\u001b[0m, in \u001b[0;36mDataFrameRenderer.to_csv\u001b[0;34m(self, path_or_buf, encoding, sep, columns, index_label, mode, compression, quoting, quotechar, line_terminator, chunksize, date_format, doublequote, escapechar, errors, storage_options)\u001b[0m\n\u001b[1;32m   1159\u001b[0m     created_buffer \u001b[38;5;241m=\u001b[39m \u001b[38;5;28;01mFalse\u001b[39;00m\n\u001b[1;32m   1161\u001b[0m csv_formatter \u001b[38;5;241m=\u001b[39m CSVFormatter(\n\u001b[1;32m   1162\u001b[0m     path_or_buf\u001b[38;5;241m=\u001b[39mpath_or_buf,\n\u001b[1;32m   1163\u001b[0m     line_terminator\u001b[38;5;241m=\u001b[39mline_terminator,\n\u001b[0;32m   (...)\u001b[0m\n\u001b[1;32m   1178\u001b[0m     formatter\u001b[38;5;241m=\u001b[39m\u001b[38;5;28mself\u001b[39m\u001b[38;5;241m.\u001b[39mfmt,\n\u001b[1;32m   1179\u001b[0m )\n\u001b[0;32m-> 1180\u001b[0m \u001b[43mcsv_formatter\u001b[49m\u001b[38;5;241;43m.\u001b[39;49m\u001b[43msave\u001b[49m\u001b[43m(\u001b[49m\u001b[43m)\u001b[49m\n\u001b[1;32m   1182\u001b[0m \u001b[38;5;28;01mif\u001b[39;00m created_buffer:\n\u001b[1;32m   1183\u001b[0m     \u001b[38;5;28;01massert\u001b[39;00m \u001b[38;5;28misinstance\u001b[39m(path_or_buf, StringIO)\n",
      "File \u001b[0;32m~/anaconda3/envs/sesang/lib/python3.10/site-packages/pandas/io/formats/csvs.py:241\u001b[0m, in \u001b[0;36mCSVFormatter.save\u001b[0;34m(self)\u001b[0m\n\u001b[1;32m    237\u001b[0m \u001b[38;5;124;03m\"\"\"\u001b[39;00m\n\u001b[1;32m    238\u001b[0m \u001b[38;5;124;03mCreate the writer & save.\u001b[39;00m\n\u001b[1;32m    239\u001b[0m \u001b[38;5;124;03m\"\"\"\u001b[39;00m\n\u001b[1;32m    240\u001b[0m \u001b[38;5;66;03m# apply compression and byte/text conversion\u001b[39;00m\n\u001b[0;32m--> 241\u001b[0m \u001b[38;5;28;01mwith\u001b[39;00m \u001b[43mget_handle\u001b[49m\u001b[43m(\u001b[49m\n\u001b[1;32m    242\u001b[0m \u001b[43m    \u001b[49m\u001b[38;5;28;43mself\u001b[39;49m\u001b[38;5;241;43m.\u001b[39;49m\u001b[43mfilepath_or_buffer\u001b[49m\u001b[43m,\u001b[49m\n\u001b[1;32m    243\u001b[0m \u001b[43m    \u001b[49m\u001b[38;5;28;43mself\u001b[39;49m\u001b[38;5;241;43m.\u001b[39;49m\u001b[43mmode\u001b[49m\u001b[43m,\u001b[49m\n\u001b[1;32m    244\u001b[0m \u001b[43m    \u001b[49m\u001b[43mencoding\u001b[49m\u001b[38;5;241;43m=\u001b[39;49m\u001b[38;5;28;43mself\u001b[39;49m\u001b[38;5;241;43m.\u001b[39;49m\u001b[43mencoding\u001b[49m\u001b[43m,\u001b[49m\n\u001b[1;32m    245\u001b[0m \u001b[43m    \u001b[49m\u001b[43merrors\u001b[49m\u001b[38;5;241;43m=\u001b[39;49m\u001b[38;5;28;43mself\u001b[39;49m\u001b[38;5;241;43m.\u001b[39;49m\u001b[43merrors\u001b[49m\u001b[43m,\u001b[49m\n\u001b[1;32m    246\u001b[0m \u001b[43m    \u001b[49m\u001b[43mcompression\u001b[49m\u001b[38;5;241;43m=\u001b[39;49m\u001b[38;5;28;43mself\u001b[39;49m\u001b[38;5;241;43m.\u001b[39;49m\u001b[43mcompression\u001b[49m\u001b[43m,\u001b[49m\n\u001b[1;32m    247\u001b[0m \u001b[43m    \u001b[49m\u001b[43mstorage_options\u001b[49m\u001b[38;5;241;43m=\u001b[39;49m\u001b[38;5;28;43mself\u001b[39;49m\u001b[38;5;241;43m.\u001b[39;49m\u001b[43mstorage_options\u001b[49m\u001b[43m,\u001b[49m\n\u001b[1;32m    248\u001b[0m \u001b[43m\u001b[49m\u001b[43m)\u001b[49m \u001b[38;5;28;01mas\u001b[39;00m handles:\n\u001b[1;32m    249\u001b[0m \n\u001b[1;32m    250\u001b[0m     \u001b[38;5;66;03m# Note: self.encoding is irrelevant here\u001b[39;00m\n\u001b[1;32m    251\u001b[0m     \u001b[38;5;28mself\u001b[39m\u001b[38;5;241m.\u001b[39mwriter \u001b[38;5;241m=\u001b[39m csvlib\u001b[38;5;241m.\u001b[39mwriter(\n\u001b[1;32m    252\u001b[0m         handles\u001b[38;5;241m.\u001b[39mhandle,\n\u001b[1;32m    253\u001b[0m         lineterminator\u001b[38;5;241m=\u001b[39m\u001b[38;5;28mself\u001b[39m\u001b[38;5;241m.\u001b[39mline_terminator,\n\u001b[0;32m   (...)\u001b[0m\n\u001b[1;32m    258\u001b[0m         quotechar\u001b[38;5;241m=\u001b[39m\u001b[38;5;28mself\u001b[39m\u001b[38;5;241m.\u001b[39mquotechar,\n\u001b[1;32m    259\u001b[0m     )\n\u001b[1;32m    261\u001b[0m     \u001b[38;5;28mself\u001b[39m\u001b[38;5;241m.\u001b[39m_save()\n",
      "File \u001b[0;32m~/anaconda3/envs/sesang/lib/python3.10/site-packages/pandas/io/common.py:697\u001b[0m, in \u001b[0;36mget_handle\u001b[0;34m(path_or_buf, mode, encoding, compression, memory_map, is_text, errors, storage_options)\u001b[0m\n\u001b[1;32m    695\u001b[0m \u001b[38;5;66;03m# Only for write methods\u001b[39;00m\n\u001b[1;32m    696\u001b[0m \u001b[38;5;28;01mif\u001b[39;00m \u001b[38;5;124m\"\u001b[39m\u001b[38;5;124mr\u001b[39m\u001b[38;5;124m\"\u001b[39m \u001b[38;5;129;01mnot\u001b[39;00m \u001b[38;5;129;01min\u001b[39;00m mode \u001b[38;5;129;01mand\u001b[39;00m is_path:\n\u001b[0;32m--> 697\u001b[0m     \u001b[43mcheck_parent_directory\u001b[49m\u001b[43m(\u001b[49m\u001b[38;5;28;43mstr\u001b[39;49m\u001b[43m(\u001b[49m\u001b[43mhandle\u001b[49m\u001b[43m)\u001b[49m\u001b[43m)\u001b[49m\n\u001b[1;32m    699\u001b[0m \u001b[38;5;28;01mif\u001b[39;00m compression:\n\u001b[1;32m    700\u001b[0m     \u001b[38;5;28;01mif\u001b[39;00m compression \u001b[38;5;241m!=\u001b[39m \u001b[38;5;124m\"\u001b[39m\u001b[38;5;124mzstd\u001b[39m\u001b[38;5;124m\"\u001b[39m:\n\u001b[1;32m    701\u001b[0m         \u001b[38;5;66;03m# compression libraries do not like an explicit text-mode\u001b[39;00m\n",
      "File \u001b[0;32m~/anaconda3/envs/sesang/lib/python3.10/site-packages/pandas/io/common.py:571\u001b[0m, in \u001b[0;36mcheck_parent_directory\u001b[0;34m(path)\u001b[0m\n\u001b[1;32m    569\u001b[0m parent \u001b[38;5;241m=\u001b[39m Path(path)\u001b[38;5;241m.\u001b[39mparent\n\u001b[1;32m    570\u001b[0m \u001b[38;5;28;01mif\u001b[39;00m \u001b[38;5;129;01mnot\u001b[39;00m parent\u001b[38;5;241m.\u001b[39mis_dir():\n\u001b[0;32m--> 571\u001b[0m     \u001b[38;5;28;01mraise\u001b[39;00m \u001b[38;5;167;01mOSError\u001b[39;00m(\u001b[38;5;124mrf\u001b[39m\u001b[38;5;124m\"\u001b[39m\u001b[38;5;124mCannot save file into a non-existent directory: \u001b[39m\u001b[38;5;124m'\u001b[39m\u001b[38;5;132;01m{\u001b[39;00mparent\u001b[38;5;132;01m}\u001b[39;00m\u001b[38;5;124m'\u001b[39m\u001b[38;5;124m\"\u001b[39m)\n",
      "\u001b[0;31mOSError\u001b[0m: Cannot save file into a non-existent directory: 'data/saved'"
     ]
    }
   ],
   "source": [
    "# submission을 csv 파일로 저장합니다.\n",
    "# index=False란 추가적인 id를 부여할 필요가 없다는 뜻입니다. \n",
    "# 정확한 채점을 위해 꼭 index=False를 넣어주세요.\n",
    "submission.to_csv(\"data/saved/submit1.csv\",index=False)"
   ]
  },
  {
   "cell_type": "markdown",
   "id": "3f566109-e58d-4930-88c4-14b661218dd6",
   "metadata": {
    "id": "ZZiue39mpE29"
   },
   "source": [
    "이렇게 생성된 submit1.csv 파일을 데이콘 대회 페이지에 업로드 & 제출하여 결과를 확인하세요.\n",
    "\n",
    "축하합니다! 자연어 처리를 완료하셨습니다! 자연어 처리의 첫걸음을 떼신 것을 축하드립니다.\n",
    "\n",
    "앞으로도 데이콘과 함께 즐겁게 데이터 분석 능력을 키워가시면 좋겠습니다.\n",
    "\n",
    "감사합니다."
   ]
  },
  {
   "cell_type": "code",
   "execution_count": 5,
   "id": "dcc734fe-969a-4bdf-9f09-2cf2c30aaf1d",
   "metadata": {},
   "outputs": [
    {
     "name": "stdout",
     "output_type": "stream",
     "text": [
      "Mon Jun 27 10:29:57 2022       \n",
      "+-----------------------------------------------------------------------------+\n",
      "| NVIDIA-SMI 440.33.01    Driver Version: 440.33.01    CUDA Version: 10.2     |\n",
      "|-------------------------------+----------------------+----------------------+\n",
      "| GPU  Name        Persistence-M| Bus-Id        Disp.A | Volatile Uncorr. ECC |\n",
      "| Fan  Temp  Perf  Pwr:Usage/Cap|         Memory-Usage | GPU-Util  Compute M. |\n",
      "|===============================+======================+======================|\n",
      "|   0  Tesla V100-PCIE...  On   | 00000000:00:06.0 Off |                    0 |\n",
      "| N/A   37C    P0   144W / 250W |  11182MiB / 32510MiB |     58%      Default |\n",
      "+-------------------------------+----------------------+----------------------+\n",
      "|   1  Tesla V100-PCIE...  On   | 00000000:00:07.0 Off |                    0 |\n",
      "| N/A   22C    P0    25W / 250W |     12MiB / 32510MiB |      0%      Default |\n",
      "+-------------------------------+----------------------+----------------------+\n",
      "                                                                               \n",
      "+-----------------------------------------------------------------------------+\n",
      "| Processes:                                                       GPU Memory |\n",
      "|  GPU       PID   Type   Process name                             Usage      |\n",
      "|=============================================================================|\n",
      "|    0      5429      C   ...ubuntu/anaconda3/envs/sesang/bin/python  4287MiB |\n",
      "+-----------------------------------------------------------------------------+\n"
     ]
    }
   ],
   "source": [
    "!nvidia-smi"
   ]
  },
  {
   "cell_type": "code",
   "execution_count": null,
   "id": "35db910f-6489-4983-978a-54131ed4d4dc",
   "metadata": {},
   "outputs": [],
   "source": []
  }
 ],
 "metadata": {
  "kernelspec": {
   "display_name": "sesang",
   "language": "python",
   "name": "sesang"
  },
  "language_info": {
   "codemirror_mode": {
    "name": "ipython",
    "version": 3
   },
   "file_extension": ".py",
   "mimetype": "text/x-python",
   "name": "python",
   "nbconvert_exporter": "python",
   "pygments_lexer": "ipython3",
   "version": "3.10.4"
  }
 },
 "nbformat": 4,
 "nbformat_minor": 5
}
