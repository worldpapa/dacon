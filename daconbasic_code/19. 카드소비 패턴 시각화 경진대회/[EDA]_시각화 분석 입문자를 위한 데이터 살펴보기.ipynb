{
 "cells": [
  {
   "cell_type": "markdown",
   "metadata": {},
   "source": [
    "# 카드소비 패턴 분석 시각화 경진대회\n",
    "\n",
    "이번 데이콘 베이직 서머 시각화 대회는 카드 소비 데이터를 이용하여 \n",
    "\n",
    "소비 트렌드 및 소비 패턴을 효과적으로 분석 시각화를 하는 대회입니다.\n",
    "\n",
    "시각화 대회인 만큼 **탐색적 자료 분석(EDA, Exporatory Data Analysis)** 을 진행하여\n",
    "\n",
    "데이터에서 인사이트를 발굴해 보도록 하겠습니다."
   ]
  },
  {
   "cell_type": "markdown",
   "metadata": {},
   "source": [
    "### 라이브러리 Import"
   ]
  },
  {
   "cell_type": "code",
   "execution_count": 15,
   "metadata": {},
   "outputs": [],
   "source": [
    "# 데이터 프레임 생성을 위한 라이브러리\n",
    "import pandas as pd\n",
    "\n",
    "# 시각화를 위한 라이브러리\n",
    "import matplotlib.pyplot as plt\n",
    "plt.rc('font', family='NanumGothic')"
   ]
  },
  {
   "cell_type": "markdown",
   "metadata": {},
   "source": [
    "## 1. 블록별 성별연령대별 카드소비패턴"
   ]
  },
  {
   "cell_type": "markdown",
   "metadata": {},
   "source": [
    "블록별 성별연령대별 카드소비패턴.csv 부터 살펴보도록 하겠습니다."
   ]
  },
  {
   "cell_type": "code",
   "execution_count": 2,
   "metadata": {},
   "outputs": [
    {
     "data": {
      "text/html": [
       "<div>\n",
       "<style scoped>\n",
       "    .dataframe tbody tr th:only-of-type {\n",
       "        vertical-align: middle;\n",
       "    }\n",
       "\n",
       "    .dataframe tbody tr th {\n",
       "        vertical-align: top;\n",
       "    }\n",
       "\n",
       "    .dataframe thead th {\n",
       "        text-align: right;\n",
       "    }\n",
       "</style>\n",
       "<table border=\"1\" class=\"dataframe\">\n",
       "  <thead>\n",
       "    <tr style=\"text-align: right;\">\n",
       "      <th></th>\n",
       "      <th>서울시민업종코드(UPJONG_CD)</th>\n",
       "      <th>기준년월(YM)</th>\n",
       "      <th>고객주소블록코드(BLOCK_CD)</th>\n",
       "      <th>성별(GEDNER)</th>\n",
       "      <th>연령대별(AGE)</th>\n",
       "      <th>카드이용금액계(AMT_CORR)</th>\n",
       "      <th>카드이용건수계(USECT_CORR)</th>\n",
       "    </tr>\n",
       "  </thead>\n",
       "  <tbody>\n",
       "    <tr>\n",
       "      <th>0</th>\n",
       "      <td>SS013</td>\n",
       "      <td>201906</td>\n",
       "      <td>14037</td>\n",
       "      <td>F</td>\n",
       "      <td>50대</td>\n",
       "      <td>48288</td>\n",
       "      <td>65</td>\n",
       "    </tr>\n",
       "    <tr>\n",
       "      <th>1</th>\n",
       "      <td>SS048</td>\n",
       "      <td>201608</td>\n",
       "      <td>156830</td>\n",
       "      <td>M</td>\n",
       "      <td>30대</td>\n",
       "      <td>132792</td>\n",
       "      <td>10</td>\n",
       "    </tr>\n",
       "    <tr>\n",
       "      <th>2</th>\n",
       "      <td>SS016</td>\n",
       "      <td>202009</td>\n",
       "      <td>32925</td>\n",
       "      <td>M</td>\n",
       "      <td>50대</td>\n",
       "      <td>100600</td>\n",
       "      <td>25</td>\n",
       "    </tr>\n",
       "    <tr>\n",
       "      <th>3</th>\n",
       "      <td>SS001</td>\n",
       "      <td>201805</td>\n",
       "      <td>214245</td>\n",
       "      <td>F</td>\n",
       "      <td>30대</td>\n",
       "      <td>213876</td>\n",
       "      <td>40</td>\n",
       "    </tr>\n",
       "    <tr>\n",
       "      <th>4</th>\n",
       "      <td>SS044</td>\n",
       "      <td>201705</td>\n",
       "      <td>279472</td>\n",
       "      <td>M</td>\n",
       "      <td>30대</td>\n",
       "      <td>155930</td>\n",
       "      <td>5</td>\n",
       "    </tr>\n",
       "    <tr>\n",
       "      <th>...</th>\n",
       "      <td>...</td>\n",
       "      <td>...</td>\n",
       "      <td>...</td>\n",
       "      <td>...</td>\n",
       "      <td>...</td>\n",
       "      <td>...</td>\n",
       "      <td>...</td>\n",
       "    </tr>\n",
       "    <tr>\n",
       "      <th>495</th>\n",
       "      <td>SS012</td>\n",
       "      <td>201709</td>\n",
       "      <td>11449</td>\n",
       "      <td>F</td>\n",
       "      <td>30대</td>\n",
       "      <td>75450</td>\n",
       "      <td>45</td>\n",
       "    </tr>\n",
       "    <tr>\n",
       "      <th>496</th>\n",
       "      <td>SS044</td>\n",
       "      <td>201707</td>\n",
       "      <td>353037</td>\n",
       "      <td>F</td>\n",
       "      <td>30대</td>\n",
       "      <td>118708</td>\n",
       "      <td>25</td>\n",
       "    </tr>\n",
       "    <tr>\n",
       "      <th>497</th>\n",
       "      <td>SS054</td>\n",
       "      <td>201901</td>\n",
       "      <td>418149</td>\n",
       "      <td>F</td>\n",
       "      <td>20대</td>\n",
       "      <td>1056300</td>\n",
       "      <td>15</td>\n",
       "    </tr>\n",
       "    <tr>\n",
       "      <th>498</th>\n",
       "      <td>SS021</td>\n",
       "      <td>202009</td>\n",
       "      <td>269015</td>\n",
       "      <td>F</td>\n",
       "      <td>70대이상</td>\n",
       "      <td>25150</td>\n",
       "      <td>5</td>\n",
       "    </tr>\n",
       "    <tr>\n",
       "      <th>499</th>\n",
       "      <td>SS003</td>\n",
       "      <td>201812</td>\n",
       "      <td>28101</td>\n",
       "      <td>M</td>\n",
       "      <td>40대</td>\n",
       "      <td>569094</td>\n",
       "      <td>5</td>\n",
       "    </tr>\n",
       "  </tbody>\n",
       "</table>\n",
       "<p>500 rows × 7 columns</p>\n",
       "</div>"
      ],
      "text/plain": [
       "    서울시민업종코드(UPJONG_CD)  기준년월(YM)  고객주소블록코드(BLOCK_CD) 성별(GEDNER) 연령대별(AGE)  \\\n",
       "0                 SS013    201906               14037          F       50대   \n",
       "1                 SS048    201608              156830          M       30대   \n",
       "2                 SS016    202009               32925          M       50대   \n",
       "3                 SS001    201805              214245          F       30대   \n",
       "4                 SS044    201705              279472          M       30대   \n",
       "..                  ...       ...                 ...        ...       ...   \n",
       "495               SS012    201709               11449          F       30대   \n",
       "496               SS044    201707              353037          F       30대   \n",
       "497               SS054    201901              418149          F       20대   \n",
       "498               SS021    202009              269015          F     70대이상   \n",
       "499               SS003    201812               28101          M       40대   \n",
       "\n",
       "     카드이용금액계(AMT_CORR)  카드이용건수계(USECT_CORR)  \n",
       "0                48288                   65  \n",
       "1               132792                   10  \n",
       "2               100600                   25  \n",
       "3               213876                   40  \n",
       "4               155930                    5  \n",
       "..                 ...                  ...  \n",
       "495              75450                   45  \n",
       "496             118708                   25  \n",
       "497            1056300                   15  \n",
       "498              25150                    5  \n",
       "499             569094                    5  \n",
       "\n",
       "[500 rows x 7 columns]"
      ]
     },
     "execution_count": 2,
     "metadata": {},
     "output_type": "execute_result"
    }
   ],
   "source": [
    "df1 = pd.read_csv('data/블록별 성별연령대별 카드소비패턴.csv', encoding='cp949')\n",
    "df1"
   ]
  },
  {
   "cell_type": "markdown",
   "metadata": {},
   "source": [
    "이번 데이터에서는 \n",
    "\n",
    "성별(GEDNER), 연령대별(AGE), 카드이용금액계(AMT_CORR), 카드이용건수계(USECT_CORR)\n",
    "\n",
    "열을 이용하여 자료 분석을 해보겠습니다.\n",
    "\n",
    "연령대를 분석하기 위하여 데이터프레임의 '연령대별(AGE)' 열을 정수형으로 바꾸겠습니다."
   ]
  },
  {
   "cell_type": "code",
   "execution_count": 9,
   "metadata": {},
   "outputs": [
    {
     "data": {
      "text/html": [
       "<div>\n",
       "<style scoped>\n",
       "    .dataframe tbody tr th:only-of-type {\n",
       "        vertical-align: middle;\n",
       "    }\n",
       "\n",
       "    .dataframe tbody tr th {\n",
       "        vertical-align: top;\n",
       "    }\n",
       "\n",
       "    .dataframe thead th {\n",
       "        text-align: right;\n",
       "    }\n",
       "</style>\n",
       "<table border=\"1\" class=\"dataframe\">\n",
       "  <thead>\n",
       "    <tr style=\"text-align: right;\">\n",
       "      <th></th>\n",
       "      <th>서울시민업종코드(UPJONG_CD)</th>\n",
       "      <th>기준년월(YM)</th>\n",
       "      <th>고객주소블록코드(BLOCK_CD)</th>\n",
       "      <th>성별(GEDNER)</th>\n",
       "      <th>연령대별(AGE)</th>\n",
       "      <th>카드이용금액계(AMT_CORR)</th>\n",
       "      <th>카드이용건수계(USECT_CORR)</th>\n",
       "    </tr>\n",
       "  </thead>\n",
       "  <tbody>\n",
       "    <tr>\n",
       "      <th>0</th>\n",
       "      <td>SS013</td>\n",
       "      <td>201906</td>\n",
       "      <td>14037</td>\n",
       "      <td>F</td>\n",
       "      <td>50</td>\n",
       "      <td>48288</td>\n",
       "      <td>65</td>\n",
       "    </tr>\n",
       "    <tr>\n",
       "      <th>1</th>\n",
       "      <td>SS048</td>\n",
       "      <td>201608</td>\n",
       "      <td>156830</td>\n",
       "      <td>M</td>\n",
       "      <td>30</td>\n",
       "      <td>132792</td>\n",
       "      <td>10</td>\n",
       "    </tr>\n",
       "    <tr>\n",
       "      <th>2</th>\n",
       "      <td>SS016</td>\n",
       "      <td>202009</td>\n",
       "      <td>32925</td>\n",
       "      <td>M</td>\n",
       "      <td>50</td>\n",
       "      <td>100600</td>\n",
       "      <td>25</td>\n",
       "    </tr>\n",
       "    <tr>\n",
       "      <th>3</th>\n",
       "      <td>SS001</td>\n",
       "      <td>201805</td>\n",
       "      <td>214245</td>\n",
       "      <td>F</td>\n",
       "      <td>30</td>\n",
       "      <td>213876</td>\n",
       "      <td>40</td>\n",
       "    </tr>\n",
       "    <tr>\n",
       "      <th>4</th>\n",
       "      <td>SS044</td>\n",
       "      <td>201705</td>\n",
       "      <td>279472</td>\n",
       "      <td>M</td>\n",
       "      <td>30</td>\n",
       "      <td>155930</td>\n",
       "      <td>5</td>\n",
       "    </tr>\n",
       "    <tr>\n",
       "      <th>...</th>\n",
       "      <td>...</td>\n",
       "      <td>...</td>\n",
       "      <td>...</td>\n",
       "      <td>...</td>\n",
       "      <td>...</td>\n",
       "      <td>...</td>\n",
       "      <td>...</td>\n",
       "    </tr>\n",
       "    <tr>\n",
       "      <th>495</th>\n",
       "      <td>SS012</td>\n",
       "      <td>201709</td>\n",
       "      <td>11449</td>\n",
       "      <td>F</td>\n",
       "      <td>30</td>\n",
       "      <td>75450</td>\n",
       "      <td>45</td>\n",
       "    </tr>\n",
       "    <tr>\n",
       "      <th>496</th>\n",
       "      <td>SS044</td>\n",
       "      <td>201707</td>\n",
       "      <td>353037</td>\n",
       "      <td>F</td>\n",
       "      <td>30</td>\n",
       "      <td>118708</td>\n",
       "      <td>25</td>\n",
       "    </tr>\n",
       "    <tr>\n",
       "      <th>497</th>\n",
       "      <td>SS054</td>\n",
       "      <td>201901</td>\n",
       "      <td>418149</td>\n",
       "      <td>F</td>\n",
       "      <td>20</td>\n",
       "      <td>1056300</td>\n",
       "      <td>15</td>\n",
       "    </tr>\n",
       "    <tr>\n",
       "      <th>498</th>\n",
       "      <td>SS021</td>\n",
       "      <td>202009</td>\n",
       "      <td>269015</td>\n",
       "      <td>F</td>\n",
       "      <td>70</td>\n",
       "      <td>25150</td>\n",
       "      <td>5</td>\n",
       "    </tr>\n",
       "    <tr>\n",
       "      <th>499</th>\n",
       "      <td>SS003</td>\n",
       "      <td>201812</td>\n",
       "      <td>28101</td>\n",
       "      <td>M</td>\n",
       "      <td>40</td>\n",
       "      <td>569094</td>\n",
       "      <td>5</td>\n",
       "    </tr>\n",
       "  </tbody>\n",
       "</table>\n",
       "<p>500 rows × 7 columns</p>\n",
       "</div>"
      ],
      "text/plain": [
       "    서울시민업종코드(UPJONG_CD)  기준년월(YM)  고객주소블록코드(BLOCK_CD) 성별(GEDNER)  연령대별(AGE)  \\\n",
       "0                 SS013    201906               14037          F         50   \n",
       "1                 SS048    201608              156830          M         30   \n",
       "2                 SS016    202009               32925          M         50   \n",
       "3                 SS001    201805              214245          F         30   \n",
       "4                 SS044    201705              279472          M         30   \n",
       "..                  ...       ...                 ...        ...        ...   \n",
       "495               SS012    201709               11449          F         30   \n",
       "496               SS044    201707              353037          F         30   \n",
       "497               SS054    201901              418149          F         20   \n",
       "498               SS021    202009              269015          F         70   \n",
       "499               SS003    201812               28101          M         40   \n",
       "\n",
       "     카드이용금액계(AMT_CORR)  카드이용건수계(USECT_CORR)  \n",
       "0                48288                   65  \n",
       "1               132792                   10  \n",
       "2               100600                   25  \n",
       "3               213876                   40  \n",
       "4               155930                    5  \n",
       "..                 ...                  ...  \n",
       "495              75450                   45  \n",
       "496             118708                   25  \n",
       "497            1056300                   15  \n",
       "498              25150                    5  \n",
       "499             569094                    5  \n",
       "\n",
       "[500 rows x 7 columns]"
      ]
     },
     "execution_count": 9,
     "metadata": {},
     "output_type": "execute_result"
    }
   ],
   "source": [
    "def change_age(text:str):\n",
    "    return text[:2]\n",
    "\n",
    "df1['연령대별(AGE)'] = df1['연령대별(AGE)'].map(change_age).astype(int)\n",
    "df1"
   ]
  },
  {
   "cell_type": "markdown",
   "metadata": {},
   "source": [
    "### 1.1. 성별에 따른 카드이용금액합계와 카드이용건수계\n",
    "\n",
    "여성의 경우 남성보다 카드를 더 많이 자주 이용하지만,\n",
    "\n",
    "이용금액은 남성이 더 많은 것을 알 수 있습니다."
   ]
  },
  {
   "cell_type": "code",
   "execution_count": 13,
   "metadata": {},
   "outputs": [
    {
     "data": {
      "image/png": "[encoded data removed]",
      "text/plain": [
       "<Figure size 432x288 with 1 Axes>"
      ]
     },
     "metadata": {},
     "output_type": "display_data"
    }
   ],
   "source": [
    "# 이용 건수\n",
    "\n",
    "x = df1.groupby(by='성별(GEDNER)').sum().index\n",
    "y = df1.groupby(by='성별(GEDNER)').sum()['카드이용건수계(USECT_CORR)']\n",
    "plt.title('gender vs usect')\n",
    "plt.xlabel('gender')\n",
    "plt.ylabel('usect')\n",
    "plt.pie(y, labels=x.values)\n",
    "plt.legend()\n",
    "plt.show()"
   ]
  },
  {
   "cell_type": "code",
   "execution_count": 14,
   "metadata": {},
   "outputs": [
    {
     "data": {
      "image/png": "[encoded data removed]",
      "text/plain": [
       "<Figure size 432x288 with 1 Axes>"
      ]
     },
     "metadata": {},
     "output_type": "display_data"
    }
   ],
   "source": [
    "# 이용 금액\n",
    "\n",
    "x = df1.groupby(by='성별(GEDNER)').sum().index\n",
    "y = df1.groupby(by='성별(GEDNER)').sum()['카드이용금액계(AMT_CORR)']\n",
    "plt.title('gender vs amt')\n",
    "plt.xlabel('gender')\n",
    "plt.ylabel('amt')\n",
    "plt.pie(y, labels=x.values)\n",
    "plt.legend()\n",
    "plt.show()"
   ]
  },
  {
   "cell_type": "markdown",
   "metadata": {},
   "source": [
    "### 1.2. 연령에 따른 카드이용건수계와 이용금액합계\n",
    "\n",
    "40,50대가 카드를 제일 많이 이용하지만\n",
    "\n",
    "카드이용금액은 20대가 가장 많은 것을 알 수 있습니다."
   ]
  },
  {
   "cell_type": "code",
   "execution_count": 41,
   "metadata": {},
   "outputs": [
    {
     "data": {
      "image/png": "[encoded data removed]",
      "text/plain": [
       "<Figure size 432x288 with 1 Axes>"
      ]
     },
     "metadata": {
      "needs_background": "light"
     },
     "output_type": "display_data"
    }
   ],
   "source": [
    "x = df1.groupby(by='연령대별(AGE)').sum().index\n",
    "y = df1.groupby(by='연령대별(AGE)').sum()['카드이용건수계(USECT_CORR)']\n",
    "plt.title('age vs usect')\n",
    "plt.xlabel('age')\n",
    "plt.ylabel('usect')\n",
    "plt.plot(x,y)\n",
    "plt.show()"
   ]
  },
  {
   "cell_type": "code",
   "execution_count": 42,
   "metadata": {},
   "outputs": [
    {
     "data": {
      "image/png": "[encoded data removed]",
      "text/plain": [
       "<Figure size 432x288 with 1 Axes>"
      ]
     },
     "metadata": {
      "needs_background": "light"
     },
     "output_type": "display_data"
    }
   ],
   "source": [
    "x = df1.groupby(by='연령대별(AGE)').sum().index\n",
    "y = df1.groupby(by='연령대별(AGE)').sum()['카드이용금액계(AMT_CORR)']\n",
    "plt.title('age vs amt')\n",
    "plt.xlabel('age')\n",
    "plt.ylabel('amt')\n",
    "plt.plot(x,y)\n",
    "plt.show()"
   ]
  },
  {
   "cell_type": "markdown",
   "metadata": {},
   "source": [
    "## 2. 블록별 시간대별소액결제건수 카드소비패턴\n",
    "\n",
    "'블록별 시간대별소액결제건수 카드소비패턴.csv' 를 살펴보겠습니다."
   ]
  },
  {
   "cell_type": "code",
   "execution_count": 36,
   "metadata": {},
   "outputs": [
    {
     "data": {
      "text/html": [
       "<div>\n",
       "<style scoped>\n",
       "    .dataframe tbody tr th:only-of-type {\n",
       "        vertical-align: middle;\n",
       "    }\n",
       "\n",
       "    .dataframe tbody tr th {\n",
       "        vertical-align: top;\n",
       "    }\n",
       "\n",
       "    .dataframe thead th {\n",
       "        text-align: right;\n",
       "    }\n",
       "</style>\n",
       "<table border=\"1\" class=\"dataframe\">\n",
       "  <thead>\n",
       "    <tr style=\"text-align: right;\">\n",
       "      <th></th>\n",
       "      <th>서울시민업종코드(UPJONG_CD)</th>\n",
       "      <th>기준년월(YM)</th>\n",
       "      <th>시간대구간(TIME)</th>\n",
       "      <th>고객주소블록코드(BLOCK_CD)</th>\n",
       "      <th>카드이용금액계(AMT_CORR)</th>\n",
       "      <th>소액결제건수(MICRO_PYM)</th>\n",
       "    </tr>\n",
       "  </thead>\n",
       "  <tbody>\n",
       "    <tr>\n",
       "      <th>0</th>\n",
       "      <td>SS017</td>\n",
       "      <td>202006</td>\n",
       "      <td>6</td>\n",
       "      <td>11063</td>\n",
       "      <td>257</td>\n",
       "      <td>25</td>\n",
       "    </tr>\n",
       "    <tr>\n",
       "      <th>1</th>\n",
       "      <td>SS013</td>\n",
       "      <td>201608</td>\n",
       "      <td>6</td>\n",
       "      <td>216137</td>\n",
       "      <td>86</td>\n",
       "      <td>10</td>\n",
       "    </tr>\n",
       "    <tr>\n",
       "      <th>2</th>\n",
       "      <td>SS016</td>\n",
       "      <td>201802</td>\n",
       "      <td>3</td>\n",
       "      <td>224819</td>\n",
       "      <td>35</td>\n",
       "      <td>15</td>\n",
       "    </tr>\n",
       "    <tr>\n",
       "      <th>3</th>\n",
       "      <td>SS055</td>\n",
       "      <td>201906</td>\n",
       "      <td>2</td>\n",
       "      <td>19869</td>\n",
       "      <td>10</td>\n",
       "      <td>0</td>\n",
       "    </tr>\n",
       "    <tr>\n",
       "      <th>4</th>\n",
       "      <td>SS038</td>\n",
       "      <td>201612</td>\n",
       "      <td>5</td>\n",
       "      <td>28382</td>\n",
       "      <td>10</td>\n",
       "      <td>5</td>\n",
       "    </tr>\n",
       "    <tr>\n",
       "      <th>...</th>\n",
       "      <td>...</td>\n",
       "      <td>...</td>\n",
       "      <td>...</td>\n",
       "      <td>...</td>\n",
       "      <td>...</td>\n",
       "      <td>...</td>\n",
       "    </tr>\n",
       "    <tr>\n",
       "      <th>495</th>\n",
       "      <td>SS017</td>\n",
       "      <td>201911</td>\n",
       "      <td>5</td>\n",
       "      <td>366735</td>\n",
       "      <td>5</td>\n",
       "      <td>5</td>\n",
       "    </tr>\n",
       "    <tr>\n",
       "      <th>496</th>\n",
       "      <td>SS016</td>\n",
       "      <td>201803</td>\n",
       "      <td>2</td>\n",
       "      <td>155750</td>\n",
       "      <td>10</td>\n",
       "      <td>30</td>\n",
       "    </tr>\n",
       "    <tr>\n",
       "      <th>497</th>\n",
       "      <td>SS081</td>\n",
       "      <td>202103</td>\n",
       "      <td>3</td>\n",
       "      <td>366426</td>\n",
       "      <td>5</td>\n",
       "      <td>5</td>\n",
       "    </tr>\n",
       "    <tr>\n",
       "      <th>498</th>\n",
       "      <td>SS069</td>\n",
       "      <td>201707</td>\n",
       "      <td>3</td>\n",
       "      <td>214935</td>\n",
       "      <td>70</td>\n",
       "      <td>10</td>\n",
       "    </tr>\n",
       "    <tr>\n",
       "      <th>499</th>\n",
       "      <td>SS069</td>\n",
       "      <td>201909</td>\n",
       "      <td>4</td>\n",
       "      <td>225316</td>\n",
       "      <td>30</td>\n",
       "      <td>5</td>\n",
       "    </tr>\n",
       "  </tbody>\n",
       "</table>\n",
       "<p>500 rows × 6 columns</p>\n",
       "</div>"
      ],
      "text/plain": [
       "    서울시민업종코드(UPJONG_CD)  기준년월(YM)  시간대구간(TIME)  고객주소블록코드(BLOCK_CD)  \\\n",
       "0                 SS017    202006            6               11063   \n",
       "1                 SS013    201608            6              216137   \n",
       "2                 SS016    201802            3              224819   \n",
       "3                 SS055    201906            2               19869   \n",
       "4                 SS038    201612            5               28382   \n",
       "..                  ...       ...          ...                 ...   \n",
       "495               SS017    201911            5              366735   \n",
       "496               SS016    201803            2              155750   \n",
       "497               SS081    202103            3              366426   \n",
       "498               SS069    201707            3              214935   \n",
       "499               SS069    201909            4              225316   \n",
       "\n",
       "     카드이용금액계(AMT_CORR)  소액결제건수(MICRO_PYM)  \n",
       "0                  257                 25  \n",
       "1                   86                 10  \n",
       "2                   35                 15  \n",
       "3                   10                  0  \n",
       "4                   10                  5  \n",
       "..                 ...                ...  \n",
       "495                  5                  5  \n",
       "496                 10                 30  \n",
       "497                  5                  5  \n",
       "498                 70                 10  \n",
       "499                 30                  5  \n",
       "\n",
       "[500 rows x 6 columns]"
      ]
     },
     "execution_count": 36,
     "metadata": {},
     "output_type": "execute_result"
    }
   ],
   "source": [
    "df2 = pd.read_csv('data/블록별 시간대별소액결제건수 카드소비패턴.csv', encoding='cp949')\n",
    "df2"
   ]
  },
  {
   "cell_type": "markdown",
   "metadata": {},
   "source": [
    "이번 데이터에서는 \n",
    "\n",
    "시간대구간(TIME), 카드이용금액계(AMT_CORR), 소액결제건수(MICRO_PYM)\n",
    "\n",
    "열을 이용하여 자료 분석을 해보겠습니다."
   ]
  },
  {
   "cell_type": "markdown",
   "metadata": {},
   "source": [
    "### 2.1. 시간대별 카드이용금액계와 소액결제건수\n",
    "\n",
    "카드이용금액은 오후 시간대에 가장 크지만\n",
    "\n",
    "점심시간에 소액결제건수가 가장 많은 것을 알 수 있습니다."
   ]
  },
  {
   "cell_type": "code",
   "execution_count": 40,
   "metadata": {},
   "outputs": [
    {
     "data": {
      "image/png": "[encoded data removed]",
      "text/plain": [
       "<Figure size 432x288 with 1 Axes>"
      ]
     },
     "metadata": {
      "needs_background": "light"
     },
     "output_type": "display_data"
    }
   ],
   "source": [
    "x = df2.groupby(by='시간대구간(TIME)').sum().index\n",
    "y = df2.groupby(by='시간대구간(TIME)').sum()['카드이용금액계(AMT_CORR)']\n",
    "plt.title('time vs amt')\n",
    "plt.xlabel('time')\n",
    "plt.ylabel('amt')\n",
    "plt.plot(x,y)\n",
    "plt.show()"
   ]
  },
  {
   "cell_type": "code",
   "execution_count": 39,
   "metadata": {},
   "outputs": [
    {
     "data": {
      "image/png": "[encoded data removed]",
      "text/plain": [
       "<Figure size 432x288 with 1 Axes>"
      ]
     },
     "metadata": {
      "needs_background": "light"
     },
     "output_type": "display_data"
    }
   ],
   "source": [
    "x = df2.groupby(by='시간대구간(TIME)').sum().index\n",
    "y = df2.groupby(by='시간대구간(TIME)').sum()['소액결제건수(MICRO_PYM)']\n",
    "plt.title('time vs MICRO_PYM')\n",
    "plt.xlabel('time')\n",
    "plt.ylabel('MICRO_PYM')\n",
    "plt.plot(x,y)\n",
    "plt.show()"
   ]
  },
  {
   "cell_type": "markdown",
   "metadata": {},
   "source": [
    "## 3. 집계구별 일별소비지역별 카드소비패턴"
   ]
  },
  {
   "cell_type": "code",
   "execution_count": 13,
   "metadata": {},
   "outputs": [
    {
     "data": {
      "text/html": [
       "<div>\n",
       "<style scoped>\n",
       "    .dataframe tbody tr th:only-of-type {\n",
       "        vertical-align: middle;\n",
       "    }\n",
       "\n",
       "    .dataframe tbody tr th {\n",
       "        vertical-align: top;\n",
       "    }\n",
       "\n",
       "    .dataframe thead th {\n",
       "        text-align: right;\n",
       "    }\n",
       "</style>\n",
       "<table border=\"1\" class=\"dataframe\">\n",
       "  <thead>\n",
       "    <tr style=\"text-align: right;\">\n",
       "      <th></th>\n",
       "      <th>가맹점주소광역시도(SIDO)</th>\n",
       "      <th>가맹점주소시군구(SGG)</th>\n",
       "      <th>업종대분류(UPJONG_CLASS1)</th>\n",
       "      <th>기준일자(YMD)</th>\n",
       "      <th>고객주소집계구별(TOT_REG_CD)</th>\n",
       "      <th>카드이용금액계(AMT_CORR)</th>\n",
       "      <th>카드이용건수계(USECT_CORR)</th>\n",
       "    </tr>\n",
       "  </thead>\n",
       "  <tbody>\n",
       "    <tr>\n",
       "      <th>0</th>\n",
       "      <td>서울</td>\n",
       "      <td>강남구</td>\n",
       "      <td>전자상거래</td>\n",
       "      <td>20201021</td>\n",
       "      <td>1123077020119</td>\n",
       "      <td>251500</td>\n",
       "      <td>25</td>\n",
       "    </tr>\n",
       "    <tr>\n",
       "      <th>1</th>\n",
       "      <td>서울</td>\n",
       "      <td>관악구</td>\n",
       "      <td>요식/유흥</td>\n",
       "      <td>20170312</td>\n",
       "      <td>1112052010107</td>\n",
       "      <td>158445</td>\n",
       "      <td>20</td>\n",
       "    </tr>\n",
       "    <tr>\n",
       "      <th>2</th>\n",
       "      <td>서울</td>\n",
       "      <td>마포구</td>\n",
       "      <td>주유</td>\n",
       "      <td>20161205</td>\n",
       "      <td>1113068050004</td>\n",
       "      <td>8048</td>\n",
       "      <td>15</td>\n",
       "    </tr>\n",
       "    <tr>\n",
       "      <th>3</th>\n",
       "      <td>서울</td>\n",
       "      <td>동작구</td>\n",
       "      <td>의료</td>\n",
       "      <td>20201210</td>\n",
       "      <td>1105066020601</td>\n",
       "      <td>22635</td>\n",
       "      <td>5</td>\n",
       "    </tr>\n",
       "    <tr>\n",
       "      <th>4</th>\n",
       "      <td>서울</td>\n",
       "      <td>NaN</td>\n",
       "      <td>가정생활/서비스</td>\n",
       "      <td>20210216</td>\n",
       "      <td>1117052020001</td>\n",
       "      <td>65390</td>\n",
       "      <td>10</td>\n",
       "    </tr>\n",
       "    <tr>\n",
       "      <th>...</th>\n",
       "      <td>...</td>\n",
       "      <td>...</td>\n",
       "      <td>...</td>\n",
       "      <td>...</td>\n",
       "      <td>...</td>\n",
       "      <td>...</td>\n",
       "      <td>...</td>\n",
       "    </tr>\n",
       "    <tr>\n",
       "      <th>495</th>\n",
       "      <td>서울</td>\n",
       "      <td>종로구</td>\n",
       "      <td>가전/가구</td>\n",
       "      <td>20201108</td>\n",
       "      <td>1120055030005</td>\n",
       "      <td>55330</td>\n",
       "      <td>10</td>\n",
       "    </tr>\n",
       "    <tr>\n",
       "      <th>496</th>\n",
       "      <td>부산</td>\n",
       "      <td>부평구</td>\n",
       "      <td>의료</td>\n",
       "      <td>20180901</td>\n",
       "      <td>1122058020102</td>\n",
       "      <td>853591</td>\n",
       "      <td>5</td>\n",
       "    </tr>\n",
       "    <tr>\n",
       "      <th>497</th>\n",
       "      <td>서울</td>\n",
       "      <td>강남구</td>\n",
       "      <td>유통</td>\n",
       "      <td>20160326</td>\n",
       "      <td>1123064020008</td>\n",
       "      <td>2052240</td>\n",
       "      <td>5</td>\n",
       "    </tr>\n",
       "    <tr>\n",
       "      <th>498</th>\n",
       "      <td>서울</td>\n",
       "      <td>서초구</td>\n",
       "      <td>스포츠/문화/레저</td>\n",
       "      <td>20160804</td>\n",
       "      <td>1124061010014</td>\n",
       "      <td>22635</td>\n",
       "      <td>5</td>\n",
       "    </tr>\n",
       "    <tr>\n",
       "      <th>499</th>\n",
       "      <td>인천</td>\n",
       "      <td>마포구</td>\n",
       "      <td>음/식료품</td>\n",
       "      <td>20210628</td>\n",
       "      <td>1122052030002</td>\n",
       "      <td>667481</td>\n",
       "      <td>116</td>\n",
       "    </tr>\n",
       "  </tbody>\n",
       "</table>\n",
       "<p>500 rows × 7 columns</p>\n",
       "</div>"
      ],
      "text/plain": [
       "    가맹점주소광역시도(SIDO) 가맹점주소시군구(SGG) 업종대분류(UPJONG_CLASS1)  기준일자(YMD)  \\\n",
       "0                서울           강남구                전자상거래   20201021   \n",
       "1                서울           관악구                요식/유흥   20170312   \n",
       "2                서울           마포구                   주유   20161205   \n",
       "3                서울           동작구                   의료   20201210   \n",
       "4                서울           NaN             가정생활/서비스   20210216   \n",
       "..              ...           ...                  ...        ...   \n",
       "495              서울           종로구                가전/가구   20201108   \n",
       "496              부산           부평구                   의료   20180901   \n",
       "497              서울           강남구                   유통   20160326   \n",
       "498              서울           서초구            스포츠/문화/레저   20160804   \n",
       "499              인천           마포구                음/식료품   20210628   \n",
       "\n",
       "     고객주소집계구별(TOT_REG_CD)  카드이용금액계(AMT_CORR)  카드이용건수계(USECT_CORR)  \n",
       "0           1123077020119             251500                   25  \n",
       "1           1112052010107             158445                   20  \n",
       "2           1113068050004               8048                   15  \n",
       "3           1105066020601              22635                    5  \n",
       "4           1117052020001              65390                   10  \n",
       "..                    ...                ...                  ...  \n",
       "495         1120055030005              55330                   10  \n",
       "496         1122058020102             853591                    5  \n",
       "497         1123064020008            2052240                    5  \n",
       "498         1124061010014              22635                    5  \n",
       "499         1122052030002             667481                  116  \n",
       "\n",
       "[500 rows x 7 columns]"
      ]
     },
     "execution_count": 13,
     "metadata": {},
     "output_type": "execute_result"
    }
   ],
   "source": [
    "df3 = pd.read_csv('data/집계구별 일별소비지역별 카드소비패턴.csv', encoding='cp949')\n",
    "df3"
   ]
  },
  {
   "cell_type": "markdown",
   "metadata": {},
   "source": [
    "이번 데이터에서는\n",
    "\n",
    "가맹점주소광역시도(SIDO), 가맹점주소시군구(SGG), 카드이용금액계(AMT_CORR), 카드이용건수계(USECT_CORR)\n",
    "\n",
    "열을 이용하여 자료 분석을 해보겠습니다."
   ]
  },
  {
   "cell_type": "markdown",
   "metadata": {},
   "source": [
    "### 3.1. 지역별 카드이용건수계와 카드이용금액계\n",
    "\n",
    "서울, 그다음 경기가 이용건수와 이용금액이 가장 많은 것을 알 수 있습니다."
   ]
  },
  {
   "cell_type": "code",
   "execution_count": 17,
   "metadata": {},
   "outputs": [
    {
     "data": {
      "image/png": "[encoded data removed]",
      "text/plain": [
       "<Figure size 432x288 with 1 Axes>"
      ]
     },
     "metadata": {
      "needs_background": "light"
     },
     "output_type": "display_data"
    }
   ],
   "source": [
    "x = df3.groupby(by= '가맹점주소광역시도(SIDO)').sum().index\n",
    "y = df3.groupby(by= '가맹점주소광역시도(SIDO)').sum()['카드이용건수계(USECT_CORR)']\n",
    "plt.title('지역별 카드이용건수계')\n",
    "plt.xlabel('지역')\n",
    "plt.ylabel('이용건수계')\n",
    "plt.bar(x,y)\n",
    "plt.show()"
   ]
  },
  {
   "cell_type": "code",
   "execution_count": 16,
   "metadata": {},
   "outputs": [
    {
     "data": {
      "image/png": "[encoded data removed]",
      "text/plain": [
       "<Figure size 432x288 with 1 Axes>"
      ]
     },
     "metadata": {
      "needs_background": "light"
     },
     "output_type": "display_data"
    }
   ],
   "source": [
    "x = df3.groupby(by= '가맹점주소광역시도(SIDO)').sum().index\n",
    "y = df3.groupby(by= '가맹점주소광역시도(SIDO)').sum()['카드이용금액계(AMT_CORR)']\n",
    "plt.title('지역별 카드이용금액계')\n",
    "plt.xlabel('지역')\n",
    "plt.ylabel('이용금액계')\n",
    "plt.bar(x,y)\n",
    "plt.show()"
   ]
  },
  {
   "cell_type": "markdown",
   "metadata": {},
   "source": [
    "### 3.2. 서울시 구별 카드이용건수계와 카드이용금액계\n",
    "\n",
    "이용건수계는 마포구가 가장 많지만,\n",
    "\n",
    "이용금액계는 강남구가 가장 큰 것을 알 수 있습니다."
   ]
  },
  {
   "cell_type": "code",
   "execution_count": 34,
   "metadata": {},
   "outputs": [
    {
     "data": {
      "image/png": "[encoded data removed]",
      "text/plain": [
       "<Figure size 1296x360 with 1 Axes>"
      ]
     },
     "metadata": {
      "needs_background": "light"
     },
     "output_type": "display_data"
    }
   ],
   "source": [
    "x = df3[df3['가맹점주소광역시도(SIDO)'] == '서울'].groupby(by= '가맹점주소시군구(SGG)').sum().index\n",
    "y = df3[df3['가맹점주소광역시도(SIDO)'] == '서울'].groupby(by= '가맹점주소시군구(SGG)').sum()['카드이용건수계(USECT_CORR)']\n",
    "plt.figure(figsize = (18,5))\n",
    "plt.title('지역별 카드이용건수계')\n",
    "plt.xlabel('지역')\n",
    "plt.xticks(rotation=45)\n",
    "plt.ylabel('이용건수계')\n",
    "plt.bar(x,y)\n",
    "plt.show()"
   ]
  },
  {
   "cell_type": "code",
   "execution_count": 33,
   "metadata": {},
   "outputs": [
    {
     "data": {
      "image/png": "[encoded data removed]",
      "text/plain": [
       "<Figure size 1296x360 with 1 Axes>"
      ]
     },
     "metadata": {
      "needs_background": "light"
     },
     "output_type": "display_data"
    }
   ],
   "source": [
    "x = df3[df3['가맹점주소광역시도(SIDO)'] == '서울'].groupby(by= '가맹점주소시군구(SGG)').sum().index\n",
    "y = df3[df3['가맹점주소광역시도(SIDO)'] == '서울'].groupby(by= '가맹점주소시군구(SGG)').sum()['카드이용금액계(AMT_CORR)']\n",
    "plt.figure(figsize = (18,5))\n",
    "plt.title('지역별 카드이용금액계')\n",
    "plt.xlabel('서울시 행정 구')\n",
    "plt.xticks(rotation=45)\n",
    "plt.ylabel('이용금액계')\n",
    "plt.bar(x,y)\n",
    "plt.show()\n",
    "\n"
   ]
  },
  {
   "cell_type": "markdown",
   "metadata": {},
   "source": [
    "## 4. 집계구별 일별시간대별 카드소비패턴"
   ]
  },
  {
   "cell_type": "code",
   "execution_count": 35,
   "metadata": {},
   "outputs": [
    {
     "data": {
      "text/html": [
       "<div>\n",
       "<style scoped>\n",
       "    .dataframe tbody tr th:only-of-type {\n",
       "        vertical-align: middle;\n",
       "    }\n",
       "\n",
       "    .dataframe tbody tr th {\n",
       "        vertical-align: top;\n",
       "    }\n",
       "\n",
       "    .dataframe thead th {\n",
       "        text-align: right;\n",
       "    }\n",
       "</style>\n",
       "<table border=\"1\" class=\"dataframe\">\n",
       "  <thead>\n",
       "    <tr style=\"text-align: right;\">\n",
       "      <th></th>\n",
       "      <th>업종대분류(UPJONG_CLASS1)</th>\n",
       "      <th>기준일자(YMD)</th>\n",
       "      <th>시간대구간(TIME)</th>\n",
       "      <th>고객주소집계구별(TOT_REG_CD)</th>\n",
       "      <th>카드이용금액계(AMT_CORR)</th>\n",
       "      <th>카드이용건수계(USECT_CORR)</th>\n",
       "    </tr>\n",
       "  </thead>\n",
       "  <tbody>\n",
       "    <tr>\n",
       "      <th>0</th>\n",
       "      <td>요식/유흥</td>\n",
       "      <td>20161004</td>\n",
       "      <td>6</td>\n",
       "      <td>1123076010009</td>\n",
       "      <td>104624</td>\n",
       "      <td>10</td>\n",
       "    </tr>\n",
       "    <tr>\n",
       "      <th>1</th>\n",
       "      <td>유통</td>\n",
       "      <td>20210303</td>\n",
       "      <td>5</td>\n",
       "      <td>1122060030003</td>\n",
       "      <td>382592</td>\n",
       "      <td>20</td>\n",
       "    </tr>\n",
       "    <tr>\n",
       "      <th>2</th>\n",
       "      <td>유통</td>\n",
       "      <td>20170606</td>\n",
       "      <td>6</td>\n",
       "      <td>1123066022301</td>\n",
       "      <td>341688</td>\n",
       "      <td>5</td>\n",
       "    </tr>\n",
       "    <tr>\n",
       "      <th>3</th>\n",
       "      <td>스포츠/문화/레저</td>\n",
       "      <td>20171206</td>\n",
       "      <td>5</td>\n",
       "      <td>1124075020103</td>\n",
       "      <td>925118</td>\n",
       "      <td>5</td>\n",
       "    </tr>\n",
       "    <tr>\n",
       "      <th>4</th>\n",
       "      <td>의료</td>\n",
       "      <td>20160909</td>\n",
       "      <td>6</td>\n",
       "      <td>1113075030002</td>\n",
       "      <td>217985</td>\n",
       "      <td>50</td>\n",
       "    </tr>\n",
       "    <tr>\n",
       "      <th>...</th>\n",
       "      <td>...</td>\n",
       "      <td>...</td>\n",
       "      <td>...</td>\n",
       "      <td>...</td>\n",
       "      <td>...</td>\n",
       "      <td>...</td>\n",
       "    </tr>\n",
       "    <tr>\n",
       "      <th>495</th>\n",
       "      <td>전자상거래</td>\n",
       "      <td>20170727</td>\n",
       "      <td>2</td>\n",
       "      <td>1120069010006</td>\n",
       "      <td>90540</td>\n",
       "      <td>25</td>\n",
       "    </tr>\n",
       "    <tr>\n",
       "      <th>496</th>\n",
       "      <td>유통</td>\n",
       "      <td>20190406</td>\n",
       "      <td>3</td>\n",
       "      <td>1123072010303</td>\n",
       "      <td>1211325</td>\n",
       "      <td>20</td>\n",
       "    </tr>\n",
       "    <tr>\n",
       "      <th>497</th>\n",
       "      <td>교육/학원</td>\n",
       "      <td>20210107</td>\n",
       "      <td>3</td>\n",
       "      <td>1119072030101</td>\n",
       "      <td>266590</td>\n",
       "      <td>15</td>\n",
       "    </tr>\n",
       "    <tr>\n",
       "      <th>498</th>\n",
       "      <td>전자상거래</td>\n",
       "      <td>20200426</td>\n",
       "      <td>4</td>\n",
       "      <td>1105063030203</td>\n",
       "      <td>547264</td>\n",
       "      <td>25</td>\n",
       "    </tr>\n",
       "    <tr>\n",
       "      <th>499</th>\n",
       "      <td>여행/교통</td>\n",
       "      <td>20160625</td>\n",
       "      <td>4</td>\n",
       "      <td>1103072030001</td>\n",
       "      <td>10559831</td>\n",
       "      <td>5</td>\n",
       "    </tr>\n",
       "  </tbody>\n",
       "</table>\n",
       "<p>500 rows × 6 columns</p>\n",
       "</div>"
      ],
      "text/plain": [
       "    업종대분류(UPJONG_CLASS1)  기준일자(YMD)  시간대구간(TIME)  고객주소집계구별(TOT_REG_CD)  \\\n",
       "0                  요식/유흥   20161004            6         1123076010009   \n",
       "1                     유통   20210303            5         1122060030003   \n",
       "2                     유통   20170606            6         1123066022301   \n",
       "3              스포츠/문화/레저   20171206            5         1124075020103   \n",
       "4                     의료   20160909            6         1113075030002   \n",
       "..                   ...        ...          ...                   ...   \n",
       "495                전자상거래   20170727            2         1120069010006   \n",
       "496                   유통   20190406            3         1123072010303   \n",
       "497                교육/학원   20210107            3         1119072030101   \n",
       "498                전자상거래   20200426            4         1105063030203   \n",
       "499                여행/교통   20160625            4         1103072030001   \n",
       "\n",
       "     카드이용금액계(AMT_CORR)  카드이용건수계(USECT_CORR)  \n",
       "0               104624                   10  \n",
       "1               382592                   20  \n",
       "2               341688                    5  \n",
       "3               925118                    5  \n",
       "4               217985                   50  \n",
       "..                 ...                  ...  \n",
       "495              90540                   25  \n",
       "496            1211325                   20  \n",
       "497             266590                   15  \n",
       "498             547264                   25  \n",
       "499           10559831                    5  \n",
       "\n",
       "[500 rows x 6 columns]"
      ]
     },
     "execution_count": 35,
     "metadata": {},
     "output_type": "execute_result"
    }
   ],
   "source": [
    "df4 = pd.read_csv('data/집계구별 일별시간대별 카드소비패턴.csv', encoding='cp949')\n",
    "df4"
   ]
  },
  {
   "cell_type": "markdown",
   "metadata": {},
   "source": [
    "이번 데이터에서는\n",
    "\n",
    "업종대분류(UPJONG_CLASS1), 기준일자(YMD), 시간대구간(TIME), 카드이용금액계(AMT_CORR), 카드이용건수계(USECT_CORR)\n",
    "\n",
    "열을 이용하여 자료 분석을 해보겠습니다."
   ]
  },
  {
   "cell_type": "markdown",
   "metadata": {},
   "source": [
    "### 4.1 업종별 이용건수계와 이용금액계\n",
    "\n",
    "업종별로는 유통과 전자상거래에서 카드이용건수가 가장 많은 것을 알 수 있습니다.\n",
    "\n",
    "**유통**의 경우 이용건수에 비해 이용금액도 많지만\n",
    "\n",
    "**전자상거래**의 경우 이용건수에 비해 이용금액은 상대적으로 적은 것을 알 수 있습니다."
   ]
  },
  {
   "cell_type": "code",
   "execution_count": 43,
   "metadata": {},
   "outputs": [
    {
     "data": {
      "image/png": "[encoded data removed]",
      "text/plain": [
       "<Figure size 432x288 with 1 Axes>"
      ]
     },
     "metadata": {
      "needs_background": "light"
     },
     "output_type": "display_data"
    }
   ],
   "source": [
    "x = df4.groupby(by= '업종대분류(UPJONG_CLASS1)').sum().index\n",
    "y = df4.groupby(by= '업종대분류(UPJONG_CLASS1)').sum()['카드이용건수계(USECT_CORR)']\n",
    "plt.title('업종별 카드이용건수계')\n",
    "plt.xlabel('업종')\n",
    "plt.xticks(rotation=90)\n",
    "plt.ylabel('이용건수계')\n",
    "plt.bar(x,y)\n",
    "plt.show()"
   ]
  },
  {
   "cell_type": "code",
   "execution_count": 60,
   "metadata": {},
   "outputs": [
    {
     "data": {
      "image/png": "[encoded data removed]",
      "text/plain": [
       "<Figure size 432x288 with 1 Axes>"
      ]
     },
     "metadata": {
      "needs_background": "light"
     },
     "output_type": "display_data"
    }
   ],
   "source": [
    "x = df4.groupby(by= '업종대분류(UPJONG_CLASS1)').sum().index\n",
    "y = df4.groupby(by= '업종대분류(UPJONG_CLASS1)').sum()['카드이용금액계(AMT_CORR)']\n",
    "plt.title('업종별 카드이용금액계')\n",
    "plt.xlabel('업종')\n",
    "plt.xticks(rotation=90)\n",
    "plt.ylabel('이용금액계')\n",
    "plt.bar(x,y)\n",
    "plt.show()"
   ]
  },
  {
   "cell_type": "markdown",
   "metadata": {},
   "source": [
    "### 4.2 일별 이용건수계와 이용금액계"
   ]
  },
  {
   "cell_type": "markdown",
   "metadata": {},
   "source": [
    "일별로 보면 카드이용건수와 이용금액이 폭등하는 날이 존재합니다.\n",
    "\n",
    "상식적인 추측으로는 공휴일이라고 가설을 설정해 볼 수 있습니다."
   ]
  },
  {
   "cell_type": "code",
   "execution_count": 104,
   "metadata": {},
   "outputs": [
    {
     "data": {
      "image/png": "[encoded data removed]",
      "text/plain": [
       "<Figure size 432x288 with 1 Axes>"
      ]
     },
     "metadata": {
      "needs_background": "light"
     },
     "output_type": "display_data"
    }
   ],
   "source": [
    "x = df4.groupby(by= '기준일자(YMD)').sum().sort_index().index\n",
    "y = df4.groupby(by= '기준일자(YMD)').sum().sort_index()['카드이용건수계(USECT_CORR)'].reset_index(drop=True)\n",
    "values = range(len(x))\n",
    "\n",
    "plt.title('일별 카드이용건수계')\n",
    "plt.xlabel('일')\n",
    "plt.xticks(values,x)\n",
    "plt.locator_params(axis='x', nbins=len(x)/80)\n",
    "plt.ylabel('이용건수계')\n",
    "plt.plot(values,y)\n",
    "plt.show()"
   ]
  },
  {
   "cell_type": "code",
   "execution_count": 59,
   "metadata": {},
   "outputs": [
    {
     "data": {
      "text/plain": [
       "기준일자(YMD)\n",
       "20160913    106\n",
       "20171130    176\n",
       "20180413    106\n",
       "20180516    101\n",
       "20190914    211\n",
       "20200802    251\n",
       "20201126    106\n",
       "Name: 카드이용건수계(USECT_CORR), dtype: int64"
      ]
     },
     "execution_count": 59,
     "metadata": {},
     "output_type": "execute_result"
    }
   ],
   "source": [
    "temp = df4.groupby(by= '기준일자(YMD)').sum().sort_index()['카드이용건수계(USECT_CORR)']\n",
    "temp[temp > 100]"
   ]
  },
  {
   "cell_type": "markdown",
   "metadata": {},
   "source": [
    "실제로 가장 많은 251건수 20200802날은 일요일이고,\n",
    "\n",
    "그 다음으로 많은 211건수 20190914날은 추석연휴 토요일인 것을 확인해 볼 수 있습니다."
   ]
  },
  {
   "cell_type": "code",
   "execution_count": 105,
   "metadata": {},
   "outputs": [
    {
     "data": {
      "image/png": "[encoded data removed]",
      "text/plain": [
       "<Figure size 432x288 with 1 Axes>"
      ]
     },
     "metadata": {
      "needs_background": "light"
     },
     "output_type": "display_data"
    }
   ],
   "source": [
    "x = df4.groupby(by= '기준일자(YMD)').sum().sort_index().index\n",
    "y = df4.groupby(by= '기준일자(YMD)').sum().sort_index()['카드이용금액계(AMT_CORR)'].reset_index(drop=True)\n",
    "values = range(len(x))\n",
    "plt.title('일별 카드이용금액계')\n",
    "plt.xlabel('일')\n",
    "plt.xticks(values,x)\n",
    "plt.locator_params(axis='x', nbins=len(x)/80)\n",
    "plt.ylabel('이용금액계')\n",
    "plt.plot(values,y)\n",
    "plt.show()"
   ]
  },
  {
   "cell_type": "code",
   "execution_count": 108,
   "metadata": {},
   "outputs": [
    {
     "data": {
      "text/plain": [
       "기준일자(YMD)\n",
       "20160625    10559831\n",
       "20170709    11394962\n",
       "20180421    11531979\n",
       "20200209    40847926\n",
       "20200831    16053798\n",
       "Name: 카드이용금액계(AMT_CORR), dtype: int64"
      ]
     },
     "execution_count": 108,
     "metadata": {},
     "output_type": "execute_result"
    }
   ],
   "source": [
    "temp = df4.groupby(by= '기준일자(YMD)').sum().sort_index()['카드이용금액계(AMT_CORR)']\n",
    "temp[temp > 10000000]"
   ]
  },
  {
   "cell_type": "markdown",
   "metadata": {},
   "source": [
    "실제로 가장 많은 40,847,926원 20200209날은 일요일이고,\n",
    "\n",
    "그 다음으로 많은 16,053,798원 20200831날은 추측과 다르게 월요일이지만 월 말일인 것을 알 수 있습니다."
   ]
  },
  {
   "cell_type": "markdown",
   "metadata": {},
   "source": [
    "## 마치며\n",
    "\n",
    "여러분은 어떤 인사이트를 얻으셨나요?\n",
    "\n",
    "이번 EDA를 통해 어떤 방식으로 분석 시각화를 진행해야겠다는 참고가 되는 인사이트를 얻으셨으면 좋겠습니다.\n",
    "\n",
    "여러분도 여러분만의 EDA를 진행하시고 코드공유에 올려주세요!\n",
    "\n",
    "좋아요와 댓글을 합산하여 가장 높은 점수를 얻으신 분께 데이콘 후드가 제공됩니다!"
   ]
  },
  {
   "cell_type": "code",
   "execution_count": null,
   "metadata": {},
   "outputs": [],
   "source": []
  }
 ],
 "metadata": {
  "kernelspec": {
   "display_name": "sesang",
   "language": "python",
   "name": "sesang"
  },
  "language_info": {
   "codemirror_mode": {
    "name": "ipython",
    "version": 3
   },
   "file_extension": ".py",
   "mimetype": "text/x-python",
   "name": "python",
   "nbconvert_exporter": "python",
   "pygments_lexer": "ipython3",
   "version": "3.10.4"
  },
  "vscode": {
   "interpreter": {
    "hash": "31f2aee4e71d21fbe5cf8b01ff0e069b9275f58929596ceb00d14d90e3e16cd6"
   }
  }
 },
 "nbformat": 4,
 "nbformat_minor": 4
}
