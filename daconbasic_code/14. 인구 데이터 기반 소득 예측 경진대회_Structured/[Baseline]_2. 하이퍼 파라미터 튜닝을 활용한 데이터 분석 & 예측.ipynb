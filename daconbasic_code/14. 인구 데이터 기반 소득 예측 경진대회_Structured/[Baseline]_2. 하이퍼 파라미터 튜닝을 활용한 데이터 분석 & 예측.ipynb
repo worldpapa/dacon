{
 "cells": [
  {
   "cell_type": "markdown",
   "id": "33a9c528-2628-46e8-a4c4-91c93134f35f",
   "metadata": {},
   "source": [
    "# 인구 데이터 기반 소득 예측 경진대회\n",
    "\n",
    "이번 대회는 인구 데이터 바탕으로 소득이 5만달러 이하인지 초과인지 분류하는 대회입니다.\n",
    "\n",
    "모델을 작성해서 성능을 확인해보고 하이퍼파라미터 튜닝에 따라서 어떻게 성능이 변하고 어떻게 접근해야 하는지 알아봅시다!\n",
    "\n",
    "그럼 시작해볼까요?\n",
    "\n",
    "## 데이터 불러오기\n",
    "먼저 분석하려는 데이터를 작업장으로 가져오는 작업이 필요합니다.\n",
    "\n",
    "이를 위해서 파이썬 라이브러리 중 하나인 Pandas를 이용합니다.\n",
    "\n",
    "pandas 라이브러리는 엑셀과 같은 행과 열로 이루어진 테이블(table) 형식의 데이터를 편하게 다루도록 해주는 라이브러리입니다."
   ]
  },
  {
   "cell_type": "code",
   "execution_count": 3,
   "id": "f7aafa25-e64a-4858-8e1d-9ab4ba7e8a81",
   "metadata": {},
   "outputs": [
    {
     "data": {
      "text/html": [
       "<div>\n",
       "<style scoped>\n",
       "    .dataframe tbody tr th:only-of-type {\n",
       "        vertical-align: middle;\n",
       "    }\n",
       "\n",
       "    .dataframe tbody tr th {\n",
       "        vertical-align: top;\n",
       "    }\n",
       "\n",
       "    .dataframe thead th {\n",
       "        text-align: right;\n",
       "    }\n",
       "</style>\n",
       "<table border=\"1\" class=\"dataframe\">\n",
       "  <thead>\n",
       "    <tr style=\"text-align: right;\">\n",
       "      <th></th>\n",
       "      <th>id</th>\n",
       "      <th>age</th>\n",
       "      <th>workclass</th>\n",
       "      <th>fnlwgt</th>\n",
       "      <th>education</th>\n",
       "      <th>education.num</th>\n",
       "      <th>marital.status</th>\n",
       "      <th>occupation</th>\n",
       "      <th>relationship</th>\n",
       "      <th>race</th>\n",
       "      <th>sex</th>\n",
       "      <th>capital.gain</th>\n",
       "      <th>capital.loss</th>\n",
       "      <th>hours.per.week</th>\n",
       "      <th>native.country</th>\n",
       "      <th>target</th>\n",
       "    </tr>\n",
       "  </thead>\n",
       "  <tbody>\n",
       "    <tr>\n",
       "      <th>0</th>\n",
       "      <td>0</td>\n",
       "      <td>32</td>\n",
       "      <td>Private</td>\n",
       "      <td>309513</td>\n",
       "      <td>Assoc-acdm</td>\n",
       "      <td>12</td>\n",
       "      <td>Married-civ-spouse</td>\n",
       "      <td>Craft-repair</td>\n",
       "      <td>Husband</td>\n",
       "      <td>White</td>\n",
       "      <td>Male</td>\n",
       "      <td>0</td>\n",
       "      <td>0</td>\n",
       "      <td>40</td>\n",
       "      <td>United-States</td>\n",
       "      <td>0</td>\n",
       "    </tr>\n",
       "    <tr>\n",
       "      <th>1</th>\n",
       "      <td>1</td>\n",
       "      <td>33</td>\n",
       "      <td>Private</td>\n",
       "      <td>205469</td>\n",
       "      <td>Some-college</td>\n",
       "      <td>10</td>\n",
       "      <td>Married-civ-spouse</td>\n",
       "      <td>Exec-managerial</td>\n",
       "      <td>Husband</td>\n",
       "      <td>White</td>\n",
       "      <td>Male</td>\n",
       "      <td>0</td>\n",
       "      <td>0</td>\n",
       "      <td>40</td>\n",
       "      <td>United-States</td>\n",
       "      <td>1</td>\n",
       "    </tr>\n",
       "    <tr>\n",
       "      <th>2</th>\n",
       "      <td>2</td>\n",
       "      <td>46</td>\n",
       "      <td>Private</td>\n",
       "      <td>149949</td>\n",
       "      <td>Some-college</td>\n",
       "      <td>10</td>\n",
       "      <td>Married-civ-spouse</td>\n",
       "      <td>Craft-repair</td>\n",
       "      <td>Husband</td>\n",
       "      <td>White</td>\n",
       "      <td>Male</td>\n",
       "      <td>0</td>\n",
       "      <td>0</td>\n",
       "      <td>40</td>\n",
       "      <td>United-States</td>\n",
       "      <td>0</td>\n",
       "    </tr>\n",
       "    <tr>\n",
       "      <th>3</th>\n",
       "      <td>3</td>\n",
       "      <td>23</td>\n",
       "      <td>Private</td>\n",
       "      <td>193090</td>\n",
       "      <td>Bachelors</td>\n",
       "      <td>13</td>\n",
       "      <td>Never-married</td>\n",
       "      <td>Adm-clerical</td>\n",
       "      <td>Own-child</td>\n",
       "      <td>White</td>\n",
       "      <td>Female</td>\n",
       "      <td>0</td>\n",
       "      <td>0</td>\n",
       "      <td>30</td>\n",
       "      <td>United-States</td>\n",
       "      <td>0</td>\n",
       "    </tr>\n",
       "    <tr>\n",
       "      <th>4</th>\n",
       "      <td>4</td>\n",
       "      <td>55</td>\n",
       "      <td>Private</td>\n",
       "      <td>60193</td>\n",
       "      <td>HS-grad</td>\n",
       "      <td>9</td>\n",
       "      <td>Divorced</td>\n",
       "      <td>Adm-clerical</td>\n",
       "      <td>Not-in-family</td>\n",
       "      <td>White</td>\n",
       "      <td>Female</td>\n",
       "      <td>0</td>\n",
       "      <td>0</td>\n",
       "      <td>40</td>\n",
       "      <td>United-States</td>\n",
       "      <td>0</td>\n",
       "    </tr>\n",
       "  </tbody>\n",
       "</table>\n",
       "</div>"
      ],
      "text/plain": [
       "   id  age workclass  fnlwgt     education  education.num      marital.status  \\\n",
       "0   0   32   Private  309513    Assoc-acdm             12  Married-civ-spouse   \n",
       "1   1   33   Private  205469  Some-college             10  Married-civ-spouse   \n",
       "2   2   46   Private  149949  Some-college             10  Married-civ-spouse   \n",
       "3   3   23   Private  193090     Bachelors             13       Never-married   \n",
       "4   4   55   Private   60193       HS-grad              9            Divorced   \n",
       "\n",
       "        occupation   relationship   race     sex  capital.gain  capital.loss  \\\n",
       "0     Craft-repair        Husband  White    Male             0             0   \n",
       "1  Exec-managerial        Husband  White    Male             0             0   \n",
       "2     Craft-repair        Husband  White    Male             0             0   \n",
       "3     Adm-clerical      Own-child  White  Female             0             0   \n",
       "4     Adm-clerical  Not-in-family  White  Female             0             0   \n",
       "\n",
       "   hours.per.week native.country  target  \n",
       "0              40  United-States       0  \n",
       "1              40  United-States       1  \n",
       "2              40  United-States       0  \n",
       "3              30  United-States       0  \n",
       "4              40  United-States       0  "
      ]
     },
     "execution_count": 3,
     "metadata": {},
     "output_type": "execute_result"
    }
   ],
   "source": [
    "import pandas as pd  \n",
    "import warnings\n",
    "warnings.simplefilter(action='ignore', category=FutureWarning) # FutureWarning 제거\n",
    "\n",
    "# csv 형식으로 된 데이터 파일을 읽어옵니다.\n",
    "train = pd.read_csv('data/train.csv')\n",
    "\n",
    "train.head()"
   ]
  },
  {
   "cell_type": "code",
   "execution_count": 4,
   "id": "d193dff3-fa2e-4fd6-bdbc-085dc0915a7d",
   "metadata": {},
   "outputs": [
    {
     "data": {
      "text/plain": [
       "(17480, 16)"
      ]
     },
     "execution_count": 4,
     "metadata": {},
     "output_type": "execute_result"
    }
   ],
   "source": [
    "train.shape"
   ]
  },
  {
   "cell_type": "markdown",
   "id": "08b749c9-1f4a-42a1-891b-3815b5daad2f",
   "metadata": {},
   "source": [
    "총 16열과 17480행을 가진 데이터 입니다."
   ]
  },
  {
   "cell_type": "markdown",
   "id": "6882ae27-53fa-4c61-afc6-52398f612e03",
   "metadata": {},
   "source": [
    "## 결측치 확인\n",
    "\n",
    "결측치(NA: Not Available)란 값이 누락된 데이터를 말합니다.\n",
    "\n",
    "보다 정확한 분석을 하기 위해서는 데이터의 결측치를 확인하고 적절히 처리해주어야 합니다.\n",
    "\n",
    "이번 데이터에 결측치가 있나 확인해볼까요?"
   ]
  },
  {
   "cell_type": "code",
   "execution_count": 5,
   "id": "10938304-ec16-4667-a5a9-0118c547c37d",
   "metadata": {},
   "outputs": [
    {
     "name": "stdout",
     "output_type": "stream",
     "text": [
      "결측치가 있는 컬럼은: workclass 입니다\n",
      "해당 컬럼에 총 1836 개의 결측치가 존재합니다.\n",
      "결측치가 있는 컬럼은: occupation 입니다\n",
      "해당 컬럼에 총 1843 개의 결측치가 존재합니다.\n",
      "결측치가 있는 컬럼은: native.country 입니다\n",
      "해당 컬럼에 총 583 개의 결측치가 존재합니다.\n"
     ]
    }
   ],
   "source": [
    "def check_missing_col(dataframe):\n",
    "    missing_col = []\n",
    "    for col in dataframe.columns:\n",
    "        missing_values = sum(dataframe[col].isna())\n",
    "        is_missing = True if missing_values >= 1 else False\n",
    "        if is_missing:\n",
    "            print(f'결측치가 있는 컬럼은: {col} 입니다')\n",
    "            print(f'해당 컬럼에 총 {missing_values} 개의 결측치가 존재합니다.')\n",
    "            missing_col.append([col, dataframe[col].dtype])\n",
    "    if missing_col == []:\n",
    "        print('결측치가 존재하지 않습니다')\n",
    "    return missing_col\n",
    "\n",
    "missing_col = check_missing_col(train)"
   ]
  },
  {
   "cell_type": "markdown",
   "id": "41baeafa-4f01-4041-a868-bbba83874482",
   "metadata": {},
   "source": [
    "결측치가 존재하는군요!\n",
    "\n",
    "결측치 데이터가 범주형인지 수치형인지 unique() 메소드를 통하여 확인하겠습니다."
   ]
  },
  {
   "cell_type": "code",
   "execution_count": 6,
   "id": "026980ef-294b-48f4-9f6a-4b4b57bf2275",
   "metadata": {},
   "outputs": [
    {
     "name": "stdout",
     "output_type": "stream",
     "text": [
      "['Private' 'State-gov' 'Local-gov' 'Self-emp-not-inc' 'Self-emp-inc'\n",
      " 'Federal-gov' 'Without-pay' nan 'Never-worked']\n",
      "['Craft-repair' 'Exec-managerial' 'Adm-clerical' 'Prof-specialty'\n",
      " 'Machine-op-inspct' 'Other-service' 'Sales' 'Farming-fishing'\n",
      " 'Transport-moving' 'Handlers-cleaners' 'Tech-support' 'Protective-serv'\n",
      " 'Priv-house-serv' 'Armed-Forces' nan]\n",
      "['United-States' 'Poland' 'Mexico' 'Ireland' 'Guatemala'\n",
      " 'Dominican-Republic' 'Greece' 'El-Salvador' 'Portugal' 'Canada'\n",
      " 'Philippines' 'India' 'Italy' 'England' 'Jamaica' 'Columbia' 'South'\n",
      " 'Vietnam' 'Cuba' 'Laos' 'Hong' 'Haiti' 'Germany' 'Yugoslavia' 'Ecuador'\n",
      " 'France' 'Puerto-Rico' 'Outlying-US(Guam-USVI-etc)' 'Taiwan' 'China'\n",
      " 'Japan' 'Honduras' 'Peru' 'Nicaragua' 'Hungary' 'Cambodia' 'Iran'\n",
      " 'Trinadad&Tobago' 'Thailand' 'Scotland' 'Holand-Netherlands' nan]\n"
     ]
    }
   ],
   "source": [
    "print(train['workclass'].unique())\n",
    "print(train['occupation'].unique())\n",
    "print(train['native.country'].unique())"
   ]
  },
  {
   "cell_type": "markdown",
   "id": "b44588b7-1692-4767-be8d-75fb184d23c5",
   "metadata": {},
   "source": [
    "모두 데이터 값이 범주형이고\n",
    "\n",
    "결측치들에 대해서 어떤 특별한 패턴은 보이지 않으므로\n",
    "\n",
    "범주형 데이터에 대해서는 행을 삭제해주겠습니다."
   ]
  },
  {
   "cell_type": "code",
   "execution_count": 7,
   "id": "dfda1c3f-71be-4058-9fd3-708d32cc23d4",
   "metadata": {},
   "outputs": [
    {
     "name": "stdout",
     "output_type": "stream",
     "text": [
      "결측치가 존재하지 않습니다\n"
     ]
    }
   ],
   "source": [
    "# 결측치를 처리하는 함수를 작성합니다.\n",
    "def handle_na(data, missing_col):\n",
    "    temp = data.copy()\n",
    "    for col, dtype in missing_col:\n",
    "        if dtype == 'O':\n",
    "            # 범주형 feature가 결측치인 경우 해당 행들을 삭제해 주었습니다.\n",
    "            temp = temp.dropna(subset=[col])\n",
    "    return temp\n",
    "\n",
    "train = handle_na(train, missing_col)\n",
    "\n",
    "# 결측치 처리가 잘 되었는지 확인해 줍니다.\n",
    "missing_col = check_missing_col(train) "
   ]
  },
  {
   "cell_type": "markdown",
   "id": "d0e06295-c020-48ec-aa94-b9018857951f",
   "metadata": {},
   "source": [
    "## 데이터 전처리\n",
    "\n",
    "info() 메소드를 이용하여 데이터의 타입을 보면 상당히 많은 데이터가 범주형인 것을 확인 할 수 있습니다."
   ]
  },
  {
   "cell_type": "code",
   "execution_count": 8,
   "id": "ae294120-fb7f-4566-9a88-bee5efd5c7f8",
   "metadata": {},
   "outputs": [
    {
     "name": "stdout",
     "output_type": "stream",
     "text": [
      "<class 'pandas.core.frame.DataFrame'>\n",
      "Int64Index: 15081 entries, 0 to 15080\n",
      "Data columns (total 16 columns):\n",
      " #   Column          Non-Null Count  Dtype \n",
      "---  ------          --------------  ----- \n",
      " 0   id              15081 non-null  int64 \n",
      " 1   age             15081 non-null  int64 \n",
      " 2   workclass       15081 non-null  object\n",
      " 3   fnlwgt          15081 non-null  int64 \n",
      " 4   education       15081 non-null  object\n",
      " 5   education.num   15081 non-null  int64 \n",
      " 6   marital.status  15081 non-null  object\n",
      " 7   occupation      15081 non-null  object\n",
      " 8   relationship    15081 non-null  object\n",
      " 9   race            15081 non-null  object\n",
      " 10  sex             15081 non-null  object\n",
      " 11  capital.gain    15081 non-null  int64 \n",
      " 12  capital.loss    15081 non-null  int64 \n",
      " 13  hours.per.week  15081 non-null  int64 \n",
      " 14  native.country  15081 non-null  object\n",
      " 15  target          15081 non-null  int64 \n",
      "dtypes: int64(8), object(8)\n",
      "memory usage: 2.0+ MB\n"
     ]
    }
   ],
   "source": [
    "train.info()"
   ]
  },
  {
   "cell_type": "code",
   "execution_count": 9,
   "id": "c6180102-a6e5-41d1-87ed-6a29078a4527",
   "metadata": {},
   "outputs": [
    {
     "data": {
      "text/plain": [
       "0        32\n",
       "1        33\n",
       "2        46\n",
       "3        23\n",
       "4        55\n",
       "         ..\n",
       "15076    35\n",
       "15077    36\n",
       "15078    50\n",
       "15079    39\n",
       "15080    33\n",
       "Name: age, Length: 15081, dtype: int64"
      ]
     },
     "execution_count": 9,
     "metadata": {},
     "output_type": "execute_result"
    }
   ],
   "source": [
    "train.age"
   ]
  },
  {
   "cell_type": "markdown",
   "id": "b1e70784-f841-457f-b455-720ebd9558d5",
   "metadata": {},
   "source": [
    "머신러닝 알고리즘은 문자열 데이터 속성을 입력받지 않으며 모든 데이터는 숫자형으로 표현되어야 합니다.\n",
    "\n",
    "문자열로 구성된 범주형 속성 모두 숫자 값으로 변환/인코딩 하겠습니다.\n",
    "\n",
    "적용할 인코딩 방식은 'Label Encoding' 입니다.\n",
    "\n",
    "Label Encoding이란, 범주형 변수의 문자열을 수치형으로 변환하는 방법 중 하나입니다.\n",
    "\n",
    "Label Encoding을 통해 숫자형으로 표현해보겠습니다."
   ]
  },
  {
   "cell_type": "code",
   "execution_count": 10,
   "id": "42830885-86bf-4e5a-b700-e8b2b65629b6",
   "metadata": {},
   "outputs": [],
   "source": [
    "#라벨인코딩을 하기 위함 dictionary map 생성 함수\n",
    "def make_label_map(dataframe):\n",
    "    label_maps = {}\n",
    "    for col in dataframe.columns:\n",
    "        if dataframe[col].dtype=='object':\n",
    "            label_map = {'unknown':0}\n",
    "            for i, key in enumerate(dataframe[col].unique()):\n",
    "                label_map[key] = i  #새로 등장하는 유니크 값들에 대해 1부터 1씩 증가시켜 키값을 부여해줍니다.\n",
    "            label_maps[col] = label_map\n",
    "    return label_maps\n",
    "\n",
    "# 각 범주형 변수에 인코딩 값을 부여하는 함수\n",
    "def label_encoder(dataframe, label_map):\n",
    "    for col in dataframe.columns:\n",
    "        if dataframe[col].dtype=='object':\n",
    "            dataframe[col] = dataframe[col].map(label_map[col])\n",
    "            #dataframe[col] = dataframe[col].fillna(label_map[col]['unknown']) #혹시 모를 결측값은 unknown의 값(0)으로 채워줍니다.\n",
    "    return dataframe\n",
    "\n",
    "train = label_encoder(train, make_label_map(train))"
   ]
  },
  {
   "cell_type": "markdown",
   "id": "8d791009-6fb9-4349-a45a-a6179e15e212",
   "metadata": {},
   "source": [
    "다음과 같이 Label Encoding을 통해서 Gender에 해당하는 데이터들이 모두 숫자형으로 변환됨을 확인할 수 있습니다.\n",
    "\n"
   ]
  },
  {
   "cell_type": "code",
   "execution_count": 11,
   "id": "c8f83b94-d1db-4904-9f15-e8818eeef544",
   "metadata": {},
   "outputs": [
    {
     "data": {
      "text/plain": [
       "(15081, 16)"
      ]
     },
     "execution_count": 11,
     "metadata": {},
     "output_type": "execute_result"
    }
   ],
   "source": [
    "train.shape"
   ]
  },
  {
   "cell_type": "code",
   "execution_count": 12,
   "id": "75114bad-449d-4e6f-bd07-d5806fafca96",
   "metadata": {},
   "outputs": [
    {
     "data": {
      "text/html": [
       "<div>\n",
       "<style scoped>\n",
       "    .dataframe tbody tr th:only-of-type {\n",
       "        vertical-align: middle;\n",
       "    }\n",
       "\n",
       "    .dataframe tbody tr th {\n",
       "        vertical-align: top;\n",
       "    }\n",
       "\n",
       "    .dataframe thead th {\n",
       "        text-align: right;\n",
       "    }\n",
       "</style>\n",
       "<table border=\"1\" class=\"dataframe\">\n",
       "  <thead>\n",
       "    <tr style=\"text-align: right;\">\n",
       "      <th></th>\n",
       "      <th>id</th>\n",
       "      <th>age</th>\n",
       "      <th>workclass</th>\n",
       "      <th>fnlwgt</th>\n",
       "      <th>education</th>\n",
       "      <th>education.num</th>\n",
       "      <th>marital.status</th>\n",
       "      <th>occupation</th>\n",
       "      <th>relationship</th>\n",
       "      <th>race</th>\n",
       "      <th>sex</th>\n",
       "      <th>capital.gain</th>\n",
       "      <th>capital.loss</th>\n",
       "      <th>hours.per.week</th>\n",
       "      <th>native.country</th>\n",
       "      <th>target</th>\n",
       "    </tr>\n",
       "  </thead>\n",
       "  <tbody>\n",
       "    <tr>\n",
       "      <th>0</th>\n",
       "      <td>0</td>\n",
       "      <td>32</td>\n",
       "      <td>0</td>\n",
       "      <td>309513</td>\n",
       "      <td>0</td>\n",
       "      <td>12</td>\n",
       "      <td>0</td>\n",
       "      <td>0</td>\n",
       "      <td>0</td>\n",
       "      <td>0</td>\n",
       "      <td>0</td>\n",
       "      <td>0</td>\n",
       "      <td>0</td>\n",
       "      <td>40</td>\n",
       "      <td>0</td>\n",
       "      <td>0</td>\n",
       "    </tr>\n",
       "    <tr>\n",
       "      <th>1</th>\n",
       "      <td>1</td>\n",
       "      <td>33</td>\n",
       "      <td>0</td>\n",
       "      <td>205469</td>\n",
       "      <td>1</td>\n",
       "      <td>10</td>\n",
       "      <td>0</td>\n",
       "      <td>1</td>\n",
       "      <td>0</td>\n",
       "      <td>0</td>\n",
       "      <td>0</td>\n",
       "      <td>0</td>\n",
       "      <td>0</td>\n",
       "      <td>40</td>\n",
       "      <td>0</td>\n",
       "      <td>1</td>\n",
       "    </tr>\n",
       "    <tr>\n",
       "      <th>2</th>\n",
       "      <td>2</td>\n",
       "      <td>46</td>\n",
       "      <td>0</td>\n",
       "      <td>149949</td>\n",
       "      <td>1</td>\n",
       "      <td>10</td>\n",
       "      <td>0</td>\n",
       "      <td>0</td>\n",
       "      <td>0</td>\n",
       "      <td>0</td>\n",
       "      <td>0</td>\n",
       "      <td>0</td>\n",
       "      <td>0</td>\n",
       "      <td>40</td>\n",
       "      <td>0</td>\n",
       "      <td>0</td>\n",
       "    </tr>\n",
       "    <tr>\n",
       "      <th>3</th>\n",
       "      <td>3</td>\n",
       "      <td>23</td>\n",
       "      <td>0</td>\n",
       "      <td>193090</td>\n",
       "      <td>2</td>\n",
       "      <td>13</td>\n",
       "      <td>1</td>\n",
       "      <td>2</td>\n",
       "      <td>1</td>\n",
       "      <td>0</td>\n",
       "      <td>1</td>\n",
       "      <td>0</td>\n",
       "      <td>0</td>\n",
       "      <td>30</td>\n",
       "      <td>0</td>\n",
       "      <td>0</td>\n",
       "    </tr>\n",
       "    <tr>\n",
       "      <th>4</th>\n",
       "      <td>4</td>\n",
       "      <td>55</td>\n",
       "      <td>0</td>\n",
       "      <td>60193</td>\n",
       "      <td>3</td>\n",
       "      <td>9</td>\n",
       "      <td>2</td>\n",
       "      <td>2</td>\n",
       "      <td>2</td>\n",
       "      <td>0</td>\n",
       "      <td>1</td>\n",
       "      <td>0</td>\n",
       "      <td>0</td>\n",
       "      <td>40</td>\n",
       "      <td>0</td>\n",
       "      <td>0</td>\n",
       "    </tr>\n",
       "    <tr>\n",
       "      <th>...</th>\n",
       "      <td>...</td>\n",
       "      <td>...</td>\n",
       "      <td>...</td>\n",
       "      <td>...</td>\n",
       "      <td>...</td>\n",
       "      <td>...</td>\n",
       "      <td>...</td>\n",
       "      <td>...</td>\n",
       "      <td>...</td>\n",
       "      <td>...</td>\n",
       "      <td>...</td>\n",
       "      <td>...</td>\n",
       "      <td>...</td>\n",
       "      <td>...</td>\n",
       "      <td>...</td>\n",
       "      <td>...</td>\n",
       "    </tr>\n",
       "    <tr>\n",
       "      <th>15076</th>\n",
       "      <td>15076</td>\n",
       "      <td>35</td>\n",
       "      <td>0</td>\n",
       "      <td>337286</td>\n",
       "      <td>7</td>\n",
       "      <td>14</td>\n",
       "      <td>1</td>\n",
       "      <td>1</td>\n",
       "      <td>2</td>\n",
       "      <td>2</td>\n",
       "      <td>0</td>\n",
       "      <td>0</td>\n",
       "      <td>0</td>\n",
       "      <td>40</td>\n",
       "      <td>0</td>\n",
       "      <td>0</td>\n",
       "    </tr>\n",
       "    <tr>\n",
       "      <th>15077</th>\n",
       "      <td>15077</td>\n",
       "      <td>36</td>\n",
       "      <td>0</td>\n",
       "      <td>182074</td>\n",
       "      <td>1</td>\n",
       "      <td>10</td>\n",
       "      <td>2</td>\n",
       "      <td>2</td>\n",
       "      <td>2</td>\n",
       "      <td>0</td>\n",
       "      <td>0</td>\n",
       "      <td>0</td>\n",
       "      <td>0</td>\n",
       "      <td>45</td>\n",
       "      <td>0</td>\n",
       "      <td>0</td>\n",
       "    </tr>\n",
       "    <tr>\n",
       "      <th>15078</th>\n",
       "      <td>15078</td>\n",
       "      <td>50</td>\n",
       "      <td>4</td>\n",
       "      <td>175070</td>\n",
       "      <td>4</td>\n",
       "      <td>15</td>\n",
       "      <td>0</td>\n",
       "      <td>3</td>\n",
       "      <td>0</td>\n",
       "      <td>0</td>\n",
       "      <td>0</td>\n",
       "      <td>0</td>\n",
       "      <td>0</td>\n",
       "      <td>45</td>\n",
       "      <td>0</td>\n",
       "      <td>1</td>\n",
       "    </tr>\n",
       "    <tr>\n",
       "      <th>15079</th>\n",
       "      <td>15079</td>\n",
       "      <td>39</td>\n",
       "      <td>0</td>\n",
       "      <td>202937</td>\n",
       "      <td>1</td>\n",
       "      <td>10</td>\n",
       "      <td>2</td>\n",
       "      <td>10</td>\n",
       "      <td>2</td>\n",
       "      <td>0</td>\n",
       "      <td>1</td>\n",
       "      <td>0</td>\n",
       "      <td>0</td>\n",
       "      <td>40</td>\n",
       "      <td>1</td>\n",
       "      <td>0</td>\n",
       "    </tr>\n",
       "    <tr>\n",
       "      <th>15080</th>\n",
       "      <td>15080</td>\n",
       "      <td>33</td>\n",
       "      <td>0</td>\n",
       "      <td>96245</td>\n",
       "      <td>0</td>\n",
       "      <td>12</td>\n",
       "      <td>0</td>\n",
       "      <td>3</td>\n",
       "      <td>0</td>\n",
       "      <td>0</td>\n",
       "      <td>0</td>\n",
       "      <td>0</td>\n",
       "      <td>0</td>\n",
       "      <td>50</td>\n",
       "      <td>0</td>\n",
       "      <td>0</td>\n",
       "    </tr>\n",
       "  </tbody>\n",
       "</table>\n",
       "<p>15081 rows × 16 columns</p>\n",
       "</div>"
      ],
      "text/plain": [
       "          id  age  workclass  fnlwgt  education  education.num  \\\n",
       "0          0   32          0  309513          0             12   \n",
       "1          1   33          0  205469          1             10   \n",
       "2          2   46          0  149949          1             10   \n",
       "3          3   23          0  193090          2             13   \n",
       "4          4   55          0   60193          3              9   \n",
       "...      ...  ...        ...     ...        ...            ...   \n",
       "15076  15076   35          0  337286          7             14   \n",
       "15077  15077   36          0  182074          1             10   \n",
       "15078  15078   50          4  175070          4             15   \n",
       "15079  15079   39          0  202937          1             10   \n",
       "15080  15080   33          0   96245          0             12   \n",
       "\n",
       "       marital.status  occupation  relationship  race  sex  capital.gain  \\\n",
       "0                   0           0             0     0    0             0   \n",
       "1                   0           1             0     0    0             0   \n",
       "2                   0           0             0     0    0             0   \n",
       "3                   1           2             1     0    1             0   \n",
       "4                   2           2             2     0    1             0   \n",
       "...               ...         ...           ...   ...  ...           ...   \n",
       "15076               1           1             2     2    0             0   \n",
       "15077               2           2             2     0    0             0   \n",
       "15078               0           3             0     0    0             0   \n",
       "15079               2          10             2     0    1             0   \n",
       "15080               0           3             0     0    0             0   \n",
       "\n",
       "       capital.loss  hours.per.week  native.country  target  \n",
       "0                 0              40               0       0  \n",
       "1                 0              40               0       1  \n",
       "2                 0              40               0       0  \n",
       "3                 0              30               0       0  \n",
       "4                 0              40               0       0  \n",
       "...             ...             ...             ...     ...  \n",
       "15076             0              40               0       0  \n",
       "15077             0              45               0       0  \n",
       "15078             0              45               0       1  \n",
       "15079             0              40               1       0  \n",
       "15080             0              50               0       0  \n",
       "\n",
       "[15081 rows x 16 columns]"
      ]
     },
     "execution_count": 12,
     "metadata": {},
     "output_type": "execute_result"
    }
   ],
   "source": [
    "train"
   ]
  },
  {
   "cell_type": "markdown",
   "id": "53a69b29-3977-4532-b410-838a4658bb81",
   "metadata": {},
   "source": [
    "## 모델 선언과 학습"
   ]
  },
  {
   "cell_type": "markdown",
   "id": "cd9e89c7-dbad-46b8-a3bc-0d67fe732f13",
   "metadata": {},
   "source": [
    "### train.csv 학습/검증셋 분리하기\n",
    "\n",
    "모델링 후 성능을 검증하기 위해 학습셋과 검증셋으로 train 데이터를 나누어 보겠습니다."
   ]
  },
  {
   "cell_type": "code",
   "execution_count": 13,
   "id": "1a2ae335-aee6-435d-b82c-0b8e188c7f82",
   "metadata": {},
   "outputs": [],
   "source": [
    "from sklearn.model_selection import train_test_split\n",
    "\n",
    "data = train.drop('id', axis = 1).copy() #필요없는 id열 삭제\n",
    "train_data, val_data = train_test_split(data, test_size=0.5)\n",
    "train_data.reset_index(inplace=True) #전처리 과정에서 데이터가 뒤섞이지 않도록 인덱스를 초기화\n",
    "val_data.reset_index(inplace=True)"
   ]
  },
  {
   "cell_type": "code",
   "execution_count": 14,
   "id": "166a1962-9e01-46fe-b3c3-d55a78885ac1",
   "metadata": {},
   "outputs": [
    {
     "name": "stdout",
     "output_type": "stream",
     "text": [
      "train 데이터 셋 모양 : (7540, 16)\n",
      "val 데이터 셋 모양 : (7541, 16)\n"
     ]
    }
   ],
   "source": [
    "print( 'train 데이터 셋 모양 :', train_data.shape)\n",
    "print( 'val 데이터 셋 모양 :', val_data.shape)"
   ]
  },
  {
   "cell_type": "markdown",
   "id": "b1a99374-ef77-47f6-845c-4ca447f527e1",
   "metadata": {},
   "source": [
    "train 셋은 11310, val 셋은 3771 데이터로 나뉘어 진 것을 확인할 수 있습니다."
   ]
  },
  {
   "cell_type": "code",
   "execution_count": 15,
   "id": "97ffc3c0-eb41-4346-86cd-7f124d15d636",
   "metadata": {},
   "outputs": [
    {
     "data": {
      "text/html": [
       "<div>\n",
       "<style scoped>\n",
       "    .dataframe tbody tr th:only-of-type {\n",
       "        vertical-align: middle;\n",
       "    }\n",
       "\n",
       "    .dataframe tbody tr th {\n",
       "        vertical-align: top;\n",
       "    }\n",
       "\n",
       "    .dataframe thead th {\n",
       "        text-align: right;\n",
       "    }\n",
       "</style>\n",
       "<table border=\"1\" class=\"dataframe\">\n",
       "  <thead>\n",
       "    <tr style=\"text-align: right;\">\n",
       "      <th></th>\n",
       "      <th>index</th>\n",
       "      <th>age</th>\n",
       "      <th>workclass</th>\n",
       "      <th>fnlwgt</th>\n",
       "      <th>education</th>\n",
       "      <th>education.num</th>\n",
       "      <th>marital.status</th>\n",
       "      <th>occupation</th>\n",
       "      <th>relationship</th>\n",
       "      <th>race</th>\n",
       "      <th>sex</th>\n",
       "      <th>capital.gain</th>\n",
       "      <th>capital.loss</th>\n",
       "      <th>hours.per.week</th>\n",
       "      <th>native.country</th>\n",
       "      <th>target</th>\n",
       "    </tr>\n",
       "  </thead>\n",
       "  <tbody>\n",
       "    <tr>\n",
       "      <th>0</th>\n",
       "      <td>1891</td>\n",
       "      <td>17</td>\n",
       "      <td>0</td>\n",
       "      <td>148522</td>\n",
       "      <td>6</td>\n",
       "      <td>7</td>\n",
       "      <td>1</td>\n",
       "      <td>5</td>\n",
       "      <td>1</td>\n",
       "      <td>0</td>\n",
       "      <td>0</td>\n",
       "      <td>0</td>\n",
       "      <td>1721</td>\n",
       "      <td>15</td>\n",
       "      <td>0</td>\n",
       "      <td>0</td>\n",
       "    </tr>\n",
       "    <tr>\n",
       "      <th>1</th>\n",
       "      <td>2337</td>\n",
       "      <td>64</td>\n",
       "      <td>2</td>\n",
       "      <td>266080</td>\n",
       "      <td>3</td>\n",
       "      <td>9</td>\n",
       "      <td>2</td>\n",
       "      <td>2</td>\n",
       "      <td>2</td>\n",
       "      <td>0</td>\n",
       "      <td>1</td>\n",
       "      <td>0</td>\n",
       "      <td>0</td>\n",
       "      <td>35</td>\n",
       "      <td>0</td>\n",
       "      <td>0</td>\n",
       "    </tr>\n",
       "    <tr>\n",
       "      <th>2</th>\n",
       "      <td>650</td>\n",
       "      <td>45</td>\n",
       "      <td>0</td>\n",
       "      <td>148900</td>\n",
       "      <td>2</td>\n",
       "      <td>13</td>\n",
       "      <td>0</td>\n",
       "      <td>3</td>\n",
       "      <td>0</td>\n",
       "      <td>0</td>\n",
       "      <td>0</td>\n",
       "      <td>0</td>\n",
       "      <td>0</td>\n",
       "      <td>50</td>\n",
       "      <td>0</td>\n",
       "      <td>1</td>\n",
       "    </tr>\n",
       "    <tr>\n",
       "      <th>3</th>\n",
       "      <td>14938</td>\n",
       "      <td>40</td>\n",
       "      <td>0</td>\n",
       "      <td>287008</td>\n",
       "      <td>4</td>\n",
       "      <td>15</td>\n",
       "      <td>0</td>\n",
       "      <td>3</td>\n",
       "      <td>0</td>\n",
       "      <td>0</td>\n",
       "      <td>0</td>\n",
       "      <td>15024</td>\n",
       "      <td>0</td>\n",
       "      <td>55</td>\n",
       "      <td>22</td>\n",
       "      <td>1</td>\n",
       "    </tr>\n",
       "    <tr>\n",
       "      <th>4</th>\n",
       "      <td>11763</td>\n",
       "      <td>32</td>\n",
       "      <td>0</td>\n",
       "      <td>175878</td>\n",
       "      <td>8</td>\n",
       "      <td>4</td>\n",
       "      <td>0</td>\n",
       "      <td>0</td>\n",
       "      <td>0</td>\n",
       "      <td>0</td>\n",
       "      <td>0</td>\n",
       "      <td>0</td>\n",
       "      <td>0</td>\n",
       "      <td>35</td>\n",
       "      <td>0</td>\n",
       "      <td>0</td>\n",
       "    </tr>\n",
       "  </tbody>\n",
       "</table>\n",
       "</div>"
      ],
      "text/plain": [
       "   index  age  workclass  fnlwgt  education  education.num  marital.status  \\\n",
       "0   1891   17          0  148522          6              7               1   \n",
       "1   2337   64          2  266080          3              9               2   \n",
       "2    650   45          0  148900          2             13               0   \n",
       "3  14938   40          0  287008          4             15               0   \n",
       "4  11763   32          0  175878          8              4               0   \n",
       "\n",
       "   occupation  relationship  race  sex  capital.gain  capital.loss  \\\n",
       "0           5             1     0    0             0          1721   \n",
       "1           2             2     0    1             0             0   \n",
       "2           3             0     0    0             0             0   \n",
       "3           3             0     0    0         15024             0   \n",
       "4           0             0     0    0             0             0   \n",
       "\n",
       "   hours.per.week  native.country  target  \n",
       "0              15               0       0  \n",
       "1              35               0       0  \n",
       "2              50               0       1  \n",
       "3              55              22       1  \n",
       "4              35               0       0  "
      ]
     },
     "execution_count": 15,
     "metadata": {},
     "output_type": "execute_result"
    }
   ],
   "source": [
    "train_data.head()"
   ]
  },
  {
   "cell_type": "markdown",
   "id": "d87e00a3-47c2-4f89-8b3a-51abbd1b971b",
   "metadata": {},
   "source": [
    "이제는 모델 학습을 위해 train 데이터와 lable을 분리해보도록 하겠습니다."
   ]
  },
  {
   "cell_type": "code",
   "execution_count": 16,
   "id": "2b53e869-39c7-48d9-8bc5-dc6835fb2a7f",
   "metadata": {},
   "outputs": [],
   "source": [
    "X_train = train_data.drop(['index', 'target'], axis=1) #training 데이터에서 독립변수 추출\n",
    "y_train = train_data.target #training 데이터에서 라벨 추출"
   ]
  },
  {
   "cell_type": "code",
   "execution_count": 17,
   "id": "0b3c09db-dd66-4606-b52f-9e82ecee5638",
   "metadata": {},
   "outputs": [
    {
     "data": {
      "text/plain": [
       "(7540, 14)"
      ]
     },
     "execution_count": 17,
     "metadata": {},
     "output_type": "execute_result"
    }
   ],
   "source": [
    "X_train.shape"
   ]
  },
  {
   "cell_type": "markdown",
   "id": "986b6009-d461-4e6d-9ca1-f0c583ae42f7",
   "metadata": {},
   "source": [
    "### 모델 학습"
   ]
  },
  {
   "cell_type": "markdown",
   "id": "19b1994d-5b73-4dc4-a28b-5b0891085cd8",
   "metadata": {},
   "source": [
    "먼저, 1차로 제공해드린 베이스라인에서는 LogisticRegression 대해서 알아보았습니다. sklearn 패키지에서 제공하는 LogisticRegression 사용했었습니다.\n",
    "\n",
    "이번 베이스라인에서는 대표적인 ML모델의 하나인 RandomForestClassifier 모델을 사용해봅시다.\n",
    "\n",
    "Classifier 모델을 사용하는 이유는, 우리가 이번 대회에서 예측해야할 수입(target)이 분류 변수이기 때문입니다.\n",
    "\n",
    "<br>\n",
    "RandomForest 알고리즘에서 사용되는 의사 결정 트리는 feature 별 가지치기를 통해 데이터를 학습하는 알고리즘입니다.\n",
    "\n",
    "의사 결정 나무에 대한 자세한 개념 설명은 데이콘 [오늘의 파이썬](https://dacon.io/competitions/open/235698/talkboard/403509?page=1&dtype=recent)을 참고해 주세요!\n",
    "\n",
    "의사 결정 나무는 데이터를 쉽게 학습하는 알고리즘이지만 하나의 의사 결정 나무를 사용하는 것은 과적합(overfitting)의 문제를 발생 시킬 수 있습니다.\n",
    "\n",
    "여기서 과적합(overfitting)이란 학습 데이터에 과하게 학습되어 새로운 데이터를 예측하지 못하는 문제를 말합니다.\n",
    "\n",
    "쉽게 말해 우리가 공부를 할때 암기식으로 공부를 하여 새로운 문제를 해결하지 못하는 것 입니다!\n",
    "\n",
    "<br>\n",
    "RandomForest는 여러개의 의사 결정 나무를 활용하여 과적합의 문제를 해결합니다.\n",
    "\n",
    "여러개의 의사 결정 트리를 활용하면 하나의 트리에 대한 의존도가 낮아집니다.\n",
    "\n",
    "이는 하나의 트리가 과적합이 되어도 전체 모델은 과적합의 문제에서 벗어날 수 있음을 의미합니다.\n",
    "\n",
    "sklearn 패키지를 이용하면 직접 RandomForest를 구현하지 않고 모델을 사용할 수 있습니다.\n",
    "\n",
    "이번 베이스라인에서는 sklearn에서 제공하는 RandomForestClassifier 활용해보겠습니다."
   ]
  },
  {
   "cell_type": "code",
   "execution_count": 19,
   "id": "94beeeba-b756-4f61-83db-877985a8eefd",
   "metadata": {},
   "outputs": [
    {
     "data": {
      "text/plain": [
       "RandomForestClassifier()"
      ]
     },
     "execution_count": 19,
     "metadata": {},
     "output_type": "execute_result"
    }
   ],
   "source": [
    "from sklearn.ensemble import RandomForestClassifier\n",
    "\n",
    "model = RandomForestClassifier() # 모델을 객체에 할당\n",
    "model.fit(X_train, y_train) # 모델 학습\n",
    "\n",
    "#pred = model.predict(test)"
   ]
  },
  {
   "cell_type": "markdown",
   "id": "f1aa43ae-afa8-48de-9a10-b510cca4ed1c",
   "metadata": {},
   "source": [
    "### 검증셋으로 모델 성능 검증\n",
    "\n",
    "트레인 셋에서 학습된 모델을   \n",
    "검증 셋을 통해서 얼마나 성능이 나오는지 확인해보도록 하겠습니다."
   ]
  },
  {
   "cell_type": "code",
   "execution_count": 20,
   "id": "d4b21f61-e516-4647-ba2f-c61ae5104735",
   "metadata": {},
   "outputs": [],
   "source": [
    "X_val = val_data.drop(['index', 'target'], axis=1)  #validation 데이터에서 전처리된 문서 추출\n",
    "y_val = val_data.target #validation 데이터에서 라벨 추출"
   ]
  },
  {
   "cell_type": "code",
   "execution_count": 21,
   "id": "c24a0cc5-1579-4560-acfb-c181905a7f2d",
   "metadata": {},
   "outputs": [
    {
     "name": "stdout",
     "output_type": "stream",
     "text": [
      "[0 0 1 ... 1 1 0]\n"
     ]
    }
   ],
   "source": [
    "y_pred = model.predict(X_val)\n",
    "print(y_pred)"
   ]
  },
  {
   "cell_type": "code",
   "execution_count": 126,
   "id": "218315be-06af-4015-938a-092f0fd80ff7",
   "metadata": {},
   "outputs": [
    {
     "name": "stdout",
     "output_type": "stream",
     "text": [
      "RandomForestClassifier 의 예측 정확도는 0.846\n"
     ]
    }
   ],
   "source": [
    "from sklearn import metrics\n",
    "\n",
    "print('RandomForestClassifier 의 예측 정확도는', round(metrics.accuracy_score(y_val, y_pred),3)) # 정확도 확인"
   ]
  },
  {
   "cell_type": "markdown",
   "id": "7a6fd66a-4ba0-424e-af8e-acb8f2f0181e",
   "metadata": {},
   "source": [
    "아무런 튜닝을 하지 않았을 때 예측 정확도가 0.846이 나오네요.   \n",
    "그럼 모델의 성능을 끌어올리기 위하여 랜덤 포레스트의 하이퍼 파라미터에 대해서 논의해보도록 하겠습니다."
   ]
  },
  {
   "cell_type": "markdown",
   "id": "092ae2a6-67d9-4902-af79-a5d92c77f12e",
   "metadata": {},
   "source": [
    "## 랜덤 포레스트 하이퍼 파라미터 튜닝"
   ]
  },
  {
   "cell_type": "markdown",
   "id": "6c66f908-19a4-4f1f-8fc6-d7c3593c9ce3",
   "metadata": {},
   "source": [
    "랜덤 포레스트의 대표적인 하이퍼 파라미터 3개를 살펴보겠습니다. \n",
    "\n",
    "1. max_depth   \n",
    "\n",
    "트리의 깊이로서, 랜덤 포레스트 트리의 루트 노드와 리프 노드 사이의 가장 긴 경로를 설정합니다.   \n",
    "이 매개 변수를 사용하여 임의의 포리스트에있는 모든 트리가 성장할 수있는 깊이를 제한 할 수 있습니다.\n",
    "\n",
    "일반적으로 트리를 너무 깊게 만들면 모델이 아주 복잡해지고 훈련데이터에 Overfitting되므로 적절히 설정해 주는 것이 중요합니다."
   ]
  },
  {
   "cell_type": "code",
   "execution_count": 39,
   "id": "259be675-03f8-40f7-93fe-3cf573a9952b",
   "metadata": {},
   "outputs": [
    {
     "name": "stdout",
     "output_type": "stream",
     "text": [
      "RF max_depth = 1 의 예측 정확도는 0.746\n",
      "RF max_depth = 10 의 예측 정확도는 0.85\n"
     ]
    }
   ],
   "source": [
    "from sklearn.ensemble import RandomForestClassifier\n",
    "\n",
    "model_md1 = RandomForestClassifier(max_depth = 1) # 모델을 객체에 할당\n",
    "model_md10 = RandomForestClassifier(max_depth = 10)\n",
    "\n",
    "model_md1.fit(X_train, y_train) # 모델 학습\n",
    "model_md10.fit(X_train, y_train) \n",
    "\n",
    "pred_md1 = model_md1.predict(X_val)\n",
    "pred_md10 = model_md10.predict(X_val)\n",
    "\n",
    "print('RF max_depth = 1 의 예측 정확도는', round(metrics.accuracy_score(y_val, pred_md1),3)) # 정확도 확인\n",
    "print('RF max_depth = 10 의 예측 정확도는', round(metrics.accuracy_score(y_val, pred_md10),3)) # 정확도 확인"
   ]
  },
  {
   "cell_type": "markdown",
   "id": "5133cf43-1fe4-441d-923c-e707f532b0a8",
   "metadata": {},
   "source": [
    "2. n_estimators\n",
    "\n",
    "\n",
    "\n",
    "랜덤 포레스트에서 결정 트리의 개수를 지정합니다.    \n",
    "많이 설정할 수록 좋은 성능을 기대할 수 있지만, 계속 증가시킨다고 무조건 향상되는것은 아닙니다.   \n",
    "또한 적을경우 과소적합이지만 증가에 따른 학습 수행시간 역시 오래걸리게 됩니다."
   ]
  },
  {
   "cell_type": "code",
   "execution_count": 40,
   "id": "da36c3c5-0d2b-43c6-a712-603c8afedc83",
   "metadata": {},
   "outputs": [
    {
     "name": "stdout",
     "output_type": "stream",
     "text": [
      "RF n_estimators = 1 의 예측 정확도는 0.794\n",
      "RF n_estimators = 200 의 예측 정확도는 0.85\n"
     ]
    }
   ],
   "source": [
    "from sklearn.ensemble import RandomForestClassifier\n",
    "\n",
    "model_ne1 = RandomForestClassifier(n_estimators = 1) # 모델을 객체에 할당\n",
    "model_ne200 = RandomForestClassifier(n_estimators = 200)\n",
    "\n",
    "model_ne1.fit(X_train, y_train) # 모델 학습\n",
    "model_ne200.fit(X_train, y_train) \n",
    "\n",
    "pred_ne1 = model_ne1.predict(X_val)\n",
    "pred_ne200 = model_ne200.predict(X_val)\n",
    "\n",
    "print('RF n_estimators = 1 의 예측 정확도는', round(metrics.accuracy_score(y_val, pred_ne1),3)) # 정확도 확인\n",
    "print('RF n_estimators = 200 의 예측 정확도는', round(metrics.accuracy_score(y_val, pred_ne200),3)) # 정확도 확인"
   ]
  },
  {
   "cell_type": "markdown",
   "id": "04be1d95-91bb-44a0-bac0-1875f4d66011",
   "metadata": {},
   "source": [
    "3. max_features\n",
    "\n",
    "전체에서 선택할 피처 개수 입니다.  \n",
    "n_estimators는 클수록 트리의 깊이가 깊어지지만 max_features는 작을수록 트리가 깊어진다고 볼 수 있습니다."
   ]
  },
  {
   "cell_type": "code",
   "execution_count": 147,
   "id": "f3a4c712-fa21-437d-99d4-8c6057314b87",
   "metadata": {},
   "outputs": [
    {
     "name": "stdout",
     "output_type": "stream",
     "text": [
      "RF n_estimators = 1 의 예측 정확도는 0.842\n",
      "RF n_estimators = 3 의 예측 정확도는 0.847\n"
     ]
    }
   ],
   "source": [
    "from sklearn.ensemble import RandomForestClassifier\n",
    "\n",
    "model_mf1 = RandomForestClassifier(max_features = 1) # 모델을 객체에 할당\n",
    "model_mf3 = RandomForestClassifier(max_features = 3)\n",
    "\n",
    "model_mf1.fit(X_train, y_train) # 모델 학습\n",
    "model_mf3.fit(X_train, y_train) \n",
    "\n",
    "pred_mf1 = model_mf1.predict(X_val)\n",
    "pred_mf3 = model_mf3.predict(X_val)\n",
    "\n",
    "print('RF n_estimators = 1 의 예측 정확도는', round(metrics.accuracy_score(y_val, pred_mf1),3)) # 정확도 확인\n",
    "print('RF n_estimators = 3 의 예측 정확도는', round(metrics.accuracy_score(y_val, pred_mf3),3)) # 정확도 확인"
   ]
  },
  {
   "cell_type": "markdown",
   "id": "bbddb84b-80de-4385-86ce-df4ae36598d4",
   "metadata": {},
   "source": [
    "이렇게 하이퍼 파라미터를 비교하여 예측 정확도가 얼마나 차이가 나는지 확인 해 보았습니다.   \n",
    "이제 적절히 하이퍼파리미터를 조절하여 최종 모델을 생성하여 예측 정확도를 도출해보겠습니다."
   ]
  },
  {
   "cell_type": "code",
   "execution_count": 316,
   "id": "83e5c063-d9c9-46dd-8238-ca5684190424",
   "metadata": {},
   "outputs": [
    {
     "name": "stdout",
     "output_type": "stream",
     "text": [
      "[0 0 0 ... 0 0 0]\n",
      "Tuned RandomForestClassifier 의 예측 정확도는 0.86\n"
     ]
    }
   ],
   "source": [
    "model_2 = RandomForestClassifier(max_depth = 10, n_estimators = 200, max_features = 3) # 최종 모델\n",
    "model_2.fit(X_train, y_train) \n",
    "y_pred_2 = model_2.predict(X_val)\n",
    "print(y_pred_2)\n",
    "print('Tuned RandomForestClassifier 의 예측 정확도는', round(metrics.accuracy_score(y_val, y_pred_2),3)) # 정확도 확인"
   ]
  },
  {
   "cell_type": "markdown",
   "id": "8148ccd7-3bbb-443e-888a-cfc47e245fd9",
   "metadata": {},
   "source": [
    "최종 모델의 예측 정확도는 0.86이 나왔습니다.   \n",
    "처음 튜닝하지 않은 모델 0.846에 비하여 정확도가 상승한 것을 확인해 볼 수 있습니다.\n",
    "\n",
    "여러분들도 적절히 하이퍼 파라미터를 잘 튜닝하여 모델의 성능을 높여보세요 !"
   ]
  },
  {
   "cell_type": "markdown",
   "id": "4c88fb8a-ee23-4a6f-9324-a0425a16a9c9",
   "metadata": {},
   "source": [
    "## test.csv 분류하기\n",
    "\n",
    "이제 본격적으로 대회에서 주어진 정답이 없는 test 데이터의 라벨을 예측해보겠습니다.\n",
    "\n",
    "전처리 모델 학습 단계에서 test 데이터를 사용하면 data leakage로 간주되니\n",
    "\n",
    "test.csv는 반드시 모델 학습이 끝난 뒤 예측시에만 등장해야 함에 주의해주세요!\n",
    "\n",
    "train.csv를 이용한 전처리/학습을 test.cvs에 적용하는 것은 허용되지만, test.csv를 전처리/모델링에 직접적으로 이용하면 실격입니다."
   ]
  },
  {
   "cell_type": "markdown",
   "id": "5fd9d225-1817-4fab-bfc4-adc283d44d52",
   "metadata": {},
   "source": [
    "동일한 전처리 과정을 거치되, data leakage가 발생하지 않도록 주의합니다."
   ]
  },
  {
   "cell_type": "code",
   "execution_count": 25,
   "id": "0dcc6430-07e3-44aa-80fa-97f005e21424",
   "metadata": {},
   "outputs": [
    {
     "data": {
      "text/html": [
       "<div>\n",
       "<style scoped>\n",
       "    .dataframe tbody tr th:only-of-type {\n",
       "        vertical-align: middle;\n",
       "    }\n",
       "\n",
       "    .dataframe tbody tr th {\n",
       "        vertical-align: top;\n",
       "    }\n",
       "\n",
       "    .dataframe thead th {\n",
       "        text-align: right;\n",
       "    }\n",
       "</style>\n",
       "<table border=\"1\" class=\"dataframe\">\n",
       "  <thead>\n",
       "    <tr style=\"text-align: right;\">\n",
       "      <th></th>\n",
       "      <th>age</th>\n",
       "      <th>workclass</th>\n",
       "      <th>fnlwgt</th>\n",
       "      <th>education</th>\n",
       "      <th>education.num</th>\n",
       "      <th>marital.status</th>\n",
       "      <th>occupation</th>\n",
       "      <th>relationship</th>\n",
       "      <th>race</th>\n",
       "      <th>sex</th>\n",
       "      <th>capital.gain</th>\n",
       "      <th>capital.loss</th>\n",
       "      <th>hours.per.week</th>\n",
       "      <th>native.country</th>\n",
       "    </tr>\n",
       "  </thead>\n",
       "  <tbody>\n",
       "    <tr>\n",
       "      <th>0</th>\n",
       "      <td>47</td>\n",
       "      <td>0</td>\n",
       "      <td>304133</td>\n",
       "      <td>0</td>\n",
       "      <td>10</td>\n",
       "      <td>0</td>\n",
       "      <td>0</td>\n",
       "      <td>0</td>\n",
       "      <td>0</td>\n",
       "      <td>0</td>\n",
       "      <td>0</td>\n",
       "      <td>0</td>\n",
       "      <td>45</td>\n",
       "      <td>0</td>\n",
       "    </tr>\n",
       "    <tr>\n",
       "      <th>1</th>\n",
       "      <td>34</td>\n",
       "      <td>1</td>\n",
       "      <td>154227</td>\n",
       "      <td>0</td>\n",
       "      <td>10</td>\n",
       "      <td>1</td>\n",
       "      <td>1</td>\n",
       "      <td>1</td>\n",
       "      <td>0</td>\n",
       "      <td>0</td>\n",
       "      <td>0</td>\n",
       "      <td>0</td>\n",
       "      <td>75</td>\n",
       "      <td>0</td>\n",
       "    </tr>\n",
       "    <tr>\n",
       "      <th>2</th>\n",
       "      <td>31</td>\n",
       "      <td>2</td>\n",
       "      <td>158291</td>\n",
       "      <td>1</td>\n",
       "      <td>13</td>\n",
       "      <td>1</td>\n",
       "      <td>2</td>\n",
       "      <td>1</td>\n",
       "      <td>0</td>\n",
       "      <td>0</td>\n",
       "      <td>8614</td>\n",
       "      <td>0</td>\n",
       "      <td>40</td>\n",
       "      <td>0</td>\n",
       "    </tr>\n",
       "    <tr>\n",
       "      <th>3</th>\n",
       "      <td>28</td>\n",
       "      <td>0</td>\n",
       "      <td>183155</td>\n",
       "      <td>1</td>\n",
       "      <td>13</td>\n",
       "      <td>0</td>\n",
       "      <td>3</td>\n",
       "      <td>0</td>\n",
       "      <td>0</td>\n",
       "      <td>0</td>\n",
       "      <td>0</td>\n",
       "      <td>0</td>\n",
       "      <td>55</td>\n",
       "      <td>0</td>\n",
       "    </tr>\n",
       "    <tr>\n",
       "      <th>4</th>\n",
       "      <td>54</td>\n",
       "      <td>2</td>\n",
       "      <td>182543</td>\n",
       "      <td>0</td>\n",
       "      <td>10</td>\n",
       "      <td>2</td>\n",
       "      <td>4</td>\n",
       "      <td>2</td>\n",
       "      <td>0</td>\n",
       "      <td>1</td>\n",
       "      <td>0</td>\n",
       "      <td>0</td>\n",
       "      <td>40</td>\n",
       "      <td>1</td>\n",
       "    </tr>\n",
       "  </tbody>\n",
       "</table>\n",
       "</div>"
      ],
      "text/plain": [
       "   age  workclass  fnlwgt  education  education.num  marital.status  \\\n",
       "0   47          0  304133          0             10               0   \n",
       "1   34          1  154227          0             10               1   \n",
       "2   31          2  158291          1             13               1   \n",
       "3   28          0  183155          1             13               0   \n",
       "4   54          2  182543          0             10               2   \n",
       "\n",
       "   occupation  relationship  race  sex  capital.gain  capital.loss  \\\n",
       "0           0             0     0    0             0             0   \n",
       "1           1             1     0    0             0             0   \n",
       "2           2             1     0    0          8614             0   \n",
       "3           3             0     0    0             0             0   \n",
       "4           4             2     0    1             0             0   \n",
       "\n",
       "   hours.per.week  native.country  \n",
       "0              45               0  \n",
       "1              75               0  \n",
       "2              40               0  \n",
       "3              55               0  \n",
       "4              40               1  "
      ]
     },
     "execution_count": 25,
     "metadata": {},
     "output_type": "execute_result"
    }
   ],
   "source": [
    "test = pd.read_csv('data/test.csv')\n",
    "test = label_encoder(test, make_label_map(test))\n",
    "test = test.drop('id', axis=1)\n",
    "test.head()"
   ]
  },
  {
   "cell_type": "markdown",
   "id": "c756702b-411e-4603-b7bd-b1b671296d05",
   "metadata": {},
   "source": [
    "트레인 셋과 검증 셋으로 나누어 성능을 확인해 준 것을 전체 train 데이터 셋을 이용하기 위하여\n",
    "\n",
    "하나의 트레인 셋으로 통합해 다시 모델을 만들어주겠습니다."
   ]
  },
  {
   "cell_type": "code",
   "execution_count": 26,
   "id": "e024224f-1cc6-4b9a-af18-89a969a14128",
   "metadata": {},
   "outputs": [],
   "source": [
    "X_train= data.drop(['target'], axis=1) #전체 training 데이터에서 독립변수 추출\n",
    "y_train = data.target #전체 training 데이터에서 라벨 추출"
   ]
  },
  {
   "cell_type": "markdown",
   "id": "4e300289-aba6-4656-aa11-e972f229d523",
   "metadata": {},
   "source": [
    "앞서 튜닝한 하이퍼파라미터를 적용하여 모델을 생성합니다."
   ]
  },
  {
   "cell_type": "code",
   "execution_count": 27,
   "id": "0c365ab7-7fab-4a0c-bf9e-75706c294eec",
   "metadata": {},
   "outputs": [],
   "source": [
    "model = RandomForestClassifier(max_depth = 10, n_estimators = 200, max_features = 3) #앞서 튜닝한 하이퍼 파라미터 max_depth, n_estimators, max_features\n",
    "model.fit(X_train, y_train) \n",
    "y_pred = model.predict(test)"
   ]
  },
  {
   "cell_type": "markdown",
   "id": "b3e42142-b175-40cd-99b8-02df5de12e35",
   "metadata": {},
   "source": [
    "## dacon 대회에 제출하기\n",
    "\n",
    "이제 예측한 결과를 submission.csv 파일로 만들어서 대회 페이지에 제출해보도록 합시다.\n",
    "\n",
    "제출한 뒤 리더보드를 통해 결과를 확인합시다."
   ]
  },
  {
   "cell_type": "code",
   "execution_count": 28,
   "id": "e1aaf971-27f6-43e5-a3e2-b52a0afb9d24",
   "metadata": {},
   "outputs": [
    {
     "data": {
      "text/html": [
       "<div>\n",
       "<style scoped>\n",
       "    .dataframe tbody tr th:only-of-type {\n",
       "        vertical-align: middle;\n",
       "    }\n",
       "\n",
       "    .dataframe tbody tr th {\n",
       "        vertical-align: top;\n",
       "    }\n",
       "\n",
       "    .dataframe thead th {\n",
       "        text-align: right;\n",
       "    }\n",
       "</style>\n",
       "<table border=\"1\" class=\"dataframe\">\n",
       "  <thead>\n",
       "    <tr style=\"text-align: right;\">\n",
       "      <th></th>\n",
       "      <th>id</th>\n",
       "      <th>target</th>\n",
       "    </tr>\n",
       "  </thead>\n",
       "  <tbody>\n",
       "    <tr>\n",
       "      <th>0</th>\n",
       "      <td>0</td>\n",
       "      <td>0</td>\n",
       "    </tr>\n",
       "    <tr>\n",
       "      <th>1</th>\n",
       "      <td>1</td>\n",
       "      <td>0</td>\n",
       "    </tr>\n",
       "    <tr>\n",
       "      <th>2</th>\n",
       "      <td>2</td>\n",
       "      <td>0</td>\n",
       "    </tr>\n",
       "    <tr>\n",
       "      <th>3</th>\n",
       "      <td>3</td>\n",
       "      <td>0</td>\n",
       "    </tr>\n",
       "    <tr>\n",
       "      <th>4</th>\n",
       "      <td>4</td>\n",
       "      <td>0</td>\n",
       "    </tr>\n",
       "  </tbody>\n",
       "</table>\n",
       "</div>"
      ],
      "text/plain": [
       "   id  target\n",
       "0   0       0\n",
       "1   1       0\n",
       "2   2       0\n",
       "3   3       0\n",
       "4   4       0"
      ]
     },
     "execution_count": 28,
     "metadata": {},
     "output_type": "execute_result"
    }
   ],
   "source": [
    "# 제출용 Sample 파일을 불러옵니다\n",
    "submission = pd.read_csv('data/sample_submission.csv')\n",
    "submission.head()"
   ]
  },
  {
   "cell_type": "code",
   "execution_count": 29,
   "id": "1ea39d27-d32d-4c3a-8486-9e845d69dd6f",
   "metadata": {},
   "outputs": [
    {
     "data": {
      "text/html": [
       "<div>\n",
       "<style scoped>\n",
       "    .dataframe tbody tr th:only-of-type {\n",
       "        vertical-align: middle;\n",
       "    }\n",
       "\n",
       "    .dataframe tbody tr th {\n",
       "        vertical-align: top;\n",
       "    }\n",
       "\n",
       "    .dataframe thead th {\n",
       "        text-align: right;\n",
       "    }\n",
       "</style>\n",
       "<table border=\"1\" class=\"dataframe\">\n",
       "  <thead>\n",
       "    <tr style=\"text-align: right;\">\n",
       "      <th></th>\n",
       "      <th>id</th>\n",
       "      <th>target</th>\n",
       "    </tr>\n",
       "  </thead>\n",
       "  <tbody>\n",
       "    <tr>\n",
       "      <th>0</th>\n",
       "      <td>0</td>\n",
       "      <td>0</td>\n",
       "    </tr>\n",
       "    <tr>\n",
       "      <th>1</th>\n",
       "      <td>1</td>\n",
       "      <td>0</td>\n",
       "    </tr>\n",
       "    <tr>\n",
       "      <th>2</th>\n",
       "      <td>2</td>\n",
       "      <td>1</td>\n",
       "    </tr>\n",
       "    <tr>\n",
       "      <th>3</th>\n",
       "      <td>3</td>\n",
       "      <td>1</td>\n",
       "    </tr>\n",
       "    <tr>\n",
       "      <th>4</th>\n",
       "      <td>4</td>\n",
       "      <td>0</td>\n",
       "    </tr>\n",
       "    <tr>\n",
       "      <th>...</th>\n",
       "      <td>...</td>\n",
       "      <td>...</td>\n",
       "    </tr>\n",
       "    <tr>\n",
       "      <th>15076</th>\n",
       "      <td>15076</td>\n",
       "      <td>1</td>\n",
       "    </tr>\n",
       "    <tr>\n",
       "      <th>15077</th>\n",
       "      <td>15077</td>\n",
       "      <td>1</td>\n",
       "    </tr>\n",
       "    <tr>\n",
       "      <th>15078</th>\n",
       "      <td>15078</td>\n",
       "      <td>0</td>\n",
       "    </tr>\n",
       "    <tr>\n",
       "      <th>15079</th>\n",
       "      <td>15079</td>\n",
       "      <td>0</td>\n",
       "    </tr>\n",
       "    <tr>\n",
       "      <th>15080</th>\n",
       "      <td>15080</td>\n",
       "      <td>0</td>\n",
       "    </tr>\n",
       "  </tbody>\n",
       "</table>\n",
       "<p>15081 rows × 2 columns</p>\n",
       "</div>"
      ],
      "text/plain": [
       "          id  target\n",
       "0          0       0\n",
       "1          1       0\n",
       "2          2       1\n",
       "3          3       1\n",
       "4          4       0\n",
       "...      ...     ...\n",
       "15076  15076       1\n",
       "15077  15077       1\n",
       "15078  15078       0\n",
       "15079  15079       0\n",
       "15080  15080       0\n",
       "\n",
       "[15081 rows x 2 columns]"
      ]
     },
     "execution_count": 29,
     "metadata": {},
     "output_type": "execute_result"
    }
   ],
   "source": [
    "submission['target'] = y_pred\n",
    "\n",
    "# 데이터가 잘 들어갔는지 확인합니다\n",
    "submission"
   ]
  },
  {
   "cell_type": "markdown",
   "id": "8ce55eed-6dbe-4616-974c-3824f3526257",
   "metadata": {},
   "source": [
    "submission을 csv 파일로 저장합니다.   \n",
    "index=False란 추가적인 id를 부여할 필요가 없다는 뜻입니다.   \n",
    "정확한 채점을 위해 꼭 index=False를 넣어주세요.   "
   ]
  },
  {
   "cell_type": "code",
   "execution_count": 30,
   "id": "06c479c2-b3ef-46fb-b331-2cbcef600650",
   "metadata": {},
   "outputs": [],
   "source": [
    "submission.to_csv('submit_2.csv', index=False)"
   ]
  },
  {
   "cell_type": "markdown",
   "id": "ce48ee98-1e3d-4c6a-aa67-afc71554cea8",
   "metadata": {
    "tags": []
   },
   "source": [
    "이렇게 생성된 submission.csv 파일을 데이콘 대회 페이지에 업로드 & 제출하여 결과를 확인해보세요!\n",
    "\n",
    "문제를 해결하기 위한 여러분의 방법을 코드 공유 게시판에 공유해주세요\n",
    "\n",
    "좋아요와 댓글을 합산하여 가장 높은 점수를 얻으신 분께 데이콘 후드가 제공됩니다!"
   ]
  }
 ],
 "metadata": {
  "kernelspec": {
   "display_name": "world",
   "language": "python",
   "name": "world"
  },
  "language_info": {
   "codemirror_mode": {
    "name": "ipython",
    "version": 3
   },
   "file_extension": ".py",
   "mimetype": "text/x-python",
   "name": "python",
   "nbconvert_exporter": "python",
   "pygments_lexer": "ipython3",
   "version": "3.8.13"
  }
 },
 "nbformat": 4,
 "nbformat_minor": 5
}
