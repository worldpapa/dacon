{
 "cells": [
  {
   "cell_type": "markdown",
   "id": "cf44ea9b-b548-4776-bb26-fb82eab43c6b",
   "metadata": {},
   "source": [
    "# 음성 분류 경진대회 첫 번째 베이스라인\n",
    "\n",
    "이번 대회는 음성 데이터를 이용하여 0~9까지 숫자를 분류하는 대회입니다.\n",
    "\n",
    "처음 음성 데이터를 접하시는 분들에게는 어디부터 어떻게 시작해야 하는지 막막하실 겁니다.\n",
    "\n",
    "### 누구나 할 수 있는 데이터 분석\n",
    "딥러닝, 머신러닝, 모델, 학습, 회귀분석 .... 다 몰라도 괜찮습니다!\n",
    "\n",
    "누구나 할 수 있는 방식으로 간단하게 데이터 분석 & 예측을 진행해보겠습니다.\n"
   ]
  },
  {
   "cell_type": "markdown",
   "id": "39251ff0-d035-4132-8316-924404478607",
   "metadata": {},
   "source": [
    "# 분석 환경 준비\n",
    "\n",
    "* 오디오 전처리를 위한 라이브러리"
   ]
  },
  {
   "cell_type": "code",
   "execution_count": 1,
   "id": "454af237-faf3-4c40-8737-82c700207d7a",
   "metadata": {},
   "outputs": [],
   "source": [
    "import librosa\n",
    "import librosa.display as dsp\n",
    "from IPython.display import Audio"
   ]
  },
  {
   "cell_type": "markdown",
   "id": "bb30b331-3d78-447f-9f2a-60d4330389d9",
   "metadata": {},
   "source": [
    "* 데이터 전처리를 위한 라이브러리"
   ]
  },
  {
   "cell_type": "code",
   "execution_count": 2,
   "id": "c9ce686b-30ac-4cba-9767-6130a83e3192",
   "metadata": {},
   "outputs": [],
   "source": [
    "import pandas as pd\n",
    "import numpy as np\n",
    "import os\n",
    "from tqdm import tqdm"
   ]
  },
  {
   "cell_type": "markdown",
   "id": "f535ece1-a8f2-42f7-80bc-50285f82580f",
   "metadata": {},
   "source": [
    "* 모델의 재현성을 위하여 random seed 고정"
   ]
  },
  {
   "cell_type": "code",
   "execution_count": 3,
   "id": "0003e811-1794-4cbc-9118-233b55d3eb88",
   "metadata": {},
   "outputs": [],
   "source": [
    "import random\n",
    "\n",
    "def seed_everything(seed):\n",
    "    random.seed(seed)\n",
    "    os.environ['PYTHONHASHSEED'] = str(seed)\n",
    "    np.random.seed(seed)\n",
    "\n",
    "seed_everything(929)"
   ]
  },
  {
   "cell_type": "markdown",
   "id": "3b294163-1bf9-4ea9-8583-c28fb1a917e0",
   "metadata": {},
   "source": [
    "# 데이터 불러오기\n",
    "분석하려는 데이터를 가져오는 작업\n",
    "\n",
    "먼저 csv 파일을 불러와서 label이 어떻게 되어있는지 살펴보겠습니다."
   ]
  },
  {
   "cell_type": "code",
   "execution_count": 4,
   "id": "80da7ea6-5485-4751-9a0f-0a3aa49db46f",
   "metadata": {},
   "outputs": [
    {
     "data": {
      "text/html": [
       "<div>\n",
       "<style scoped>\n",
       "    .dataframe tbody tr th:only-of-type {\n",
       "        vertical-align: middle;\n",
       "    }\n",
       "\n",
       "    .dataframe tbody tr th {\n",
       "        vertical-align: top;\n",
       "    }\n",
       "\n",
       "    .dataframe thead th {\n",
       "        text-align: right;\n",
       "    }\n",
       "</style>\n",
       "<table border=\"1\" class=\"dataframe\">\n",
       "  <thead>\n",
       "    <tr style=\"text-align: right;\">\n",
       "      <th></th>\n",
       "      <th>file_name</th>\n",
       "      <th>label</th>\n",
       "    </tr>\n",
       "  </thead>\n",
       "  <tbody>\n",
       "    <tr>\n",
       "      <th>0</th>\n",
       "      <td>001.wav</td>\n",
       "      <td>9</td>\n",
       "    </tr>\n",
       "    <tr>\n",
       "      <th>1</th>\n",
       "      <td>002.wav</td>\n",
       "      <td>0</td>\n",
       "    </tr>\n",
       "    <tr>\n",
       "      <th>2</th>\n",
       "      <td>004.wav</td>\n",
       "      <td>1</td>\n",
       "    </tr>\n",
       "    <tr>\n",
       "      <th>3</th>\n",
       "      <td>005.wav</td>\n",
       "      <td>8</td>\n",
       "    </tr>\n",
       "    <tr>\n",
       "      <th>4</th>\n",
       "      <td>006.wav</td>\n",
       "      <td>0</td>\n",
       "    </tr>\n",
       "  </tbody>\n",
       "</table>\n",
       "</div>"
      ],
      "text/plain": [
       "  file_name  label\n",
       "0   001.wav      9\n",
       "1   002.wav      0\n",
       "2   004.wav      1\n",
       "3   005.wav      8\n",
       "4   006.wav      0"
      ]
     },
     "execution_count": 4,
     "metadata": {},
     "output_type": "execute_result"
    }
   ],
   "source": [
    "import pandas as pd\n",
    "train = pd.read_csv('data/train.csv')\n",
    "train.head()"
   ]
  },
  {
   "cell_type": "code",
   "execution_count": 5,
   "id": "3911c324-ec7f-4baa-a146-091afc7068a4",
   "metadata": {},
   "outputs": [
    {
     "name": "stdout",
     "output_type": "stream",
     "text": [
      "<class 'pandas.core.frame.DataFrame'>\n",
      "RangeIndex: 400 entries, 0 to 399\n",
      "Data columns (total 2 columns):\n",
      " #   Column     Non-Null Count  Dtype \n",
      "---  ------     --------------  ----- \n",
      " 0   file_name  400 non-null    object\n",
      " 1   label      400 non-null    int64 \n",
      "dtypes: int64(1), object(1)\n",
      "memory usage: 6.4+ KB\n"
     ]
    }
   ],
   "source": [
    "train.info()"
   ]
  },
  {
   "cell_type": "markdown",
   "id": "e666e0a4-3be9-4085-94c7-337693e9aa5a",
   "metadata": {},
   "source": [
    "label이 int 타입으로 되어있는 것을 확인할 수 있습니다."
   ]
  },
  {
   "cell_type": "markdown",
   "id": "4b67d235-5764-4dcc-b6e2-6c6f531fa8a0",
   "metadata": {},
   "source": [
    "# 데이터 전처리"
   ]
  },
  {
   "cell_type": "markdown",
   "id": "69e06326-6dd8-4747-a3a0-ae4866b7aa12",
   "metadata": {},
   "source": [
    "## 음성 데이터 Load\n",
    "\n",
    "그럼 이제 음성데이터를 한번 살펴봅시다.\n",
    "\n",
    "소리는 기본적으로 특정 주파수를 가지는 sin함수들의 합입니다.\n",
    "\n",
    "특정 시간에 주파수 성분이 어떻게 구성되어 있는지 확인할 수 있는데요. \n",
    "\n",
    "음성 데이터 분석을 할 때 주파수 분석 기법을 많이 사용합니다. (파형 자체를 이용하기도 합니다!) \n",
    "\n",
    "주파수 분석은 크게 3단계로 이루어지는데, 이번 포스팅에서는 그 중에서도\n",
    "\n",
    "\n",
    "음성 데이터를 학습하기 위해서는 아날로그 데이터로 되어있는 음성 데이터를 디지털 신호로 변환해야 합니다. \n",
    "\n",
    "따라서 librosa 라이브러리를 사용해 음성 데이터를 load 를 해봅시다.\n",
    "\n",
    "우선 예시로 train 음성 데이터의 첫번째 데이터를 load 해보겠습니다."
   ]
  },
  {
   "cell_type": "code",
   "execution_count": 6,
   "id": "92cebad7-75ec-43d0-9ec8-6d2b30490a56",
   "metadata": {},
   "outputs": [
    {
     "name": "stdout",
     "output_type": "stream",
     "text": [
      "sample_rate: 16000 , audio shape: (10192,)\n",
      "length: 0.637 secs\n"
     ]
    }
   ],
   "source": [
    "data, sample_rate = librosa.load('data/train/001.wav', sr = 16000)\n",
    "print('sample_rate:', sample_rate, ', audio shape:', data.shape)\n",
    "print('length:', data.shape[0]/float(sample_rate), 'secs')"
   ]
  },
  {
   "cell_type": "markdown",
   "id": "a09f0276-9163-4b83-9953-3f33e03acba8",
   "metadata": {},
   "source": [
    "sampling rate의 의미는 초당 16000개(16000Hz 주파수)의 샘플을 가지고 있는 데이터라는 의미입니다. (1초에 음성 신호를 16000번 sampling) \n",
    "\n",
    "sampling rate의 defult값은 22050Hz인데, 16000Hz으로 설정한 이유는 사람의 목소리는 대부분 16000Hz 안에 포함된다고 합니다.\n",
    "\n",
    "또한 audio shape와 sampling rate를 이용해서 오디오 길이 계산을 할 수 있습니다.\n",
    "\n",
    "계산 결과, 길이는 0.637 secs 가 되는군요!\n",
    "\n",
    "그럼 디지털 신호와 라벨을 포함한 train_wav 데이터프레임을 생성하겠습니다."
   ]
  },
  {
   "cell_type": "code",
   "execution_count": 7,
   "id": "1d99f6c0-688d-4634-a74b-490ffa362ecc",
   "metadata": {},
   "outputs": [],
   "source": [
    "def train_dataset():\n",
    "    folder = \"data/train/\"\n",
    "    dataset = []\n",
    "    for file in tqdm(os.listdir(folder),colour='green'):\n",
    "        if 'wav' in file:\n",
    "            abs_file_path = os.path.join(folder,file)\n",
    "            data, sr = librosa.load(abs_file_path, sr = 16000)\n",
    "            class_label = int(train[train.file_name == file].label)\n",
    "            dataset.append([data,class_label])\n",
    "    \n",
    "    print(\"Dataset 생성 완료\")\n",
    "    return pd.DataFrame(dataset,columns=['data','label'])"
   ]
  },
  {
   "cell_type": "code",
   "execution_count": 8,
   "id": "01d13881-d15c-4b51-b002-249b7a2a49e5",
   "metadata": {},
   "outputs": [
    {
     "name": "stderr",
     "output_type": "stream",
     "text": [
      "100%|\u001b[32m██████████\u001b[0m| 401/401 [00:12<00:00, 31.46it/s]"
     ]
    },
    {
     "name": "stdout",
     "output_type": "stream",
     "text": [
      "Dataset 생성 완료\n"
     ]
    },
    {
     "name": "stderr",
     "output_type": "stream",
     "text": [
      "\n"
     ]
    }
   ],
   "source": [
    "train_wav = train_dataset()"
   ]
  },
  {
   "cell_type": "code",
   "execution_count": 9,
   "id": "c78894a0-b2bd-4c00-8205-5e43d18b4080",
   "metadata": {},
   "outputs": [
    {
     "data": {
      "text/html": [
       "<div>\n",
       "<style scoped>\n",
       "    .dataframe tbody tr th:only-of-type {\n",
       "        vertical-align: middle;\n",
       "    }\n",
       "\n",
       "    .dataframe tbody tr th {\n",
       "        vertical-align: top;\n",
       "    }\n",
       "\n",
       "    .dataframe thead th {\n",
       "        text-align: right;\n",
       "    }\n",
       "</style>\n",
       "<table border=\"1\" class=\"dataframe\">\n",
       "  <thead>\n",
       "    <tr style=\"text-align: right;\">\n",
       "      <th></th>\n",
       "      <th>data</th>\n",
       "      <th>label</th>\n",
       "    </tr>\n",
       "  </thead>\n",
       "  <tbody>\n",
       "    <tr>\n",
       "      <th>0</th>\n",
       "      <td>[0.00029359042, 0.0004896918, 0.0004225315, 0....</td>\n",
       "      <td>0</td>\n",
       "    </tr>\n",
       "    <tr>\n",
       "      <th>1</th>\n",
       "      <td>[0.00021014328, 0.0003359131, 0.00028251947, 0...</td>\n",
       "      <td>1</td>\n",
       "    </tr>\n",
       "    <tr>\n",
       "      <th>2</th>\n",
       "      <td>[-5.409059e-05, -0.00013994443, -0.00013878023...</td>\n",
       "      <td>2</td>\n",
       "    </tr>\n",
       "    <tr>\n",
       "      <th>3</th>\n",
       "      <td>[-1.7762668e-05, -5.3217824e-05, -1.977646e-05...</td>\n",
       "      <td>4</td>\n",
       "    </tr>\n",
       "    <tr>\n",
       "      <th>4</th>\n",
       "      <td>[-9.07404e-05, -0.00016544455, -0.00015305405,...</td>\n",
       "      <td>6</td>\n",
       "    </tr>\n",
       "  </tbody>\n",
       "</table>\n",
       "</div>"
      ],
      "text/plain": [
       "                                                data  label\n",
       "0  [0.00029359042, 0.0004896918, 0.0004225315, 0....      0\n",
       "1  [0.00021014328, 0.0003359131, 0.00028251947, 0...      1\n",
       "2  [-5.409059e-05, -0.00013994443, -0.00013878023...      2\n",
       "3  [-1.7762668e-05, -5.3217824e-05, -1.977646e-05...      4\n",
       "4  [-9.07404e-05, -0.00016544455, -0.00015305405,...      6"
      ]
     },
     "execution_count": 9,
     "metadata": {},
     "output_type": "execute_result"
    }
   ],
   "source": [
    "train_wav.head()"
   ]
  },
  {
   "cell_type": "markdown",
   "id": "bae4e48d-a81e-4bd9-ac7e-41371a25e577",
   "metadata": {},
   "source": [
    "## 음성 데이터 특징 추출\n",
    "\n",
    "음성 데이터를 load 했으면 이 음성 데이터의 특징을 추출해야 합니다.\n",
    "\n",
    "음성 raw data를 그대로 사용하면 파라미터가 너무 많아지기도 하고 데이터 용량이 너무 커집니다.\n",
    "\n",
    "따라서 입력된 신호에서 노이즈 및 배경 소리로 부터 실제로 유용한 소리의 특징을 추출하는 것이죠.\n",
    "\n",
    "\n",
    "### 퓨리에 변환\n",
    "\n",
    "음성 데이터를 분석하기 위하여 주파수(frequency)를 성분을 뽑아내야 한다면 퓨리에 변환(Fourier Transform)을 해야 합니다.\n",
    "\n",
    "퓨리에 변환은 간단히 설명하자면 **'입력 신호를 다양한 주파수를 가지는 주기함수들로 분해하는 것'** 입니다.\n",
    "\n",
    "주기함수들을 분해함으로써 음성 데이터에서 노이즈 및 배경 소리로 부터 실제로 유용한 소리의 데이터, 즉 특징을 추출하는 것 입니다.\n"
   ]
  },
  {
   "cell_type": "markdown",
   "id": "5d0e7062-bc03-4f07-965b-768771422304",
   "metadata": {},
   "source": [
    "\n",
    "### MFCC (Mel-frequency cepstral coefficients)\n",
    "\n",
    "\n",
    "하지만 음성데이터 전체를 퓨리에 변환을 한다면,\n",
    "\n",
    "예를들어 \"안녕하세요\"라고 하더라도, 어떤 사람은 1초, 어떤 사람은 3초가 걸릴 수도 있습니다.\n",
    "\n",
    "따라서 이 천차만별인 길이에 대하여 같은 \"안녕하세요\"라는 음성이라고 학습시키기는 어려울 것입니다.\n",
    "\n",
    "위와 같은 문제를 해결하기 위하여 MFCC (Mel-frequency cepstral coefficients) 알고리즘을 이용합니다.\n",
    "\n",
    "MFCC는 음성데이터를 특징벡터화 해주는 알고리즘입니다.\n",
    "\n",
    "입력된 소리 전체를 대상으로 하는 것이 아니라, \n",
    "\n",
    "사람이 인지하기 좋은 **Mel-scale로 음성데이터를 모두 20~40ms로 나누어** 이 구간에 대한 스펙트럼을 분석하여 \n",
    "\n",
    "**퓨리에 변환**을 한 특징 추출 방법입니다.\n",
    "\n",
    "사람의 음성은 20~40ms 사이에서는 음소(현재 내고 있는 발음)가 바뀔 수 없다는 연구결과들을 기반으로 \n",
    "\n",
    "음소는 해당 시간내에 바뀔 수 없다고 가정합니다.\n",
    "\n",
    "따라서 MFCC에서는 음성데이터를 모두 20~40ms 단위로 쪼개고, \n",
    "\n",
    "쪼갠 단위에 대해서 Mel 값을 뽑아서 Feature로 사용합니다.\n",
    "\n",
    "파이썬에서는 librosa.feature.mfcc(wav) 메소드 이용하여 \n",
    "\n",
    "손쉽게 MFCC 알고리즘을 이용합니다.\n",
    "\n",
    "\n",
    "#### **Mel-scale**\n",
    "\n",
    "**Mel은 사람의 달팽이관을 모티브로 따온 값**입니다.\n",
    "\n",
    "달팽이관은 주파수가 낮은 대역에서는 변화하는 주파수를 잘 감지하는데, \n",
    "\n",
    "주파수가 높은 대역에서는 주파수 감지를 잘 하지 못합니다. (주파수 간격이 넓어짐)\n",
    "\n",
    "이러한 원리를 이용해서 filter, scaling 해줄 수 있는데, 이때 이 기준을 Mel-Scale 이라고 합니다.\n",
    "\n",
    "\n",
    "#### Argument \n",
    "\n",
    "* y : audio data\n",
    "   \n",
    "*  sr : sampling rate\n",
    "   \n",
    "* n_mfcc :  return 될 mfcc의 개수를 정해주는 파라미터. 더 다양한 데이터 특징을 추출하기 위해서 증가 시킵니다.\n",
    "   \n",
    "* n_fft : frame의 length를 결정하는 파라미터. n_fft를 설정하면 window size가 디폴트 값으로 n_fft가 됩니다.        \n",
    "\n",
    "    사람의 목소리는 대부분 16000Hz 안에 포함이 되는데, 일반적으로 자연어 처리에서는 음성을 25m의 크기를 기본으로 하고 있습니다.        \n",
    "    \n",
    "    (ex. 16000Hz인 음성에서는 25m의 음성의 크기를 가지고 있으면 n_fft는 16000 * 0.025 = 400 (sampling rate * frame_length = n_fft)가 됩니다.)\n",
    "        \n",
    "* hop_length : 윈도우 길이를 나타냅니다. 길이만큼 옆으로 가면서 데이터를 읽습니다.\n",
    "\n",
    "    hop_length도 마찬가지로 window 간의 거리이므로 sampling rate * frame_stride 가 됩니다."
   ]
  },
  {
   "cell_type": "code",
   "execution_count": 10,
   "id": "1f096c25-4ac3-4b44-92cb-e0644875eddf",
   "metadata": {},
   "outputs": [],
   "source": [
    "def extract_features(file):\n",
    "    audio, sample_rate = librosa.load(file, sr = 16000)\n",
    "    extracted_features = librosa.feature.mfcc(y=audio,\n",
    "                                              sr=sample_rate,\n",
    "                                              n_mfcc=40)\n",
    "\n",
    "    extracted_features = np.mean(extracted_features.T,axis=0)\n",
    "    return extracted_features"
   ]
  },
  {
   "cell_type": "code",
   "execution_count": 11,
   "id": "9f8d4cf4-a8c6-45cf-a98c-3363650936be",
   "metadata": {},
   "outputs": [
    {
     "data": {
      "text/plain": [
       "array([-5.4309741e+02,  1.0221236e+02, -1.0131239e+01,  4.5035259e+01,\n",
       "        7.5383821e+00,  1.1087791e+01, -1.2066618e+01, -6.1290884e+00,\n",
       "       -2.0615113e+00,  4.3403912e+00, -7.9769449e+00, -2.3532255e+00,\n",
       "       -9.4535418e+00,  1.3950575e+01, -1.2931410e+01, -3.1012371e+00,\n",
       "       -3.1802003e+00, -2.2292783e+00, -6.0094471e+00, -5.1039085e+00,\n",
       "       -1.4015083e+01,  3.1813147e+00, -6.9873381e+00,  5.3114867e-01,\n",
       "       -4.3120513e+00,  1.0081086e+00, -1.4859858e+00,  4.2523170e+00,\n",
       "        2.5631633e+00,  2.8835654e+00,  2.3709497e+00,  1.5794464e+00,\n",
       "       -3.6886792e+00, -4.3605208e-02, -1.4032007e+00, -4.1899872e+00,\n",
       "       -5.2867079e+00, -8.9757144e-01, -3.1176820e+00, -3.4578696e-01],\n",
       "      dtype=float32)"
      ]
     },
     "execution_count": 11,
     "metadata": {},
     "output_type": "execute_result"
    }
   ],
   "source": [
    "extract_features('data/train/001.wav') "
   ]
  },
  {
   "cell_type": "markdown",
   "id": "ba8988e6-2cff-4f0d-b053-f82a5572cd1f",
   "metadata": {},
   "source": [
    "그럼 train 셋 데이터 전체를 MFCC 알고리즘을 이용하여 특징을 추출하겠습니다."
   ]
  },
  {
   "cell_type": "code",
   "execution_count": 12,
   "id": "ee695d9f-ee8c-4038-901a-76df349994b9",
   "metadata": {},
   "outputs": [],
   "source": [
    "def preprocess_train_dataset(data):\n",
    "    mfccs = []\n",
    "    for i in data:\n",
    "        extracted_features = librosa.feature.mfcc(y=i,\n",
    "                                              sr=16000,\n",
    "                                              n_mfcc=40)\n",
    "        extracted_features = np.mean(extracted_features.T,axis=0)\n",
    "        mfccs.append(extracted_features)\n",
    "            \n",
    "    return mfccs\n",
    "\n",
    "mfccs = preprocess_train_dataset(train_wav.data)\n",
    "mfccs = np.array(mfccs)"
   ]
  },
  {
   "cell_type": "code",
   "execution_count": 13,
   "id": "3dfef09a-266f-4a08-8617-9309f512b52d",
   "metadata": {},
   "outputs": [
    {
     "data": {
      "text/plain": [
       "array([[-6.03562805e+02,  1.00078056e+02,  3.29141903e+00, ...,\n",
       "         4.53813457e+00, -1.95242643e-01,  7.79115379e-01],\n",
       "       [-6.49387817e+02,  1.50144684e+02,  1.44454021e+01, ...,\n",
       "         3.35813475e+00,  7.45637059e-01,  1.56931162e+00],\n",
       "       [-6.09140564e+02,  1.14499817e+02,  2.11241226e+01, ...,\n",
       "         6.78267717e-01, -1.52308869e+00,  3.69100571e-01],\n",
       "       ...,\n",
       "       [-5.89701050e+02,  1.23524132e+02, -7.10499859e+00, ...,\n",
       "         7.91468954e+00,  3.60656190e+00,  3.15482616e+00],\n",
       "       [-5.69479797e+02,  7.28337784e+01, -9.92106438e+00, ...,\n",
       "         1.79753666e+01,  1.67299080e+01,  1.12663355e+01],\n",
       "       [-5.67246521e+02,  1.89183009e+00,  5.29523735e+01, ...,\n",
       "         6.42307711e+00,  1.74153101e+00,  6.90778399e+00]], dtype=float32)"
      ]
     },
     "execution_count": 13,
     "metadata": {},
     "output_type": "execute_result"
    }
   ],
   "source": [
    "mfccs"
   ]
  },
  {
   "cell_type": "markdown",
   "id": "f968083c-8d81-4530-bfac-762e8d31cbf8",
   "metadata": {},
   "source": [
    "## 변수 및 모델 정의\n",
    "\n",
    "이제 본격적으로 모델을 설계하기 위해 데이터를 독립변수(X)와 종속변수(y) 로 나누어 줍니다.\n",
    "\n",
    "우리의 목적은 주어진 음성 특징 데이터를 이용하여 라벨을 분류하는 것입니다.\n",
    "\n",
    "그럼 음성 특징 데이터가 X, 라벨이 y가 되겠죠?\n",
    "\n",
    "또한 모델을 만들기 앞서 내가 만들 모델이 유의미한지 알아야 좋은 결론을 도출 할 수 있겠죠?   \n",
    "\n",
    "<br> \n",
    "\n",
    "하지만 단순히 주어진 데이터로 train셋 데이터를 학습시켜서 목표값인 test 셋에 집어 넣어 예측값을 도출하면,   \n",
    "모델이 적합한지 알 방법이 없습니다.   \n",
    "\n",
    "<br> \n",
    "\n",
    "따라서 train 셋에서 60%를 학습을 시키는데 쓰고, 나머지 40%를 모델이 유의미한지 검증하는데 사용할 것입니다.   \n",
    "이후 유의미하다면, 실제로 제출할 모델을 만들 때, train 셋 100%를 학습을 시키면 되겠죠?\n",
    "\n",
    "<br>\n",
    "\n",
    "자 그럼 train 셋에서 학습시킬 셋 train_data와 검증할 셋 val_data를 만들어 봅시다!"
   ]
  },
  {
   "cell_type": "code",
   "execution_count": 14,
   "id": "dcc2688e-ba44-4793-98e4-7e1901af8d67",
   "metadata": {},
   "outputs": [],
   "source": [
    "from sklearn.model_selection import train_test_split\n",
    "\n",
    "train_X, test_X, train_y, test_y = train_test_split(mfccs, train_wav.label, test_size=0.4)"
   ]
  },
  {
   "cell_type": "code",
   "execution_count": 15,
   "id": "baa47e1a-3335-4dff-aadd-6b09ae0d7b9a",
   "metadata": {},
   "outputs": [
    {
     "name": "stdout",
     "output_type": "stream",
     "text": [
      "학습시킬 train 셋 :  (240, 40) (240,)\n",
      "검증할 val 셋 :  (160, 40) (160,)\n"
     ]
    }
   ],
   "source": [
    "print('학습시킬 train 셋 : ', train_X.shape, train_y.shape)\n",
    "print('검증할 val 셋 : ', test_X.shape, test_y.shape)"
   ]
  },
  {
   "cell_type": "markdown",
   "id": "8bfac22b-0eae-41d1-b897-6789ccde45e7",
   "metadata": {},
   "source": [
    "위의 데이터 모양을 보면, 240개의 데이터를 학습시켜 160개의 데이터로 성능을 검증시킬 것 입니다!"
   ]
  },
  {
   "cell_type": "markdown",
   "id": "5cd4ab36-5d42-45d2-9bab-75c7f3f4017f",
   "metadata": {},
   "source": [
    "## 랜덤 포레스트 모델 학습\n",
    "\n",
    "대표적인 ML모델의 하나인 RandomForestClassifier 모델을 사용해봅시다.\n",
    "\n",
    "Classifier 모델을 사용하는 이유는, 우리가 이번 대회에서 예측해야할 0~9 라벨이 분류 변수이기 때문입니다.\n",
    "\n",
    "RandomForest 알고리즘에서 사용되는 의사 결정 트리는 feature 별 가지치기를 통해 데이터를 학습하는 알고리즘입니다.\n",
    "\n",
    "의사 결정 나무에 대한 자세한 개념 설명은 데이콘 [오늘의 파이썬](https://dacon.io/competitions/open/235698/talkboard/403509?page=1&dtype=recent)을 참고해 주세요!\n",
    "\n",
    "의사 결정 나무는 데이터를 쉽게 학습하는 알고리즘이지만 하나의 의사 결정 나무ㅌ를 사용하는 것은 과적합(overfitting)의 문제를 발생 시킬 수 있습니다.\n",
    "\n",
    "여기서 과적합(overfitting)이란 학습 데이터에 과하게 학습되어 새로운 데이터를 예측하지 못하는 문제를 말합니다.\n",
    "\n",
    "쉽게 말해 우리가 공부를 할때 암기식으로 공부를 하여 새로운 문제를 해결하지 못하는 것 입니다!\n",
    "\n",
    "RandomForest는 여러개의 의사 결정 나무를 활용하여 과적합의 문제를 해결합니다.\n",
    "\n",
    "여러개의 의사 결정 트리를 활용하면 하나의 트리에 대한 의존도가 낮아집니다.\n",
    "\n",
    "이는 하나의 트리가 과적합이 되어도 전체 모델은 과적합의 문제에서 벗어날 수 있음을 의미합니다.\n",
    "\n",
    "sklearn 패키지를 이용하면 직접 RandomForest를 구현하지 않고 모델을 사용할 수 있습니다.\n",
    "\n",
    "이번 베이스라인에서는 sklearn에서 제공하는 RandomForestClassifier 활용해보겠습니다."
   ]
  },
  {
   "cell_type": "code",
   "execution_count": 16,
   "id": "4368e3d9-fcb4-4076-873a-c66ccdbf7ad2",
   "metadata": {},
   "outputs": [
    {
     "data": {
      "text/html": [
       "<style>#sk-container-id-1 {color: black;background-color: white;}#sk-container-id-1 pre{padding: 0;}#sk-container-id-1 div.sk-toggleable {background-color: white;}#sk-container-id-1 label.sk-toggleable__label {cursor: pointer;display: block;width: 100%;margin-bottom: 0;padding: 0.3em;box-sizing: border-box;text-align: center;}#sk-container-id-1 label.sk-toggleable__label-arrow:before {content: \"▸\";float: left;margin-right: 0.25em;color: #696969;}#sk-container-id-1 label.sk-toggleable__label-arrow:hover:before {color: black;}#sk-container-id-1 div.sk-estimator:hover label.sk-toggleable__label-arrow:before {color: black;}#sk-container-id-1 div.sk-toggleable__content {max-height: 0;max-width: 0;overflow: hidden;text-align: left;background-color: #f0f8ff;}#sk-container-id-1 div.sk-toggleable__content pre {margin: 0.2em;color: black;border-radius: 0.25em;background-color: #f0f8ff;}#sk-container-id-1 input.sk-toggleable__control:checked~div.sk-toggleable__content {max-height: 200px;max-width: 100%;overflow: auto;}#sk-container-id-1 input.sk-toggleable__control:checked~label.sk-toggleable__label-arrow:before {content: \"▾\";}#sk-container-id-1 div.sk-estimator input.sk-toggleable__control:checked~label.sk-toggleable__label {background-color: #d4ebff;}#sk-container-id-1 div.sk-label input.sk-toggleable__control:checked~label.sk-toggleable__label {background-color: #d4ebff;}#sk-container-id-1 input.sk-hidden--visually {border: 0;clip: rect(1px 1px 1px 1px);clip: rect(1px, 1px, 1px, 1px);height: 1px;margin: -1px;overflow: hidden;padding: 0;position: absolute;width: 1px;}#sk-container-id-1 div.sk-estimator {font-family: monospace;background-color: #f0f8ff;border: 1px dotted black;border-radius: 0.25em;box-sizing: border-box;margin-bottom: 0.5em;}#sk-container-id-1 div.sk-estimator:hover {background-color: #d4ebff;}#sk-container-id-1 div.sk-parallel-item::after {content: \"\";width: 100%;border-bottom: 1px solid gray;flex-grow: 1;}#sk-container-id-1 div.sk-label:hover label.sk-toggleable__label {background-color: #d4ebff;}#sk-container-id-1 div.sk-serial::before {content: \"\";position: absolute;border-left: 1px solid gray;box-sizing: border-box;top: 0;bottom: 0;left: 50%;z-index: 0;}#sk-container-id-1 div.sk-serial {display: flex;flex-direction: column;align-items: center;background-color: white;padding-right: 0.2em;padding-left: 0.2em;position: relative;}#sk-container-id-1 div.sk-item {position: relative;z-index: 1;}#sk-container-id-1 div.sk-parallel {display: flex;align-items: stretch;justify-content: center;background-color: white;position: relative;}#sk-container-id-1 div.sk-item::before, #sk-container-id-1 div.sk-parallel-item::before {content: \"\";position: absolute;border-left: 1px solid gray;box-sizing: border-box;top: 0;bottom: 0;left: 50%;z-index: -1;}#sk-container-id-1 div.sk-parallel-item {display: flex;flex-direction: column;z-index: 1;position: relative;background-color: white;}#sk-container-id-1 div.sk-parallel-item:first-child::after {align-self: flex-end;width: 50%;}#sk-container-id-1 div.sk-parallel-item:last-child::after {align-self: flex-start;width: 50%;}#sk-container-id-1 div.sk-parallel-item:only-child::after {width: 0;}#sk-container-id-1 div.sk-dashed-wrapped {border: 1px dashed gray;margin: 0 0.4em 0.5em 0.4em;box-sizing: border-box;padding-bottom: 0.4em;background-color: white;}#sk-container-id-1 div.sk-label label {font-family: monospace;font-weight: bold;display: inline-block;line-height: 1.2em;}#sk-container-id-1 div.sk-label-container {text-align: center;}#sk-container-id-1 div.sk-container {/* jupyter's `normalize.less` sets `[hidden] { display: none; }` but bootstrap.min.css set `[hidden] { display: none !important; }` so we also need the `!important` here to be able to override the default hidden behavior on the sphinx rendered scikit-learn.org. See: https://github.com/scikit-learn/scikit-learn/issues/21755 */display: inline-block !important;position: relative;}#sk-container-id-1 div.sk-text-repr-fallback {display: none;}</style><div id=\"sk-container-id-1\" class=\"sk-top-container\"><div class=\"sk-text-repr-fallback\"><pre>RandomForestClassifier()</pre><b>In a Jupyter environment, please rerun this cell to show the HTML representation or trust the notebook. <br />On GitHub, the HTML representation is unable to render, please try loading this page with nbviewer.org.</b></div><div class=\"sk-container\" hidden><div class=\"sk-item\"><div class=\"sk-estimator sk-toggleable\"><input class=\"sk-toggleable__control sk-hidden--visually\" id=\"sk-estimator-id-1\" type=\"checkbox\" checked><label for=\"sk-estimator-id-1\" class=\"sk-toggleable__label sk-toggleable__label-arrow\">RandomForestClassifier</label><div class=\"sk-toggleable__content\"><pre>RandomForestClassifier()</pre></div></div></div></div></div>"
      ],
      "text/plain": [
       "RandomForestClassifier()"
      ]
     },
     "execution_count": 16,
     "metadata": {},
     "output_type": "execute_result"
    }
   ],
   "source": [
    "from sklearn.ensemble import RandomForestClassifier\n",
    "\n",
    "# 모델 선언\n",
    "model = RandomForestClassifier()\n",
    "\n",
    "# 모델 학습\n",
    "model.fit(train_X, train_y)"
   ]
  },
  {
   "cell_type": "markdown",
   "id": "e82b0331-12f5-4b75-9088-7c2fc8a5124c",
   "metadata": {},
   "source": [
    "## 모델 성능 확인\n",
    "\n",
    "굉장히 간단하게 학습이 끝났습니다.\n",
    "\n",
    "이제 이 모델이 실제로 데이터를 얼마나 잘 맞추는지 확인해볼까요?"
   ]
  },
  {
   "cell_type": "code",
   "execution_count": 17,
   "id": "d271ed1d-ab7c-4399-b831-6731c31b5360",
   "metadata": {},
   "outputs": [],
   "source": [
    "# 먼저 점수를 메기는 방법인 평가 지표(Metric)를 정의합니다.\n",
    "import numpy as np\n",
    "\n",
    "def ACCURACY(true, pred):   \n",
    "    score = np.mean(true==pred)\n",
    "    return score"
   ]
  },
  {
   "cell_type": "code",
   "execution_count": 18,
   "id": "f6f31c12-3c73-426e-9741-08d9380153e9",
   "metadata": {},
   "outputs": [
    {
     "name": "stdout",
     "output_type": "stream",
     "text": [
      "모델의 정확도는 63.75% 입니다\n"
     ]
    }
   ],
   "source": [
    "# 모델의 예측과 실제 정답값을 비교합니다.\n",
    "prediction = model.predict(test_X)\n",
    "\n",
    "score = ACCURACY(test_y, prediction)\n",
    "\n",
    "print(f\"모델의 정확도는 {score*100:.2f}% 입니다\")"
   ]
  },
  {
   "cell_type": "markdown",
   "id": "d9862240-9b92-4894-9301-f754e4bcd41a",
   "metadata": {},
   "source": [
    "## test.csv 분류하기\n",
    "\n",
    "이제 본격적으로 대회에서 주어진 정답이 없는 test 데이터의 라벨을 예측해보겠습니다.\n",
    "\n",
    "전처리 모델 학습 단계에서 test 데이터를 사용하면 data leakage로 간주되니\n",
    "\n",
    "test.csv는 반드시 모델 학습이 끝난 뒤 예측시에만 등장해야 함에 주의해주세요!\n",
    "\n",
    "train.csv를 이용한 전처리/학습을 test.cvs에 적용하는 것은 허용되지만, test.csv를 전처리/모델링에 직접적으로 이용하면 실격입니다."
   ]
  },
  {
   "cell_type": "code",
   "execution_count": 19,
   "id": "81635d1c-0e32-4b80-a2ce-2fa88bbc7860",
   "metadata": {},
   "outputs": [
    {
     "data": {
      "text/html": [
       "<div>\n",
       "<style scoped>\n",
       "    .dataframe tbody tr th:only-of-type {\n",
       "        vertical-align: middle;\n",
       "    }\n",
       "\n",
       "    .dataframe tbody tr th {\n",
       "        vertical-align: top;\n",
       "    }\n",
       "\n",
       "    .dataframe thead th {\n",
       "        text-align: right;\n",
       "    }\n",
       "</style>\n",
       "<table border=\"1\" class=\"dataframe\">\n",
       "  <thead>\n",
       "    <tr style=\"text-align: right;\">\n",
       "      <th></th>\n",
       "      <th>file_name</th>\n",
       "    </tr>\n",
       "  </thead>\n",
       "  <tbody>\n",
       "    <tr>\n",
       "      <th>0</th>\n",
       "      <td>003.wav</td>\n",
       "    </tr>\n",
       "    <tr>\n",
       "      <th>1</th>\n",
       "      <td>008.wav</td>\n",
       "    </tr>\n",
       "    <tr>\n",
       "      <th>2</th>\n",
       "      <td>010.wav</td>\n",
       "    </tr>\n",
       "    <tr>\n",
       "      <th>3</th>\n",
       "      <td>015.wav</td>\n",
       "    </tr>\n",
       "    <tr>\n",
       "      <th>4</th>\n",
       "      <td>024.wav</td>\n",
       "    </tr>\n",
       "  </tbody>\n",
       "</table>\n",
       "</div>"
      ],
      "text/plain": [
       "  file_name\n",
       "0   003.wav\n",
       "1   008.wav\n",
       "2   010.wav\n",
       "3   015.wav\n",
       "4   024.wav"
      ]
     },
     "execution_count": 19,
     "metadata": {},
     "output_type": "execute_result"
    }
   ],
   "source": [
    "test = pd.read_csv('data/test.csv')\n",
    "test.head()"
   ]
  },
  {
   "cell_type": "code",
   "execution_count": 20,
   "id": "449fae22-d1e7-4d83-8800-9765cd782b4c",
   "metadata": {},
   "outputs": [],
   "source": [
    "def test_dataset():\n",
    "    folder = \"data/test/\"\n",
    "    dataset = []\n",
    "    for file in tqdm(os.listdir(folder),colour='green'):\n",
    "        if 'wav' in file:\n",
    "            abs_file_path = os.path.join(folder,file)\n",
    "            data, sr = librosa.load(abs_file_path, sr = 16000)\n",
    "            dataset.append([data, file])\n",
    "    \n",
    "    print(\"Dataset 생성 완료\")\n",
    "    return pd.DataFrame(dataset,columns=['data', 'file_name'])"
   ]
  },
  {
   "cell_type": "code",
   "execution_count": 21,
   "id": "326e1a52-4368-4d60-bbd6-f094425ce6e1",
   "metadata": {},
   "outputs": [
    {
     "name": "stderr",
     "output_type": "stream",
     "text": [
      "100%|\u001b[32m██████████\u001b[0m| 200/200 [00:05<00:00, 33.76it/s]"
     ]
    },
    {
     "name": "stdout",
     "output_type": "stream",
     "text": [
      "Dataset 생성 완료\n"
     ]
    },
    {
     "name": "stderr",
     "output_type": "stream",
     "text": [
      "\n"
     ]
    }
   ],
   "source": [
    "test_wav = test_dataset()"
   ]
  },
  {
   "cell_type": "code",
   "execution_count": 22,
   "id": "7c32d85c-02a9-42a7-8508-f3ed45e357ff",
   "metadata": {},
   "outputs": [],
   "source": [
    "mfccs_2 = preprocess_train_dataset(test_wav.data)\n",
    "mfccs_2 = np.array(mfccs_2)"
   ]
  },
  {
   "cell_type": "markdown",
   "id": "cf1ef467-109c-492c-938a-c07c283a77e7",
   "metadata": {},
   "source": [
    "트레인 셋과 검증 셋으로 나누어 성능을 확인해 준 것을 하나의 트레인 셋으로 통합하여\n",
    "\n",
    "다시 모델을 만들어주겠습니다."
   ]
  },
  {
   "cell_type": "code",
   "execution_count": 23,
   "id": "ab2247b1-111f-4bb4-9a3a-0e09ef637d35",
   "metadata": {},
   "outputs": [],
   "source": [
    "# 모델 선언\n",
    "model = RandomForestClassifier()\n",
    "\n",
    "# 모델 학습\n",
    "model.fit(mfccs, train_wav.label)\n",
    "\n",
    "# 모델 예측\n",
    "prediction = model.predict(mfccs_2)\n",
    "\n",
    "test_wav['label'] = prediction"
   ]
  },
  {
   "cell_type": "code",
   "execution_count": 24,
   "id": "620bb7ed-579a-4311-b62b-f367453d1bdb",
   "metadata": {},
   "outputs": [
    {
     "data": {
      "text/html": [
       "<div>\n",
       "<style scoped>\n",
       "    .dataframe tbody tr th:only-of-type {\n",
       "        vertical-align: middle;\n",
       "    }\n",
       "\n",
       "    .dataframe tbody tr th {\n",
       "        vertical-align: top;\n",
       "    }\n",
       "\n",
       "    .dataframe thead th {\n",
       "        text-align: right;\n",
       "    }\n",
       "</style>\n",
       "<table border=\"1\" class=\"dataframe\">\n",
       "  <thead>\n",
       "    <tr style=\"text-align: right;\">\n",
       "      <th></th>\n",
       "      <th>data</th>\n",
       "      <th>file_name</th>\n",
       "      <th>label</th>\n",
       "    </tr>\n",
       "  </thead>\n",
       "  <tbody>\n",
       "    <tr>\n",
       "      <th>0</th>\n",
       "      <td>[-3.2772932e-05, -7.182783e-05, -5.9236434e-05...</td>\n",
       "      <td>454.wav</td>\n",
       "      <td>3</td>\n",
       "    </tr>\n",
       "    <tr>\n",
       "      <th>1</th>\n",
       "      <td>[-5.452518e-05, -9.22947e-05, -0.00010464665, ...</td>\n",
       "      <td>566.wav</td>\n",
       "      <td>5</td>\n",
       "    </tr>\n",
       "    <tr>\n",
       "      <th>2</th>\n",
       "      <td>[-0.0003841589, -0.00062216586, -0.00053581083...</td>\n",
       "      <td>173.wav</td>\n",
       "      <td>3</td>\n",
       "    </tr>\n",
       "    <tr>\n",
       "      <th>3</th>\n",
       "      <td>[-0.0003681986, -0.0006039656, -0.0005450903, ...</td>\n",
       "      <td>583.wav</td>\n",
       "      <td>6</td>\n",
       "    </tr>\n",
       "    <tr>\n",
       "      <th>4</th>\n",
       "      <td>[-0.00013396672, -0.0002302016, -0.00017955233...</td>\n",
       "      <td>589.wav</td>\n",
       "      <td>0</td>\n",
       "    </tr>\n",
       "  </tbody>\n",
       "</table>\n",
       "</div>"
      ],
      "text/plain": [
       "                                                data file_name  label\n",
       "0  [-3.2772932e-05, -7.182783e-05, -5.9236434e-05...   454.wav      3\n",
       "1  [-5.452518e-05, -9.22947e-05, -0.00010464665, ...   566.wav      5\n",
       "2  [-0.0003841589, -0.00062216586, -0.00053581083...   173.wav      3\n",
       "3  [-0.0003681986, -0.0006039656, -0.0005450903, ...   583.wav      6\n",
       "4  [-0.00013396672, -0.0002302016, -0.00017955233...   589.wav      0"
      ]
     },
     "execution_count": 24,
     "metadata": {},
     "output_type": "execute_result"
    }
   ],
   "source": [
    "test_wav.head()"
   ]
  },
  {
   "cell_type": "code",
   "execution_count": 28,
   "id": "ae3e986b-9c5d-40e9-806e-7ae5cd7c2929",
   "metadata": {},
   "outputs": [
    {
     "data": {
      "text/html": [
       "<div>\n",
       "<style scoped>\n",
       "    .dataframe tbody tr th:only-of-type {\n",
       "        vertical-align: middle;\n",
       "    }\n",
       "\n",
       "    .dataframe tbody tr th {\n",
       "        vertical-align: top;\n",
       "    }\n",
       "\n",
       "    .dataframe thead th {\n",
       "        text-align: right;\n",
       "    }\n",
       "</style>\n",
       "<table border=\"1\" class=\"dataframe\">\n",
       "  <thead>\n",
       "    <tr style=\"text-align: right;\">\n",
       "      <th></th>\n",
       "      <th>file_name</th>\n",
       "      <th>label</th>\n",
       "    </tr>\n",
       "  </thead>\n",
       "  <tbody>\n",
       "    <tr>\n",
       "      <th>0</th>\n",
       "      <td>003.wav</td>\n",
       "      <td>0</td>\n",
       "    </tr>\n",
       "    <tr>\n",
       "      <th>1</th>\n",
       "      <td>008.wav</td>\n",
       "      <td>9</td>\n",
       "    </tr>\n",
       "    <tr>\n",
       "      <th>2</th>\n",
       "      <td>010.wav</td>\n",
       "      <td>3</td>\n",
       "    </tr>\n",
       "    <tr>\n",
       "      <th>3</th>\n",
       "      <td>015.wav</td>\n",
       "      <td>3</td>\n",
       "    </tr>\n",
       "    <tr>\n",
       "      <th>4</th>\n",
       "      <td>024.wav</td>\n",
       "      <td>2</td>\n",
       "    </tr>\n",
       "  </tbody>\n",
       "</table>\n",
       "</div>"
      ],
      "text/plain": [
       "  file_name  label\n",
       "0   003.wav      0\n",
       "1   008.wav      9\n",
       "2   010.wav      3\n",
       "3   015.wav      3\n",
       "4   024.wav      2"
      ]
     },
     "execution_count": 28,
     "metadata": {},
     "output_type": "execute_result"
    }
   ],
   "source": [
    "testset = test_wav[['file_name', 'label']]\n",
    "\n",
    "pred_df = testset.copy()\n",
    "pred_df = pred_df.sort_values(by=[pred_df.columns[0]], ascending=[True]).reset_index(drop=True)\n",
    "pred_df.head()"
   ]
  },
  {
   "cell_type": "markdown",
   "id": "b1ceed5a-2a13-43c0-9c43-b424420eb8f3",
   "metadata": {},
   "source": [
    "## 제출하기\n",
    "\n",
    "submission에 예측한 값 preds를 넣어줍시다."
   ]
  },
  {
   "cell_type": "code",
   "execution_count": 29,
   "id": "a8e7de5d-e880-4205-9279-32aa947287b8",
   "metadata": {},
   "outputs": [
    {
     "data": {
      "text/html": [
       "<div>\n",
       "<style scoped>\n",
       "    .dataframe tbody tr th:only-of-type {\n",
       "        vertical-align: middle;\n",
       "    }\n",
       "\n",
       "    .dataframe tbody tr th {\n",
       "        vertical-align: top;\n",
       "    }\n",
       "\n",
       "    .dataframe thead th {\n",
       "        text-align: right;\n",
       "    }\n",
       "</style>\n",
       "<table border=\"1\" class=\"dataframe\">\n",
       "  <thead>\n",
       "    <tr style=\"text-align: right;\">\n",
       "      <th></th>\n",
       "      <th>file_name</th>\n",
       "      <th>label</th>\n",
       "    </tr>\n",
       "  </thead>\n",
       "  <tbody>\n",
       "    <tr>\n",
       "      <th>0</th>\n",
       "      <td>003.wav</td>\n",
       "      <td>0</td>\n",
       "    </tr>\n",
       "    <tr>\n",
       "      <th>1</th>\n",
       "      <td>008.wav</td>\n",
       "      <td>9</td>\n",
       "    </tr>\n",
       "    <tr>\n",
       "      <th>2</th>\n",
       "      <td>010.wav</td>\n",
       "      <td>3</td>\n",
       "    </tr>\n",
       "    <tr>\n",
       "      <th>3</th>\n",
       "      <td>015.wav</td>\n",
       "      <td>3</td>\n",
       "    </tr>\n",
       "    <tr>\n",
       "      <th>4</th>\n",
       "      <td>024.wav</td>\n",
       "      <td>2</td>\n",
       "    </tr>\n",
       "  </tbody>\n",
       "</table>\n",
       "</div>"
      ],
      "text/plain": [
       "  file_name  label\n",
       "0   003.wav      0\n",
       "1   008.wav      9\n",
       "2   010.wav      3\n",
       "3   015.wav      3\n",
       "4   024.wav      2"
      ]
     },
     "execution_count": 29,
     "metadata": {},
     "output_type": "execute_result"
    }
   ],
   "source": [
    "submission = pd.read_csv('data/sample_submission.csv')\n",
    "submission['label'] = pred_df['label']\n",
    "submission.head()"
   ]
  },
  {
   "cell_type": "markdown",
   "id": "221536c2-f2e3-47d8-9a13-7bf0834b0f85",
   "metadata": {},
   "source": [
    "값이 배열안에 정상적으로 잘 들어간 것을 확인할 수 있습니다."
   ]
  },
  {
   "cell_type": "markdown",
   "id": "01270ebc-9757-417c-9b95-c9f25c6255a8",
   "metadata": {},
   "source": [
    "submission을 csv 파일로 저장합니다.   \n",
    "\n",
    "index=False란 추가적인 id를 부여할 필요가 없다는 뜻입니다.   \n",
    "\n",
    "정확한 채점을 위해 꼭 index=False를 넣어주세요."
   ]
  },
  {
   "cell_type": "code",
   "execution_count": 30,
   "id": "05b1d22d-a703-40a9-901c-ad56d49203f3",
   "metadata": {},
   "outputs": [],
   "source": [
    "submission.to_csv('data/saved/submit.csv', index=False)"
   ]
  },
  {
   "cell_type": "markdown",
   "id": "6dc61c46-4145-4bdd-80cc-eeaffecec9a4",
   "metadata": {},
   "source": [
    "이렇게 생성된 submit.csv 파일을 데이콘 대회 페이지에 업로드 & 제출하여 결과를 확인해보세요!\n",
    "\n",
    "문제를 해결하기 위한 여러분의 방법을 코드 공유 게시판에 공유해주세요\n",
    "\n",
    "좋아요와 댓글을 합산하여 가장 높은 점수를 얻으신 분께 데이콘 후드가 제공됩니다!"
   ]
  }
 ],
 "metadata": {
  "kernelspec": {
   "display_name": "sesang",
   "language": "python",
   "name": "sesang"
  },
  "language_info": {
   "codemirror_mode": {
    "name": "ipython",
    "version": 3
   },
   "file_extension": ".py",
   "mimetype": "text/x-python",
   "name": "python",
   "nbconvert_exporter": "python",
   "pygments_lexer": "ipython3",
   "version": "3.10.4"
  }
 },
 "nbformat": 4,
 "nbformat_minor": 5
}
